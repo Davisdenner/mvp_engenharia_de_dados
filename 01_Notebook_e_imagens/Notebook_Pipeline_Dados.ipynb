{
 "cells": [
  {
   "cell_type": "markdown",
   "metadata": {
    "application/vnd.databricks.v1+cell": {
     "cellMetadata": {
      "byteLimit": 2048000,
      "rowLimit": 10000
     },
     "inputWidgets": {},
     "nuid": "d68d6402-730e-44c7-9f1c-69732d71c272",
     "showTitle": false,
     "tableResultSettingsMap": {},
     "title": ""
    }
   },
   "source": [
    "# Educação e sucesso profissional.\n",
    "\n",
    "A pipeline de dados construída para esse projeto foi inspirada no arquivo [Education & Career Success](https://www.kaggle.com/datasets/adilshamim8/education-and-career-success) extraído do Kaggle. O arquivo que inicialmente continha apenas uma tabela foi fragmentado em três tabelas distintas para uma melhor análise e compreensão dos dados. Quanto às transformações e formatações, esses permanecem iguais aos dados originais.\n",
    "\n",
    "<img src=\"MVP_imagem_dataset.jpg\" width=\"800\">\n",
    "\n",
    "\n",
    "\n",
    "\n",
    "\n",
    "\n"
   ]
  },
  {
   "cell_type": "markdown",
   "metadata": {
    "application/vnd.databricks.v1+cell": {
     "cellMetadata": {
      "byteLimit": 2048000,
      "rowLimit": 10000
     },
     "inputWidgets": {},
     "nuid": "9f860c70-19ef-49c7-a093-7fbc7a6983d6",
     "showTitle": false,
     "tableResultSettingsMap": {},
     "title": ""
    }
   },
   "source": [
    "####**Objetivo**: Explorar a relação entre o desempenho acadêmico e o sucesso profissional de estudantes que moram nos Estados Unidos (EUA). Ao final dessa análise é esperado que seja possível responder todas as perguntas localiazadas logo abaixo.\n",
    "\n",
    "- Estudantes de universidades mais bem classificadas (university_ranking) ganham salários iniciais mais altos?\n",
    "- Quais fatores mais contribuem para um crescimento rápido na carreira (years_to_promotion)?\n",
    "- Estudantes de certas áreas (field_of_study) tem mais oportunidades de emprego do que outras?\n",
    "- O número de estágios concluídos (interships_completed) tem impacto no salário inicial?\n",
    "- Estudantes com pontuação alta em networking (networking_score) recebem mais ofertas de emprego?\n"
   ]
  },
  {
   "cell_type": "markdown",
   "metadata": {
    "application/vnd.databricks.v1+cell": {
     "cellMetadata": {},
     "inputWidgets": {},
     "nuid": "7c97bab7-27fd-41e2-91e4-6a9dc5b8ddf8",
     "showTitle": false,
     "tableResultSettingsMap": {},
     "title": ""
    }
   },
   "source": [
    "#Descrição das colunas e dos dados numéricos e categóricos.\n",
    "\n",
    "## Informações do estudante\n",
    "\n",
    "- **Student_ID:** Identificador único para cada estudante;\n",
    "- **Age:** Idade do estudante (18-30 anos);\n",
    "- **Gender:** Gênero ( Masculino, Feminino ou Outro);\n",
    "\n",
    "## Desempenho acadêmico\n",
    "\n",
    "- **High_School_GPA:** Média escolar do ensino médio (escala de 2.0 - 4.0);\n",
    "- **SAT_Score:** Pontuação no teste padronizado (900 - 1600);\n",
    "- **University_Ranking:** Ranking da universidade frequentada (1-1000);\n",
    "- **University_GPA:** Média acadêmica na universidade (escala de 2.0 - 4.0);\n",
    "- **Field_of_Study:** Área de estudo (Ciência da Computação, Medicina, Administração/Negócios, Artes, Direito, Engenharia, Matemática);\n",
    "\n",
    "## Habilidades e atividades extracurriculares\n",
    "\n",
    "- **Internships_Completed:** – Número de estágios concluídos (0-4);\n",
    "- **Projects_Completed:** – Número de projetos acadêmicos ou pessoais concluídos (0-9);\n",
    "- **Certifications:** – Número de certificações adicionais obtidas (0-5);\n",
    "- **Soft_Skills_Score:** – Avaliação das habilidades interpessoais (1-10);\n",
    "- **Networking_Score:** Pontuação baseada em conexões e networking profissional (1-10);\n",
    "\n",
    "## Resultados profissionais\n",
    "\n",
    "- **Job_Offers:** Número de ofertas de emprego recebidas após a graduação (0-5);\n",
    "- **Starting_Salary:** Salário inicial (anual) no primeiro emprego em dólares americanos (25.000 - 150.000);\n",
    "- **Career_Satisfaction:** Nível de satisfação com a carreira (1-10);\n",
    "- **Years_to_Promotion:** Tempo necessário para receber a primeira promoção (1-5 anos);\n",
    "- **Current_Job_Level:** Nível de carreira atual (Júnior, Pleno, Sênior, Executivo);\n",
    "- **Work_Life_Balance:** Avaliação do equilíbrio entre trabalho e vida pessoal (1-10);\n",
    "- **Entrepreneurship:** Indica se a pessoa iniciou um negócio próprio (Sim/Não).\n",
    "\n",
    "\n",
    "\n",
    "\n"
   ]
  },
  {
   "cell_type": "markdown",
   "metadata": {
    "application/vnd.databricks.v1+cell": {
     "cellMetadata": {
      "byteLimit": 2048000,
      "rowLimit": 10000
     },
     "inputWidgets": {},
     "nuid": "53881e5f-e290-4142-9399-82e99c1ee2c6",
     "showTitle": false,
     "tableResultSettingsMap": {},
     "title": ""
    }
   },
   "source": [
    "# Modelagem dos dados em Esquema Estrela\n",
    "\n",
    "<img src=\"Esquema_Estrela_MVP._.jpg\" width=\"800\">"
   ]
  },
  {
   "cell_type": "markdown",
   "metadata": {
    "application/vnd.databricks.v1+cell": {
     "cellMetadata": {
      "byteLimit": 2048000,
      "rowLimit": 10000
     },
     "inputWidgets": {},
     "nuid": "60b2b33e-dacd-4d5b-9912-9b56608a9e33",
     "showTitle": false,
     "tableResultSettingsMap": {},
     "title": ""
    }
   },
   "source": [
    "#Carregamento dos dados originais"
   ]
  },
  {
   "cell_type": "markdown",
   "metadata": {
    "application/vnd.databricks.v1+cell": {
     "cellMetadata": {
      "byteLimit": 2048000,
      "rowLimit": 10000
     },
     "inputWidgets": {},
     "nuid": "db95128c-aeb8-429d-910c-e2340537debf",
     "showTitle": false,
     "tableResultSettingsMap": {},
     "title": ""
    }
   },
   "source": [
    "###Usando o Spark e o Pandas para carregar todos os dados da tabela original diretamente do GitHub"
   ]
  },
  {
   "cell_type": "code",
   "execution_count": 0,
   "metadata": {
    "application/vnd.databricks.v1+cell": {
     "cellMetadata": {
      "byteLimit": 2048000,
      "rowLimit": 10000
     },
     "inputWidgets": {},
     "nuid": "50498fc4-18fa-4024-b24b-1accf9a2c1f3",
     "showTitle": false,
     "tableResultSettingsMap": {},
     "title": ""
    }
   },
   "outputs": [],
   "source": [
    "%python\n",
    "import pandas as pd\n",
    "from pyspark.sql import SparkSession\n",
    "\n",
    "\n",
    "spark = SparkSession.builder.appName(\"LoadGitHubCSV\").getOrCreate()\n",
    "\n",
    "\n",
    "github_url = \"https://raw.githubusercontent.com/Davisdenner/mvp_engenharia_de_dados/refs/heads/main/Arquivos%20utilizados/education_career_success.csv\"\n",
    "\n",
    "\n",
    "df_pandas = pd.read_csv(github_url)\n",
    "\n",
    "df_spark = spark.createDataFrame(df_pandas)\n",
    "\n",
    "spark.sql(\"DROP TABLE IF EXISTS education_career_success\")\n",
    "\n",
    "df_spark.write.format(\"delta\").mode(\"overwrite\").saveAsTable(\"education_career_success\")\n",
    "\n",
    "print(\" Dados carregados com sucesso no Databricks!\")\n",
    "\n"
   ]
  },
  {
   "cell_type": "markdown",
   "metadata": {
    "application/vnd.databricks.v1+cell": {
     "cellMetadata": {
      "byteLimit": 2048000,
      "rowLimit": 10000
     },
     "inputWidgets": {},
     "nuid": "d391b763-599c-4dfd-8b84-07ea2a1f9f17",
     "showTitle": false,
     "tableResultSettingsMap": {},
     "title": ""
    }
   },
   "source": [
    "###Visualizando a tabela original \"education_carrer_success\""
   ]
  },
  {
   "cell_type": "code",
   "execution_count": 0,
   "metadata": {
    "application/vnd.databricks.v1+cell": {
     "cellMetadata": {
      "byteLimit": 2048000,
      "rowLimit": 10000
     },
     "inputWidgets": {},
     "nuid": "59368b1d-4ae3-4b30-b742-9734911526a3",
     "showTitle": false,
     "tableResultSettingsMap": {},
     "title": ""
    }
   },
   "outputs": [],
   "source": [
    "SELECT * FROM education_career_success;"
   ]
  },
  {
   "cell_type": "markdown",
   "metadata": {
    "application/vnd.databricks.v1+cell": {
     "cellMetadata": {},
     "inputWidgets": {},
     "nuid": "01447d2f-dbc6-4bb6-8f27-daf1530732c3",
     "showTitle": false,
     "tableResultSettingsMap": {},
     "title": ""
    }
   },
   "source": [
    "<img src=\"Tabela _ education_carreer_success.png\" width=\"1000\">"
   ]
  },
  {
   "cell_type": "markdown",
   "metadata": {
    "application/vnd.databricks.v1+cell": {
     "cellMetadata": {
      "byteLimit": 2048000,
      "rowLimit": 10000
     },
     "inputWidgets": {},
     "nuid": "4bec6d30-a976-4959-9e85-5e4b1c182acf",
     "showTitle": false,
     "tableResultSettingsMap": {},
     "title": ""
    }
   },
   "source": [
    "##Fragmentando a tabela original em três tabelas distintas:\n",
    "- education_info;\n",
    "- experience_info;\n",
    "- carrer_info."
   ]
  },
  {
   "cell_type": "markdown",
   "metadata": {
    "application/vnd.databricks.v1+cell": {
     "cellMetadata": {
      "byteLimit": 2048000,
      "rowLimit": 10000
     },
     "inputWidgets": {},
     "nuid": "ec5ccf2d-09fe-47c3-8700-09adf82abeb7",
     "showTitle": false,
     "tableResultSettingsMap": {},
     "title": ""
    }
   },
   "source": [
    "##Catálogo das colunas utlizadas na tabela \"education_info\"\n",
    "\n",
    "- **Student_ID**: Identificação única do estudante;\n",
    "- **Age**: Idade do estudante (18-30);\n",
    "- **Gender**: Gênero do estudante (Masculino, Feminino ou Outro);\n",
    "- **High_School_GPA**: Média no ensino médio (escala de 2.0 - 4.0);\n",
    "- **SAT_Score**: Pontuação no SAT (900 - 1600);\n",
    "- **University_Ranking**: Ranking da universidade frequentada (1 - 1000);\n",
    "- **University_GPA**: Média na universidade (escala de 2.0 - 4.0);\n",
    "- **Field_of_Study**: Área de estudo (Ciência da Computação, Medicina, Administração/Negócios, Artes, Direito, Engenharia, Matemática).\n",
    "\n"
   ]
  },
  {
   "cell_type": "code",
   "execution_count": 0,
   "metadata": {
    "application/vnd.databricks.v1+cell": {
     "cellMetadata": {
      "byteLimit": 2048000,
      "rowLimit": 10000
     },
     "inputWidgets": {},
     "nuid": "168d58a8-43dc-4005-87ea-b587a9b9d4ba",
     "showTitle": false,
     "tableResultSettingsMap": {},
     "title": ""
    }
   },
   "outputs": [],
   "source": [
    "CREATE TABLE IF NOT EXISTS education_info (\n",
    "    Student_ID VARCHAR(50) PRIMARY KEY,\n",
    "    Age INT,\n",
    "    Gender VARCHAR(10),\n",
    "    High_School_GPA FLOAT,\n",
    "    SAT_Score INT,\n",
    "    University_Ranking INT,\n",
    "    University_GPA FLOAT,\n",
    "    Field_of_Study VARCHAR(100)\n",
    ");\n",
    "\n",
    "   "
   ]
  },
  {
   "cell_type": "code",
   "execution_count": 0,
   "metadata": {
    "application/vnd.databricks.v1+cell": {
     "cellMetadata": {
      "byteLimit": 2048000,
      "rowLimit": 10000
     },
     "inputWidgets": {},
     "nuid": "babd2351-b2e4-4d22-a536-07f7e8da206c",
     "showTitle": false,
     "tableResultSettingsMap": {},
     "title": ""
    }
   },
   "outputs": [],
   "source": [
    "INSERT INTO education_info (Student_ID, Age, Gender, High_School_GPA, SAT_Score, University_Ranking, University_GPA, Field_of_Study)\n",
    "SELECT \n",
    "    Student_ID,\n",
    "    Age,\n",
    "    Gender,\n",
    "    High_School_GPA,\n",
    "    SAT_Score,\n",
    "    University_Ranking,\n",
    "    University_GPA,\n",
    "    Field_of_Study\n",
    "FROM education_career_success;\n"
   ]
  },
  {
   "cell_type": "markdown",
   "metadata": {
    "application/vnd.databricks.v1+cell": {
     "cellMetadata": {
      "byteLimit": 2048000,
      "rowLimit": 10000
     },
     "inputWidgets": {},
     "nuid": "f22c8b3a-680a-41bf-bbc9-84499f2991ab",
     "showTitle": false,
     "tableResultSettingsMap": {},
     "title": ""
    }
   },
   "source": [
    "%md\n",
    "###Visualizando a tabela \"education_info\""
   ]
  },
  {
   "cell_type": "code",
   "execution_count": 0,
   "metadata": {
    "application/vnd.databricks.v1+cell": {
     "cellMetadata": {
      "byteLimit": 2048000,
      "rowLimit": 10000
     },
     "inputWidgets": {},
     "nuid": "a25f0b0d-4cc4-4011-b48f-702541907618",
     "showTitle": false,
     "tableResultSettingsMap": {},
     "title": ""
    }
   },
   "outputs": [],
   "source": [
    "SELECT*FROM education_info;"
   ]
  },
  {
   "cell_type": "markdown",
   "metadata": {
    "application/vnd.databricks.v1+cell": {
     "cellMetadata": {},
     "inputWidgets": {},
     "nuid": "26dbba24-11ce-4c62-9dac-5daf37243b8d",
     "showTitle": false,
     "tableResultSettingsMap": {},
     "title": ""
    }
   },
   "source": [
    "<img src=\"Tabela _ education_info.png\" width=\"1000\">"
   ]
  },
  {
   "cell_type": "markdown",
   "metadata": {
    "application/vnd.databricks.v1+cell": {
     "cellMetadata": {
      "byteLimit": 2048000,
      "rowLimit": 10000
     },
     "inputWidgets": {},
     "nuid": "5d90ad5b-fe7b-4f96-ac58-8455d4068467",
     "showTitle": false,
     "tableResultSettingsMap": {},
     "title": ""
    }
   },
   "source": [
    "##Catálogo das colunas utlizadas na tabela \"experience_info\"\n",
    "\n",
    "- **Student_ID**: Identificação única do estudante;\n",
    "- **Internships_Completed**: Número de estágios concluídos (0-4);\n",
    "- **Projects_Completed**: Número de projetos concluídos (0-9);\n",
    "- **Certifications**: Número de certificações obtidas (0-5);\n",
    "- **Soft_Skills_Score**: Avaliação de habilidades interpessoais (1-10);\n",
    "- **Networking_Score**: Avaliação de networking (1-10).\n"
   ]
  },
  {
   "cell_type": "code",
   "execution_count": 0,
   "metadata": {
    "application/vnd.databricks.v1+cell": {
     "cellMetadata": {
      "byteLimit": 2048000,
      "rowLimit": 10000
     },
     "inputWidgets": {},
     "nuid": "6c2a9dd4-a8d2-4697-a4c3-074bc69104f9",
     "showTitle": false,
     "tableResultSettingsMap": {},
     "title": ""
    }
   },
   "outputs": [],
   "source": [
    "CREATE TABLE IF NOT EXISTS experience_info (\n",
    "    Student_ID VARCHAR(50),\n",
    "    Internships_Completed INT,\n",
    "    Projects_Completed INT,\n",
    "    Certifications INT,\n",
    "    Soft_Skills_Score INT,\n",
    "    Networking_Score INT,\n",
    "    CONSTRAINT fk_experience_student FOREIGN KEY (Student_ID) REFERENCES education_info(Student_ID)\n",
    ");\n"
   ]
  },
  {
   "cell_type": "code",
   "execution_count": 0,
   "metadata": {
    "application/vnd.databricks.v1+cell": {
     "cellMetadata": {
      "byteLimit": 2048000,
      "rowLimit": 10000
     },
     "inputWidgets": {},
     "nuid": "69c3bad6-90b5-409c-9738-f321c6818bbf",
     "showTitle": false,
     "tableResultSettingsMap": {},
     "title": ""
    }
   },
   "outputs": [],
   "source": [
    "INSERT INTO experience_info (Student_ID, Internships_Completed, Projects_Completed, Certifications, Soft_Skills_Score, Networking_Score)\n",
    "SELECT \n",
    "    Student_ID,\n",
    "    Internships_Completed,\n",
    "    Projects_Completed,\n",
    "    Certifications,\n",
    "    Soft_Skills_Score,\n",
    "    Networking_Score\n",
    "FROM education_career_success;\n"
   ]
  },
  {
   "cell_type": "markdown",
   "metadata": {
    "application/vnd.databricks.v1+cell": {
     "cellMetadata": {
      "byteLimit": 2048000,
      "rowLimit": 10000
     },
     "inputWidgets": {},
     "nuid": "7252d763-c42f-4249-83f9-dc79deb2e670",
     "showTitle": false,
     "tableResultSettingsMap": {},
     "title": ""
    }
   },
   "source": [
    "###Visualizando a tabela \"experience_info\""
   ]
  },
  {
   "cell_type": "code",
   "execution_count": 0,
   "metadata": {
    "application/vnd.databricks.v1+cell": {
     "cellMetadata": {
      "byteLimit": 2048000,
      "rowLimit": 10000
     },
     "inputWidgets": {},
     "nuid": "19f9e1a7-32b3-4468-9ac0-7ed5c2f9bcfc",
     "showTitle": false,
     "tableResultSettingsMap": {},
     "title": ""
    }
   },
   "outputs": [],
   "source": [
    "SELECT*FROM experience_info;"
   ]
  },
  {
   "cell_type": "markdown",
   "metadata": {
    "application/vnd.databricks.v1+cell": {
     "cellMetadata": {},
     "inputWidgets": {},
     "nuid": "35a41b7c-eeab-484e-9a6f-914481ab3f91",
     "showTitle": false,
     "tableResultSettingsMap": {},
     "title": ""
    }
   },
   "source": [
    "<img src=\"Tabela _ experience_info.png\" width=\"1000\">"
   ]
  },
  {
   "cell_type": "markdown",
   "metadata": {
    "application/vnd.databricks.v1+cell": {
     "cellMetadata": {
      "byteLimit": 2048000,
      "rowLimit": 10000
     },
     "inputWidgets": {},
     "nuid": "e74fbff4-35bb-4b94-a0ec-409de45bb3af",
     "showTitle": false,
     "tableResultSettingsMap": {},
     "title": ""
    }
   },
   "source": [
    "###Catálogo das colunas utlizadas na tabela \"career_info\"\n",
    "\n",
    "- **Student_ID**: Identificação única do estudante;\n",
    "- **Job_Offers**: Número de ofertas de emprego recebidas após a graduação (0-5);\n",
    "- **Starting_Salary**: Salário inicial (anual) no primeiro emprego em dólares americanos (25000 - 150000);\n",
    "- **Career_Satisfaction**: Nível de satisfação com a carreira (escala de 1 a 10);\n",
    "- **Years_to_Promotion**: Tempo necessário para receber a primeira promoção (1-5 anos);\n",
    "- **Current_Job_Level**: Nível de carreira atual (Entry, Mid, Senior, Executive);\n",
    "- **Work_Life_Balance**: Equilíbrio entre trabalho e vida pessoal (escala de 1 a 10);\n",
    "- **Entrepreneurship**: Indica se a pessoa iniciou um negócio (Yes ou No)."
   ]
  },
  {
   "cell_type": "code",
   "execution_count": 0,
   "metadata": {
    "application/vnd.databricks.v1+cell": {
     "cellMetadata": {
      "byteLimit": 2048000,
      "rowLimit": 10000
     },
     "inputWidgets": {},
     "nuid": "9efda626-a1e4-4113-b923-4511cd177aac",
     "showTitle": false,
     "tableResultSettingsMap": {},
     "title": ""
    }
   },
   "outputs": [],
   "source": [
    "CREATE TABLE IF NOT EXISTS career_info (\n",
    "    Student_ID VARCHAR(50),\n",
    "    Job_Offers INT,\n",
    "    Starting_Salary FLOAT,\n",
    "    Career_Satisfaction INT,\n",
    "    Years_to_Promotion INT,\n",
    "    Current_Job_Level VARCHAR(50),\n",
    "    Work_Life_Balance INT,\n",
    "    Entrepreneurship VARCHAR(50),\n",
    "    CONSTRAINT fk_career_student FOREIGN KEY (Student_ID) REFERENCES education_info(Student_ID)\n",
    ");\n",
    "\n",
    "\n",
    "   "
   ]
  },
  {
   "cell_type": "code",
   "execution_count": 0,
   "metadata": {
    "application/vnd.databricks.v1+cell": {
     "cellMetadata": {
      "byteLimit": 2048000,
      "rowLimit": 10000
     },
     "inputWidgets": {},
     "nuid": "392297b6-162f-4d60-ad43-f0d7348840b9",
     "showTitle": false,
     "tableResultSettingsMap": {},
     "title": ""
    }
   },
   "outputs": [],
   "source": [
    "INSERT INTO career_info (Student_ID, Job_Offers, Starting_Salary, Career_Satisfaction, Years_to_Promotion, Current_Job_Level, Work_Life_Balance, Entrepreneurship)\n",
    "SELECT \n",
    "    Student_ID,\n",
    "    Job_Offers,\n",
    "    Starting_Salary,\n",
    "    Career_Satisfaction,\n",
    "    Years_to_Promotion,\n",
    "    Current_Job_Level,\n",
    "    Work_Life_Balance,\n",
    "    Entrepreneurship\n",
    "FROM education_career_success;\n"
   ]
  },
  {
   "cell_type": "markdown",
   "metadata": {
    "application/vnd.databricks.v1+cell": {
     "cellMetadata": {
      "byteLimit": 2048000,
      "rowLimit": 10000
     },
     "inputWidgets": {},
     "nuid": "e3a67a2e-af38-43cc-b59e-5b1b0c15945a",
     "showTitle": false,
     "tableResultSettingsMap": {},
     "title": ""
    }
   },
   "source": [
    "###Visualizando a tabela \"carrer_info\""
   ]
  },
  {
   "cell_type": "code",
   "execution_count": 0,
   "metadata": {
    "application/vnd.databricks.v1+cell": {
     "cellMetadata": {
      "byteLimit": 2048000,
      "rowLimit": 10000
     },
     "inputWidgets": {},
     "nuid": "09467acb-cd95-4a3e-a810-7179a7692305",
     "showTitle": false,
     "tableResultSettingsMap": {},
     "title": ""
    }
   },
   "outputs": [],
   "source": [
    "SELECT*FROM career_info;"
   ]
  },
  {
   "cell_type": "markdown",
   "metadata": {
    "application/vnd.databricks.v1+cell": {
     "cellMetadata": {},
     "inputWidgets": {},
     "nuid": "ee46f18b-de87-4a55-8698-547b9d8f62a5",
     "showTitle": false,
     "tableResultSettingsMap": {},
     "title": ""
    }
   },
   "source": [
    "<img src=\"Tabela _ career_info.png\" width=\"1000\">"
   ]
  },
  {
   "cell_type": "code",
   "execution_count": 0,
   "metadata": {
    "application/vnd.databricks.v1+cell": {
     "cellMetadata": {
      "byteLimit": 2048000,
      "rowLimit": 10000
     },
     "inputWidgets": {},
     "nuid": "808f5d21-ada2-422e-a540-ca9697e95ef0",
     "showTitle": false,
     "tableResultSettingsMap": {},
     "title": ""
    }
   },
   "outputs": [],
   "source": []
  }
 ],
 "metadata": {
  "application/vnd.databricks.v1+notebook": {
   "computePreferences": null,
   "dashboards": [],
   "environmentMetadata": {
    "base_environment": "",
    "environment_version": "2"
   },
   "language": "sql",
   "notebookMetadata": {
    "pythonIndentUnit": 4
   },
   "notebookName": "Notebook_Pipeline_Dados",
   "widgets": {}
  },
  "language_info": {
   "name": "sql"
  }
 },
 "nbformat": 4,
 "nbformat_minor": 0
}
