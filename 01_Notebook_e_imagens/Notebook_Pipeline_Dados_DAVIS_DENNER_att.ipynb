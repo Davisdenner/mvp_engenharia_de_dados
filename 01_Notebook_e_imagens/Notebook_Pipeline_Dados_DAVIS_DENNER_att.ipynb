{
 "cells": [
  {
   "cell_type": "markdown",
   "metadata": {
    "application/vnd.databricks.v1+cell": {
     "cellMetadata": {
      "byteLimit": 2048000,
      "rowLimit": 10000
     },
     "inputWidgets": {},
     "nuid": "d68d6402-730e-44c7-9f1c-69732d71c272",
     "showTitle": false,
     "tableResultSettingsMap": {},
     "title": ""
    }
   },
   "source": [
    "# Educação e sucesso profissional.\n",
    "\n",
    "\n",
    "A pipeline de dados construída para esse projeto foi inspirada no arquivo [Education & Career Success](https://www.kaggle.com/datasets/adilshamim8/education-and-career-success) extraído do Kaggle. O arquivo que inicialmente continha apenas uma tabela foi fragmentado em três tabelas distintas para uma melhor análise e compreensão dos dados. A qualidade dos dados foi verificada e, apesar das transformações e formatações realizadas, os dados permaneceram fiéis à versão original.\n",
    "\n",
    "\n",
    "\n",
    "<img src=\"MVP_imagem_dataset.jpg\" width=\"800\">\n",
    "\n",
    "\n",
    "\n",
    "\n",
    "\n",
    "\n"
   ]
  },
  {
   "cell_type": "markdown",
   "metadata": {
    "application/vnd.databricks.v1+cell": {
     "cellMetadata": {
      "byteLimit": 2048000,
      "rowLimit": 10000
     },
     "inputWidgets": {},
     "nuid": "9f860c70-19ef-49c7-a093-7fbc7a6983d6",
     "showTitle": false,
     "tableResultSettingsMap": {},
     "title": ""
    }
   },
   "source": [
    "####**Objetivo**: Explorar a relação entre o desempenho acadêmico e o sucesso profissional de estudantes que moram nos Estados Unidos (EUA). Ao final dessa análise é esperado que seja possível responder todas as perguntas localiazadas logo abaixo.\n",
    "\n",
    "- Estudantes de universidades mais bem classificadas (university_ranking) ganham salários iniciais mais altos?\n",
    "- Quais fatores mais contribuem para um crescimento rápido na carreira (years_to_promotion)?\n",
    "- Estudantes de certas áreas (field_of_study) tem mais oportunidades de emprego do que outras?\n",
    "- O número de estágios concluídos (interships_completed) tem impacto no salário inicial?\n",
    "- Estudantes com pontuação alta em networking (networking_score) recebem mais ofertas de emprego?\n"
   ]
  },
  {
   "cell_type": "markdown",
   "metadata": {
    "application/vnd.databricks.v1+cell": {
     "cellMetadata": {
      "byteLimit": 2048000,
      "rowLimit": 10000
     },
     "inputWidgets": {},
     "nuid": "7c97bab7-27fd-41e2-91e4-6a9dc5b8ddf8",
     "showTitle": false,
     "tableResultSettingsMap": {},
     "title": ""
    }
   },
   "source": [
    "#Descrição das colunas e dos dados numéricos e categóricos.\n",
    "\n",
    "## Informações do estudante\n",
    "\n",
    "- **Student_ID:** Identificador único para cada estudante;\n",
    "- **Age:** Idade do estudante (18-30 anos);\n",
    "- **Gender:** Gênero ( Masculino, Feminino ou Outro);\n",
    "\n",
    "## Desempenho acadêmico\n",
    "\n",
    "- **High_School_GPA:** Média escolar do ensino médio (escala de 2.0 - 4.0);\n",
    "- **SAT_Score:** Pontuação no teste padronizado (900 - 1600);\n",
    "- **University_Ranking:** Ranking da universidade frequentada (1-1000);\n",
    "- **University_GPA:** Média acadêmica na universidade (escala de 2.0 - 4.0);\n",
    "- **Field_of_Study:** Área de estudo (Ciência da Computação, Medicina, Administração/Negócios, Artes, Direito, Engenharia, Matemática);\n",
    "\n",
    "## Habilidades e atividades extracurriculares\n",
    "\n",
    "- **Internships_Completed:** – Número de estágios concluídos (0-4);\n",
    "- **Projects_Completed:** – Número de projetos acadêmicos ou pessoais concluídos (0-9);\n",
    "- **Certifications:** – Número de certificações adicionais obtidas (0-5);\n",
    "- **Soft_Skills_Score:** – Avaliação das habilidades interpessoais (1-10);\n",
    "- **Networking_Score:** Pontuação baseada em conexões e networking profissional (1-10);\n",
    "\n",
    "## Resultados profissionais\n",
    "\n",
    "- **Job_Offers:** Número de ofertas de emprego recebidas após a graduação (0-5);\n",
    "- **Starting_Salary:** Salário inicial (anual) no primeiro emprego em dólares americanos (25.000 - 101.000)\n",
    "- **Career_Satisfaction:** Nível de satisfação com a carreira (1-10);\n",
    "- **Years_to_Promotion:** Tempo necessário para receber a primeira promoção (1-5 anos);\n",
    "- **Current_Job_Level:** Nível de carreira atual (Júnior, Pleno, Sênior, Executivo);\n",
    "- **Work_Life_Balance:** Avaliação do equilíbrio entre trabalho e vida pessoal (1-10);\n",
    "- **Entrepreneurship:** Indica se a pessoa iniciou um negócio próprio (Sim/Não).\n",
    "\n",
    "\n",
    "\n",
    "\n"
   ]
  },
  {
   "cell_type": "markdown",
   "metadata": {
    "application/vnd.databricks.v1+cell": {
     "cellMetadata": {
      "byteLimit": 2048000,
      "rowLimit": 10000
     },
     "inputWidgets": {},
     "nuid": "53881e5f-e290-4142-9399-82e99c1ee2c6",
     "showTitle": false,
     "tableResultSettingsMap": {},
     "title": ""
    }
   },
   "source": [
    "# Modelagem dos dados em Esquema Estrela\n",
    "\n",
    "<img src=\"Esquema_Estrela_MVP._.jpg\" width=\"800\">"
   ]
  },
  {
   "cell_type": "markdown",
   "metadata": {
    "application/vnd.databricks.v1+cell": {
     "cellMetadata": {
      "byteLimit": 2048000,
      "rowLimit": 10000
     },
     "inputWidgets": {},
     "nuid": "8c400838-3fc1-4a4c-a9d6-f87bf3b6303a",
     "showTitle": false,
     "tableResultSettingsMap": {},
     "title": ""
    }
   },
   "source": [
    "#CAMADA BRONZE (DADOS BRUTOS)"
   ]
  },
  {
   "cell_type": "markdown",
   "metadata": {
    "application/vnd.databricks.v1+cell": {
     "cellMetadata": {
      "byteLimit": 2048000,
      "rowLimit": 10000
     },
     "inputWidgets": {},
     "nuid": "60b2b33e-dacd-4d5b-9912-9b56608a9e33",
     "showTitle": false,
     "tableResultSettingsMap": {},
     "title": ""
    }
   },
   "source": [
    "#Carregamento dos dados originais"
   ]
  },
  {
   "cell_type": "markdown",
   "metadata": {
    "application/vnd.databricks.v1+cell": {
     "cellMetadata": {
      "byteLimit": 2048000,
      "rowLimit": 10000
     },
     "inputWidgets": {},
     "nuid": "db95128c-aeb8-429d-910c-e2340537debf",
     "showTitle": false,
     "tableResultSettingsMap": {},
     "title": ""
    }
   },
   "source": [
    "###Utilizando o Spark e o Pandas para carregar todos os dados da tabela original diretamente do GitHub."
   ]
  },
  {
   "cell_type": "code",
   "execution_count": 0,
   "metadata": {
    "application/vnd.databricks.v1+cell": {
     "cellMetadata": {
      "byteLimit": 2048000,
      "rowLimit": 10000
     },
     "inputWidgets": {},
     "nuid": "50498fc4-18fa-4024-b24b-1accf9a2c1f3",
     "showTitle": false,
     "tableResultSettingsMap": {},
     "title": ""
    }
   },
   "outputs": [
    {
     "output_type": "stream",
     "name": "stdout",
     "output_type": "stream",
     "text": [
      " Dados carregados com sucesso no Databricks!\n"
     ]
    }
   ],
   "source": [
    "%python\n",
    "import pandas as pd\n",
    "from pyspark.sql import SparkSession\n",
    "\n",
    "\n",
    "spark = SparkSession.builder.appName(\"LoadGitHubCSV\").getOrCreate()\n",
    "\n",
    "\n",
    "github_url = \"https://raw.githubusercontent.com/Davisdenner/mvp_engenharia_de_dados/refs/heads/main/Arquivos%20utilizados/education_career_success.csv\"\n",
    "\n",
    "\n",
    "df_pandas = pd.read_csv(github_url)\n",
    "\n",
    "df_spark = spark.createDataFrame(df_pandas)\n",
    "\n",
    "spark.sql(\"DROP TABLE IF EXISTS education_career_success\")\n",
    "\n",
    "df_spark.write.format(\"delta\").mode(\"overwrite\").saveAsTable(\"education_career_success\")\n",
    "\n",
    "print(\" Dados carregados com sucesso no Databricks!\")\n",
    "\n"
   ]
  },
  {
   "cell_type": "markdown",
   "metadata": {
    "application/vnd.databricks.v1+cell": {
     "cellMetadata": {
      "byteLimit": 2048000,
      "rowLimit": 10000
     },
     "inputWidgets": {},
     "nuid": "d391b763-599c-4dfd-8b84-07ea2a1f9f17",
     "showTitle": false,
     "tableResultSettingsMap": {},
     "title": ""
    }
   },
   "source": [
    "###Visualizando a tabela original \"education_carrer_success\"."
   ]
  },
  {
   "cell_type": "code",
   "execution_count": 0,
   "metadata": {
    "application/vnd.databricks.v1+cell": {
     "cellMetadata": {
      "byteLimit": 2048000,
      "rowLimit": 10000
     },
     "inputWidgets": {},
     "nuid": "59368b1d-4ae3-4b30-b742-9734911526a3",
     "showTitle": false,
     "tableResultSettingsMap": {},
     "title": ""
    }
   },
   "outputs": [
    {
     "output_type": "display_data",
     "data": {
      "text/html": [
       "<style scoped>\n",
       "  .table-result-container {\n",
       "    max-height: 300px;\n",
       "    overflow: auto;\n",
       "  }\n",
       "  table, th, td {\n",
       "    border: 1px solid black;\n",
       "    border-collapse: collapse;\n",
       "  }\n",
       "  th, td {\n",
       "    padding: 5px;\n",
       "  }\n",
       "  th {\n",
       "    text-align: left;\n",
       "  }\n",
       "</style><div class='table-result-container'><table class='table-result'><thead style='background-color: white'><tr><th>Student_ID</th><th>Age</th><th>Gender</th><th>High_School_GPA</th><th>SAT_Score</th><th>University_Ranking</th><th>University_GPA</th><th>Field_of_Study</th><th>Internships_Completed</th><th>Projects_Completed</th><th>Certifications</th><th>Soft_Skills_Score</th><th>Networking_Score</th><th>Job_Offers</th><th>Starting_Salary</th><th>Career_Satisfaction</th><th>Years_to_Promotion</th><th>Current_Job_Level</th><th>Work_Life_Balance</th><th>Entrepreneurship</th></tr></thead><tbody><tr><td>S04001</td><td>22</td><td>Male</td><td>3.89</td><td>1300</td><td>402</td><td>3.64</td><td>Engineering</td><td>2</td><td>1</td><td>5</td><td>8</td><td>8</td><td>2</td><td>36900.0</td><td>9</td><td>2</td><td>Entry</td><td>7</td><td>No</td></tr><tr><td>S04002</td><td>23</td><td>Male</td><td>3.18</td><td>1361</td><td>604</td><td>3.85</td><td>Arts</td><td>4</td><td>3</td><td>2</td><td>3</td><td>7</td><td>5</td><td>52200.0</td><td>1</td><td>1</td><td>Entry</td><td>7</td><td>No</td></tr><tr><td>S04003</td><td>24</td><td>Male</td><td>2.69</td><td>1110</td><td>412</td><td>2.86</td><td>Arts</td><td>0</td><td>8</td><td>3</td><td>9</td><td>8</td><td>2</td><td>38300.0</td><td>5</td><td>3</td><td>Entry</td><td>6</td><td>No</td></tr><tr><td>S04004</td><td>29</td><td>Female</td><td>3.25</td><td>925</td><td>971</td><td>3.97</td><td>Medicine</td><td>0</td><td>0</td><td>4</td><td>7</td><td>1</td><td>0</td><td>59200.0</td><td>9</td><td>4</td><td>Entry</td><td>7</td><td>No</td></tr><tr><td>S04005</td><td>26</td><td>Male</td><td>3.82</td><td>1151</td><td>908</td><td>2.43</td><td>Business</td><td>2</td><td>1</td><td>1</td><td>7</td><td>6</td><td>1</td><td>35800.0</td><td>6</td><td>5</td><td>Mid</td><td>3</td><td>No</td></tr><tr><td>S04006</td><td>20</td><td>Female</td><td>2.55</td><td>902</td><td>448</td><td>3.43</td><td>Law</td><td>3</td><td>1</td><td>1</td><td>5</td><td>3</td><td>1</td><td>42300.0</td><td>4</td><td>5</td><td>Mid</td><td>7</td><td>No</td></tr><tr><td>S04007</td><td>19</td><td>Female</td><td>3.01</td><td>901</td><td>247</td><td>3.07</td><td>Business</td><td>1</td><td>8</td><td>2</td><td>3</td><td>5</td><td>4</td><td>48700.0</td><td>1</td><td>2</td><td>Mid</td><td>7</td><td>No</td></tr><tr><td>S04008</td><td>20</td><td>Male</td><td>3.92</td><td>1503</td><td>770</td><td>3.63</td><td>Arts</td><td>4</td><td>9</td><td>5</td><td>10</td><td>2</td><td>4</td><td>73000.0</td><td>10</td><td>5</td><td>Entry</td><td>9</td><td>No</td></tr><tr><td>S04009</td><td>29</td><td>Female</td><td>2.34</td><td>901</td><td>699</td><td>2.95</td><td>Business</td><td>2</td><td>4</td><td>1</td><td>5</td><td>4</td><td>1</td><td>50500.0</td><td>6</td><td>1</td><td>Senior</td><td>2</td><td>No</td></tr><tr><td>S04010</td><td>26</td><td>Male</td><td>3.44</td><td>1049</td><td>421</td><td>3.57</td><td>Arts</td><td>1</td><td>3</td><td>5</td><td>3</td><td>6</td><td>2</td><td>80300.0</td><td>7</td><td>3</td><td>Senior</td><td>3</td><td>No</td></tr></tbody></table></div>"
      ]
     },
     "metadata": {
      "application/vnd.databricks.v1+output": {
       "addedWidgets": {},
       "aggData": [],
       "aggError": "",
       "aggOverflow": false,
       "aggSchema": [],
       "aggSeriesLimitReached": false,
       "aggType": "",
       "arguments": {},
       "columnCustomDisplayInfos": {},
       "data": [
        [
         "S04001",
         22,
         "Male",
         3.89,
         1300,
         402,
         3.64,
         "Engineering",
         2,
         1,
         5,
         8,
         8,
         2,
         36900.0,
         9,
         2,
         "Entry",
         7,
         "No"
        ],
        [
         "S04002",
         23,
         "Male",
         3.18,
         1361,
         604,
         3.85,
         "Arts",
         4,
         3,
         2,
         3,
         7,
         5,
         52200.0,
         1,
         1,
         "Entry",
         7,
         "No"
        ],
        [
         "S04003",
         24,
         "Male",
         2.69,
         1110,
         412,
         2.86,
         "Arts",
         0,
         8,
         3,
         9,
         8,
         2,
         38300.0,
         5,
         3,
         "Entry",
         6,
         "No"
        ],
        [
         "S04004",
         29,
         "Female",
         3.25,
         925,
         971,
         3.97,
         "Medicine",
         0,
         0,
         4,
         7,
         1,
         0,
         59200.0,
         9,
         4,
         "Entry",
         7,
         "No"
        ],
        [
         "S04005",
         26,
         "Male",
         3.82,
         1151,
         908,
         2.43,
         "Business",
         2,
         1,
         1,
         7,
         6,
         1,
         35800.0,
         6,
         5,
         "Mid",
         3,
         "No"
        ],
        [
         "S04006",
         20,
         "Female",
         2.55,
         902,
         448,
         3.43,
         "Law",
         3,
         1,
         1,
         5,
         3,
         1,
         42300.0,
         4,
         5,
         "Mid",
         7,
         "No"
        ],
        [
         "S04007",
         19,
         "Female",
         3.01,
         901,
         247,
         3.07,
         "Business",
         1,
         8,
         2,
         3,
         5,
         4,
         48700.0,
         1,
         2,
         "Mid",
         7,
         "No"
        ],
        [
         "S04008",
         20,
         "Male",
         3.92,
         1503,
         770,
         3.63,
         "Arts",
         4,
         9,
         5,
         10,
         2,
         4,
         73000.0,
         10,
         5,
         "Entry",
         9,
         "No"
        ],
        [
         "S04009",
         29,
         "Female",
         2.34,
         901,
         699,
         2.95,
         "Business",
         2,
         4,
         1,
         5,
         4,
         1,
         50500.0,
         6,
         1,
         "Senior",
         2,
         "No"
        ],
        [
         "S04010",
         26,
         "Male",
         3.44,
         1049,
         421,
         3.57,
         "Arts",
         1,
         3,
         5,
         3,
         6,
         2,
         80300.0,
         7,
         3,
         "Senior",
         3,
         "No"
        ]
       ],
       "datasetInfos": [
        {
         "name": "_sqldf",
         "schema": {
          "fields": [
           {
            "metadata": {},
            "name": "Student_ID",
            "nullable": true,
            "type": "string"
           },
           {
            "metadata": {},
            "name": "Age",
            "nullable": true,
            "type": "long"
           },
           {
            "metadata": {},
            "name": "Gender",
            "nullable": true,
            "type": "string"
           },
           {
            "metadata": {},
            "name": "High_School_GPA",
            "nullable": true,
            "type": "double"
           },
           {
            "metadata": {},
            "name": "SAT_Score",
            "nullable": true,
            "type": "long"
           },
           {
            "metadata": {},
            "name": "University_Ranking",
            "nullable": true,
            "type": "long"
           },
           {
            "metadata": {},
            "name": "University_GPA",
            "nullable": true,
            "type": "double"
           },
           {
            "metadata": {},
            "name": "Field_of_Study",
            "nullable": true,
            "type": "string"
           },
           {
            "metadata": {},
            "name": "Internships_Completed",
            "nullable": true,
            "type": "long"
           },
           {
            "metadata": {},
            "name": "Projects_Completed",
            "nullable": true,
            "type": "long"
           },
           {
            "metadata": {},
            "name": "Certifications",
            "nullable": true,
            "type": "long"
           },
           {
            "metadata": {},
            "name": "Soft_Skills_Score",
            "nullable": true,
            "type": "long"
           },
           {
            "metadata": {},
            "name": "Networking_Score",
            "nullable": true,
            "type": "long"
           },
           {
            "metadata": {},
            "name": "Job_Offers",
            "nullable": true,
            "type": "long"
           },
           {
            "metadata": {},
            "name": "Starting_Salary",
            "nullable": true,
            "type": "double"
           },
           {
            "metadata": {},
            "name": "Career_Satisfaction",
            "nullable": true,
            "type": "long"
           },
           {
            "metadata": {},
            "name": "Years_to_Promotion",
            "nullable": true,
            "type": "long"
           },
           {
            "metadata": {},
            "name": "Current_Job_Level",
            "nullable": true,
            "type": "string"
           },
           {
            "metadata": {},
            "name": "Work_Life_Balance",
            "nullable": true,
            "type": "long"
           },
           {
            "metadata": {},
            "name": "Entrepreneurship",
            "nullable": true,
            "type": "string"
           }
          ],
          "type": "struct"
         },
         "tableIdentifier": null,
         "typeStr": "pyspark.sql.connect.dataframe.DataFrame"
        }
       ],
       "dbfsResultPath": null,
       "isJsonSchema": true,
       "metadata": {
        "createTempViewForImplicitDf": true,
        "dataframeName": "_sqldf",
        "executionCount": 32
       },
       "overflow": false,
       "plotOptions": {
        "customPlotOptions": {},
        "displayType": "table",
        "pivotAggregation": null,
        "pivotColumns": null,
        "xColumns": null,
        "yColumns": null
       },
       "removedWidgets": [],
       "schema": [
        {
         "metadata": "{}",
         "name": "Student_ID",
         "type": "\"string\""
        },
        {
         "metadata": "{}",
         "name": "Age",
         "type": "\"long\""
        },
        {
         "metadata": "{}",
         "name": "Gender",
         "type": "\"string\""
        },
        {
         "metadata": "{}",
         "name": "High_School_GPA",
         "type": "\"double\""
        },
        {
         "metadata": "{}",
         "name": "SAT_Score",
         "type": "\"long\""
        },
        {
         "metadata": "{}",
         "name": "University_Ranking",
         "type": "\"long\""
        },
        {
         "metadata": "{}",
         "name": "University_GPA",
         "type": "\"double\""
        },
        {
         "metadata": "{}",
         "name": "Field_of_Study",
         "type": "\"string\""
        },
        {
         "metadata": "{}",
         "name": "Internships_Completed",
         "type": "\"long\""
        },
        {
         "metadata": "{}",
         "name": "Projects_Completed",
         "type": "\"long\""
        },
        {
         "metadata": "{}",
         "name": "Certifications",
         "type": "\"long\""
        },
        {
         "metadata": "{}",
         "name": "Soft_Skills_Score",
         "type": "\"long\""
        },
        {
         "metadata": "{}",
         "name": "Networking_Score",
         "type": "\"long\""
        },
        {
         "metadata": "{}",
         "name": "Job_Offers",
         "type": "\"long\""
        },
        {
         "metadata": "{}",
         "name": "Starting_Salary",
         "type": "\"double\""
        },
        {
         "metadata": "{}",
         "name": "Career_Satisfaction",
         "type": "\"long\""
        },
        {
         "metadata": "{}",
         "name": "Years_to_Promotion",
         "type": "\"long\""
        },
        {
         "metadata": "{}",
         "name": "Current_Job_Level",
         "type": "\"string\""
        },
        {
         "metadata": "{}",
         "name": "Work_Life_Balance",
         "type": "\"long\""
        },
        {
         "metadata": "{}",
         "name": "Entrepreneurship",
         "type": "\"string\""
        }
       ],
       "type": "table"
      }
     },
     "output_type": "display_data"
    }
   ],
   "source": [
    "SELECT * FROM education_career_success\n",
    "LIMIT 10;"
   ]
  },
  {
   "cell_type": "markdown",
   "metadata": {
    "application/vnd.databricks.v1+cell": {
     "cellMetadata": {
      "byteLimit": 2048000,
      "rowLimit": 10000
     },
     "inputWidgets": {},
     "nuid": "01447d2f-dbc6-4bb6-8f27-daf1530732c3",
     "showTitle": false,
     "tableResultSettingsMap": {},
     "title": ""
    }
   },
   "source": [
    "<img src=\"Tabela _ education_carreer_success.png\" width=\"1000\">"
   ]
  },
  {
   "cell_type": "markdown",
   "metadata": {
    "application/vnd.databricks.v1+cell": {
     "cellMetadata": {
      "byteLimit": 2048000,
      "rowLimit": 10000
     },
     "inputWidgets": {},
     "nuid": "d57c0202-397b-4cc4-b2a5-7f4333e7bae6",
     "showTitle": false,
     "tableResultSettingsMap": {},
     "title": ""
    }
   },
   "source": [
    "#CAMADA PRATA (DADOS LIMPOS E ADAPTADOS)\n"
   ]
  },
  {
   "cell_type": "markdown",
   "metadata": {
    "application/vnd.databricks.v1+cell": {
     "cellMetadata": {
      "byteLimit": 2048000,
      "rowLimit": 10000
     },
     "inputWidgets": {},
     "nuid": "4bec6d30-a976-4959-9e85-5e4b1c182acf",
     "showTitle": false,
     "tableResultSettingsMap": {},
     "title": ""
    }
   },
   "source": [
    "##Fragmentando a tabela original em três tabelas distintas:\n",
    "- education_info;\n",
    "- experience_info;\n",
    "- carrer_info."
   ]
  },
  {
   "cell_type": "markdown",
   "metadata": {
    "application/vnd.databricks.v1+cell": {
     "cellMetadata": {
      "byteLimit": 2048000,
      "rowLimit": 10000
     },
     "inputWidgets": {},
     "nuid": "ec5ccf2d-09fe-47c3-8700-09adf82abeb7",
     "showTitle": false,
     "tableResultSettingsMap": {},
     "title": ""
    }
   },
   "source": [
    "##Catálogo das colunas utlizadas na tabela \"education_info\".\n",
    "\n",
    "- **Student_ID**: Identificação única do estudante;\n",
    "- **Age**: Idade do estudante (18-30);\n",
    "- **Gender**: Gênero do estudante (Masculino, Feminino ou Outro);\n",
    "- **High_School_GPA**: Média no ensino médio (escala de 2.0 - 4.0);\n",
    "- **SAT_Score**: Pontuação no SAT (900 - 1600);\n",
    "- **University_Ranking**: Ranking da universidade frequentada (1 - 1000);\n",
    "- **University_GPA**: Média na universidade (escala de 2.0 - 4.0);\n",
    "- **Field_of_Study**: Área de estudo (Ciência da Computação, Medicina, Administração/Negócios, Artes, Direito, Engenharia, Matemática).\n",
    "\n"
   ]
  },
  {
   "cell_type": "code",
   "execution_count": 0,
   "metadata": {
    "application/vnd.databricks.v1+cell": {
     "cellMetadata": {
      "byteLimit": 2048000,
      "rowLimit": 10000
     },
     "inputWidgets": {},
     "nuid": "168d58a8-43dc-4005-87ea-b587a9b9d4ba",
     "showTitle": false,
     "tableResultSettingsMap": {},
     "title": ""
    }
   },
   "outputs": [],
   "source": [
    "CREATE TABLE IF NOT EXISTS education_info (\n",
    "    Student_ID VARCHAR(50) PRIMARY KEY,\n",
    "    Age INT,\n",
    "    Gender VARCHAR(10),\n",
    "    High_School_GPA FLOAT,\n",
    "    SAT_Score INT,\n",
    "    University_Ranking INT,\n",
    "    University_GPA FLOAT,\n",
    "    Field_of_Study VARCHAR(100)\n",
    ");\n",
    "\n",
    "   "
   ]
  },
  {
   "cell_type": "code",
   "execution_count": 0,
   "metadata": {
    "application/vnd.databricks.v1+cell": {
     "cellMetadata": {
      "byteLimit": 2048000,
      "rowLimit": 10000
     },
     "inputWidgets": {},
     "nuid": "babd2351-b2e4-4d22-a536-07f7e8da206c",
     "showTitle": false,
     "tableResultSettingsMap": {},
     "title": ""
    }
   },
   "outputs": [
    {
     "output_type": "display_data",
     "data": {
      "text/html": [
       "<style scoped>\n",
       "  .table-result-container {\n",
       "    max-height: 300px;\n",
       "    overflow: auto;\n",
       "  }\n",
       "  table, th, td {\n",
       "    border: 1px solid black;\n",
       "    border-collapse: collapse;\n",
       "  }\n",
       "  th, td {\n",
       "    padding: 5px;\n",
       "  }\n",
       "  th {\n",
       "    text-align: left;\n",
       "  }\n",
       "</style><div class='table-result-container'><table class='table-result'><thead style='background-color: white'><tr><th>num_affected_rows</th><th>num_inserted_rows</th></tr></thead><tbody><tr><td>5000</td><td>5000</td></tr></tbody></table></div>"
      ]
     },
     "metadata": {
      "application/vnd.databricks.v1+output": {
       "addedWidgets": {},
       "aggData": [],
       "aggError": "",
       "aggOverflow": false,
       "aggSchema": [],
       "aggSeriesLimitReached": false,
       "aggType": "",
       "arguments": {},
       "columnCustomDisplayInfos": {},
       "data": [
        [
         5000,
         5000
        ]
       ],
       "datasetInfos": [
        {
         "name": "_sqldf",
         "schema": {
          "fields": [
           {
            "metadata": {},
            "name": "num_affected_rows",
            "nullable": true,
            "type": "long"
           },
           {
            "metadata": {},
            "name": "num_inserted_rows",
            "nullable": true,
            "type": "long"
           }
          ],
          "type": "struct"
         },
         "tableIdentifier": null,
         "typeStr": "pyspark.sql.connect.dataframe.DataFrame"
        }
       ],
       "dbfsResultPath": null,
       "isJsonSchema": true,
       "metadata": {
        "createTempViewForImplicitDf": true,
        "dataframeName": "_sqldf",
        "executionCount": 4
       },
       "overflow": false,
       "plotOptions": {
        "customPlotOptions": {},
        "displayType": "table",
        "pivotAggregation": null,
        "pivotColumns": null,
        "xColumns": null,
        "yColumns": null
       },
       "removedWidgets": [],
       "schema": [
        {
         "metadata": "{}",
         "name": "num_affected_rows",
         "type": "\"long\""
        },
        {
         "metadata": "{}",
         "name": "num_inserted_rows",
         "type": "\"long\""
        }
       ],
       "type": "table"
      }
     },
     "output_type": "display_data"
    }
   ],
   "source": [
    "INSERT INTO education_info (Student_ID, Age, Gender, High_School_GPA, SAT_Score, University_Ranking, University_GPA, Field_of_Study)\n",
    "SELECT \n",
    "    Student_ID,\n",
    "    Age,\n",
    "    Gender,\n",
    "    High_School_GPA,\n",
    "    SAT_Score,\n",
    "    University_Ranking,\n",
    "    University_GPA,\n",
    "    Field_of_Study\n",
    "FROM education_career_success;\n"
   ]
  },
  {
   "cell_type": "markdown",
   "metadata": {
    "application/vnd.databricks.v1+cell": {
     "cellMetadata": {
      "byteLimit": 2048000,
      "rowLimit": 10000
     },
     "inputWidgets": {},
     "nuid": "f22c8b3a-680a-41bf-bbc9-84499f2991ab",
     "showTitle": false,
     "tableResultSettingsMap": {},
     "title": ""
    }
   },
   "source": [
    "%md\n",
    "###Visualizando a tabela \"education_info\""
   ]
  },
  {
   "cell_type": "code",
   "execution_count": 0,
   "metadata": {
    "application/vnd.databricks.v1+cell": {
     "cellMetadata": {
      "byteLimit": 2048000,
      "rowLimit": 10000
     },
     "inputWidgets": {},
     "nuid": "a25f0b0d-4cc4-4011-b48f-702541907618",
     "showTitle": false,
     "tableResultSettingsMap": {},
     "title": ""
    }
   },
   "outputs": [
    {
     "output_type": "display_data",
     "data": {
      "text/html": [
       "<style scoped>\n",
       "  .table-result-container {\n",
       "    max-height: 300px;\n",
       "    overflow: auto;\n",
       "  }\n",
       "  table, th, td {\n",
       "    border: 1px solid black;\n",
       "    border-collapse: collapse;\n",
       "  }\n",
       "  th, td {\n",
       "    padding: 5px;\n",
       "  }\n",
       "  th {\n",
       "    text-align: left;\n",
       "  }\n",
       "</style><div class='table-result-container'><table class='table-result'><thead style='background-color: white'><tr><th>Student_ID</th><th>Age</th><th>Gender</th><th>High_School_GPA</th><th>SAT_Score</th><th>University_Ranking</th><th>University_GPA</th><th>Field_of_Study</th></tr></thead><tbody><tr><td>S00001</td><td>24</td><td>Male</td><td>3.58</td><td>1052</td><td>291</td><td>3.96</td><td>Arts</td></tr><tr><td>S00002</td><td>21</td><td>Other</td><td>2.52</td><td>1211</td><td>112</td><td>3.63</td><td>Law</td></tr><tr><td>S00003</td><td>28</td><td>Female</td><td>3.42</td><td>1193</td><td>715</td><td>2.63</td><td>Medicine</td></tr><tr><td>S00004</td><td>25</td><td>Male</td><td>2.43</td><td>1497</td><td>170</td><td>2.81</td><td>Computer Science</td></tr><tr><td>S00005</td><td>22</td><td>Male</td><td>2.08</td><td>1012</td><td>599</td><td>2.48</td><td>Engineering</td></tr><tr><td>S00006</td><td>24</td><td>Male</td><td>2.4</td><td>1600</td><td>631</td><td>3.78</td><td>Law</td></tr><tr><td>S00007</td><td>27</td><td>Male</td><td>2.36</td><td>1011</td><td>610</td><td>3.83</td><td>Computer Science</td></tr><tr><td>S00008</td><td>20</td><td>Male</td><td>2.68</td><td>1074</td><td>240</td><td>2.84</td><td>Computer Science</td></tr><tr><td>S00009</td><td>24</td><td>Male</td><td>2.84</td><td>1201</td><td>337</td><td>3.31</td><td>Business</td></tr><tr><td>S00010</td><td>28</td><td>Male</td><td>3.02</td><td>1415</td><td>138</td><td>2.33</td><td>Computer Science</td></tr></tbody></table></div>"
      ]
     },
     "metadata": {
      "application/vnd.databricks.v1+output": {
       "addedWidgets": {},
       "aggData": [],
       "aggError": "",
       "aggOverflow": false,
       "aggSchema": [],
       "aggSeriesLimitReached": false,
       "aggType": "",
       "arguments": {},
       "columnCustomDisplayInfos": {},
       "data": [
        [
         "S00001",
         24,
         "Male",
         3.58,
         1052,
         291,
         3.96,
         "Arts"
        ],
        [
         "S00002",
         21,
         "Other",
         2.52,
         1211,
         112,
         3.63,
         "Law"
        ],
        [
         "S00003",
         28,
         "Female",
         3.42,
         1193,
         715,
         2.63,
         "Medicine"
        ],
        [
         "S00004",
         25,
         "Male",
         2.43,
         1497,
         170,
         2.81,
         "Computer Science"
        ],
        [
         "S00005",
         22,
         "Male",
         2.08,
         1012,
         599,
         2.48,
         "Engineering"
        ],
        [
         "S00006",
         24,
         "Male",
         2.4,
         1600,
         631,
         3.78,
         "Law"
        ],
        [
         "S00007",
         27,
         "Male",
         2.36,
         1011,
         610,
         3.83,
         "Computer Science"
        ],
        [
         "S00008",
         20,
         "Male",
         2.68,
         1074,
         240,
         2.84,
         "Computer Science"
        ],
        [
         "S00009",
         24,
         "Male",
         2.84,
         1201,
         337,
         3.31,
         "Business"
        ],
        [
         "S00010",
         28,
         "Male",
         3.02,
         1415,
         138,
         2.33,
         "Computer Science"
        ]
       ],
       "datasetInfos": [
        {
         "name": "_sqldf",
         "schema": {
          "fields": [
           {
            "metadata": {
             "__CHAR_VARCHAR_TYPE_STRING": "varchar(50)"
            },
            "name": "Student_ID",
            "nullable": false,
            "type": "string"
           },
           {
            "metadata": {},
            "name": "Age",
            "nullable": true,
            "type": "integer"
           },
           {
            "metadata": {
             "__CHAR_VARCHAR_TYPE_STRING": "varchar(10)"
            },
            "name": "Gender",
            "nullable": true,
            "type": "string"
           },
           {
            "metadata": {},
            "name": "High_School_GPA",
            "nullable": true,
            "type": "float"
           },
           {
            "metadata": {},
            "name": "SAT_Score",
            "nullable": true,
            "type": "integer"
           },
           {
            "metadata": {},
            "name": "University_Ranking",
            "nullable": true,
            "type": "integer"
           },
           {
            "metadata": {},
            "name": "University_GPA",
            "nullable": true,
            "type": "float"
           },
           {
            "metadata": {
             "__CHAR_VARCHAR_TYPE_STRING": "varchar(100)"
            },
            "name": "Field_of_Study",
            "nullable": true,
            "type": "string"
           }
          ],
          "type": "struct"
         },
         "tableIdentifier": null,
         "typeStr": "pyspark.sql.connect.dataframe.DataFrame"
        }
       ],
       "dbfsResultPath": null,
       "isJsonSchema": true,
       "metadata": {
        "createTempViewForImplicitDf": true,
        "dataframeName": "_sqldf",
        "executionCount": 31
       },
       "overflow": false,
       "plotOptions": {
        "customPlotOptions": {},
        "displayType": "table",
        "pivotAggregation": null,
        "pivotColumns": null,
        "xColumns": null,
        "yColumns": null
       },
       "removedWidgets": [],
       "schema": [
        {
         "metadata": "{\"__CHAR_VARCHAR_TYPE_STRING\": \"varchar(50)\"}",
         "name": "Student_ID",
         "type": "\"string\""
        },
        {
         "metadata": "{}",
         "name": "Age",
         "type": "\"integer\""
        },
        {
         "metadata": "{\"__CHAR_VARCHAR_TYPE_STRING\": \"varchar(10)\"}",
         "name": "Gender",
         "type": "\"string\""
        },
        {
         "metadata": "{}",
         "name": "High_School_GPA",
         "type": "\"float\""
        },
        {
         "metadata": "{}",
         "name": "SAT_Score",
         "type": "\"integer\""
        },
        {
         "metadata": "{}",
         "name": "University_Ranking",
         "type": "\"integer\""
        },
        {
         "metadata": "{}",
         "name": "University_GPA",
         "type": "\"float\""
        },
        {
         "metadata": "{\"__CHAR_VARCHAR_TYPE_STRING\": \"varchar(100)\"}",
         "name": "Field_of_Study",
         "type": "\"string\""
        }
       ],
       "type": "table"
      }
     },
     "output_type": "display_data"
    }
   ],
   "source": [
    "SELECT*FROM education_info\n",
    "LIMIT 10;"
   ]
  },
  {
   "cell_type": "markdown",
   "metadata": {
    "application/vnd.databricks.v1+cell": {
     "cellMetadata": {
      "byteLimit": 2048000,
      "rowLimit": 10000
     },
     "inputWidgets": {},
     "nuid": "26dbba24-11ce-4c62-9dac-5daf37243b8d",
     "showTitle": false,
     "tableResultSettingsMap": {},
     "title": ""
    }
   },
   "source": [
    "<img src=\"Tabela _ education_info.png\" width=\"1000\">"
   ]
  },
  {
   "cell_type": "markdown",
   "metadata": {
    "application/vnd.databricks.v1+cell": {
     "cellMetadata": {
      "byteLimit": 2048000,
      "rowLimit": 10000
     },
     "inputWidgets": {},
     "nuid": "5d90ad5b-fe7b-4f96-ac58-8455d4068467",
     "showTitle": false,
     "tableResultSettingsMap": {},
     "title": ""
    }
   },
   "source": [
    "##Catálogo das colunas utlizadas na tabela \"experience_info\".\n",
    "\n",
    "- **Student_ID**: Identificação única do estudante;\n",
    "- **Internships_Completed**: Número de estágios concluídos (0-4);\n",
    "- **Projects_Completed**: Número de projetos concluídos (0-9);\n",
    "- **Certifications**: Número de certificações obtidas (0-5);\n",
    "- **Soft_Skills_Score**: Avaliação de habilidades interpessoais (1-10);\n",
    "- **Networking_Score**: Avaliação de networking (1-10).\n"
   ]
  },
  {
   "cell_type": "code",
   "execution_count": 0,
   "metadata": {
    "application/vnd.databricks.v1+cell": {
     "cellMetadata": {
      "byteLimit": 2048000,
      "rowLimit": 10000
     },
     "inputWidgets": {},
     "nuid": "6c2a9dd4-a8d2-4697-a4c3-074bc69104f9",
     "showTitle": false,
     "tableResultSettingsMap": {},
     "title": ""
    }
   },
   "outputs": [],
   "source": [
    "CREATE TABLE IF NOT EXISTS experience_info (\n",
    "    Student_ID VARCHAR(50),\n",
    "    Internships_Completed INT,\n",
    "    Projects_Completed INT,\n",
    "    Certifications INT,\n",
    "    Soft_Skills_Score INT,\n",
    "    Networking_Score INT,\n",
    "    CONSTRAINT fk_experience_student FOREIGN KEY (Student_ID) REFERENCES education_info(Student_ID)\n",
    ");\n"
   ]
  },
  {
   "cell_type": "code",
   "execution_count": 0,
   "metadata": {
    "application/vnd.databricks.v1+cell": {
     "cellMetadata": {
      "byteLimit": 2048000,
      "rowLimit": 10000
     },
     "inputWidgets": {},
     "nuid": "69c3bad6-90b5-409c-9738-f321c6818bbf",
     "showTitle": false,
     "tableResultSettingsMap": {},
     "title": ""
    }
   },
   "outputs": [
    {
     "output_type": "display_data",
     "data": {
      "text/html": [
       "<style scoped>\n",
       "  .table-result-container {\n",
       "    max-height: 300px;\n",
       "    overflow: auto;\n",
       "  }\n",
       "  table, th, td {\n",
       "    border: 1px solid black;\n",
       "    border-collapse: collapse;\n",
       "  }\n",
       "  th, td {\n",
       "    padding: 5px;\n",
       "  }\n",
       "  th {\n",
       "    text-align: left;\n",
       "  }\n",
       "</style><div class='table-result-container'><table class='table-result'><thead style='background-color: white'><tr><th>num_affected_rows</th><th>num_inserted_rows</th></tr></thead><tbody><tr><td>5000</td><td>5000</td></tr></tbody></table></div>"
      ]
     },
     "metadata": {
      "application/vnd.databricks.v1+output": {
       "addedWidgets": {},
       "aggData": [],
       "aggError": "",
       "aggOverflow": false,
       "aggSchema": [],
       "aggSeriesLimitReached": false,
       "aggType": "",
       "arguments": {},
       "columnCustomDisplayInfos": {},
       "data": [
        [
         5000,
         5000
        ]
       ],
       "datasetInfos": [
        {
         "name": "_sqldf",
         "schema": {
          "fields": [
           {
            "metadata": {},
            "name": "num_affected_rows",
            "nullable": true,
            "type": "long"
           },
           {
            "metadata": {},
            "name": "num_inserted_rows",
            "nullable": true,
            "type": "long"
           }
          ],
          "type": "struct"
         },
         "tableIdentifier": null,
         "typeStr": "pyspark.sql.connect.dataframe.DataFrame"
        }
       ],
       "dbfsResultPath": null,
       "isJsonSchema": true,
       "metadata": {
        "createTempViewForImplicitDf": true,
        "dataframeName": "_sqldf",
        "executionCount": 7
       },
       "overflow": false,
       "plotOptions": {
        "customPlotOptions": {},
        "displayType": "table",
        "pivotAggregation": null,
        "pivotColumns": null,
        "xColumns": null,
        "yColumns": null
       },
       "removedWidgets": [],
       "schema": [
        {
         "metadata": "{}",
         "name": "num_affected_rows",
         "type": "\"long\""
        },
        {
         "metadata": "{}",
         "name": "num_inserted_rows",
         "type": "\"long\""
        }
       ],
       "type": "table"
      }
     },
     "output_type": "display_data"
    }
   ],
   "source": [
    "INSERT INTO experience_info (Student_ID, Internships_Completed, Projects_Completed, Certifications, Soft_Skills_Score, Networking_Score)\n",
    "SELECT \n",
    "    Student_ID,\n",
    "    Internships_Completed,\n",
    "    Projects_Completed,\n",
    "    Certifications,\n",
    "    Soft_Skills_Score,\n",
    "    Networking_Score\n",
    "FROM education_career_success;\n"
   ]
  },
  {
   "cell_type": "markdown",
   "metadata": {
    "application/vnd.databricks.v1+cell": {
     "cellMetadata": {
      "byteLimit": 2048000,
      "rowLimit": 10000
     },
     "inputWidgets": {},
     "nuid": "7252d763-c42f-4249-83f9-dc79deb2e670",
     "showTitle": false,
     "tableResultSettingsMap": {},
     "title": ""
    }
   },
   "source": [
    "###Visualizando a tabela \"experience_info\"."
   ]
  },
  {
   "cell_type": "code",
   "execution_count": 0,
   "metadata": {
    "application/vnd.databricks.v1+cell": {
     "cellMetadata": {
      "byteLimit": 2048000,
      "rowLimit": 10000
     },
     "inputWidgets": {},
     "nuid": "19f9e1a7-32b3-4468-9ac0-7ed5c2f9bcfc",
     "showTitle": false,
     "tableResultSettingsMap": {},
     "title": ""
    }
   },
   "outputs": [
    {
     "output_type": "display_data",
     "data": {
      "text/html": [
       "<style scoped>\n",
       "  .table-result-container {\n",
       "    max-height: 300px;\n",
       "    overflow: auto;\n",
       "  }\n",
       "  table, th, td {\n",
       "    border: 1px solid black;\n",
       "    border-collapse: collapse;\n",
       "  }\n",
       "  th, td {\n",
       "    padding: 5px;\n",
       "  }\n",
       "  th {\n",
       "    text-align: left;\n",
       "  }\n",
       "</style><div class='table-result-container'><table class='table-result'><thead style='background-color: white'><tr><th>Student_ID</th><th>Internships_Completed</th><th>Projects_Completed</th><th>Certifications</th><th>Soft_Skills_Score</th><th>Networking_Score</th></tr></thead><tbody><tr><td>S00001</td><td>3</td><td>7</td><td>2</td><td>9</td><td>8</td></tr><tr><td>S00002</td><td>4</td><td>7</td><td>3</td><td>8</td><td>1</td></tr><tr><td>S00003</td><td>4</td><td>8</td><td>1</td><td>1</td><td>9</td></tr><tr><td>S00004</td><td>3</td><td>9</td><td>1</td><td>10</td><td>6</td></tr><tr><td>S00005</td><td>4</td><td>6</td><td>4</td><td>10</td><td>9</td></tr><tr><td>S00006</td><td>2</td><td>3</td><td>2</td><td>2</td><td>2</td></tr><tr><td>S00007</td><td>0</td><td>1</td><td>3</td><td>3</td><td>3</td></tr><tr><td>S00008</td><td>1</td><td>5</td><td>5</td><td>5</td><td>1</td></tr><tr><td>S00009</td><td>2</td><td>3</td><td>0</td><td>5</td><td>5</td></tr><tr><td>S00010</td><td>1</td><td>5</td><td>3</td><td>10</td><td>2</td></tr></tbody></table></div>"
      ]
     },
     "metadata": {
      "application/vnd.databricks.v1+output": {
       "addedWidgets": {},
       "aggData": [],
       "aggError": "",
       "aggOverflow": false,
       "aggSchema": [],
       "aggSeriesLimitReached": false,
       "aggType": "",
       "arguments": {},
       "columnCustomDisplayInfos": {},
       "data": [
        [
         "S00001",
         3,
         7,
         2,
         9,
         8
        ],
        [
         "S00002",
         4,
         7,
         3,
         8,
         1
        ],
        [
         "S00003",
         4,
         8,
         1,
         1,
         9
        ],
        [
         "S00004",
         3,
         9,
         1,
         10,
         6
        ],
        [
         "S00005",
         4,
         6,
         4,
         10,
         9
        ],
        [
         "S00006",
         2,
         3,
         2,
         2,
         2
        ],
        [
         "S00007",
         0,
         1,
         3,
         3,
         3
        ],
        [
         "S00008",
         1,
         5,
         5,
         5,
         1
        ],
        [
         "S00009",
         2,
         3,
         0,
         5,
         5
        ],
        [
         "S00010",
         1,
         5,
         3,
         10,
         2
        ]
       ],
       "datasetInfos": [
        {
         "name": "_sqldf",
         "schema": {
          "fields": [
           {
            "metadata": {
             "__CHAR_VARCHAR_TYPE_STRING": "varchar(50)"
            },
            "name": "Student_ID",
            "nullable": true,
            "type": "string"
           },
           {
            "metadata": {},
            "name": "Internships_Completed",
            "nullable": true,
            "type": "integer"
           },
           {
            "metadata": {},
            "name": "Projects_Completed",
            "nullable": true,
            "type": "integer"
           },
           {
            "metadata": {},
            "name": "Certifications",
            "nullable": true,
            "type": "integer"
           },
           {
            "metadata": {},
            "name": "Soft_Skills_Score",
            "nullable": true,
            "type": "integer"
           },
           {
            "metadata": {},
            "name": "Networking_Score",
            "nullable": true,
            "type": "integer"
           }
          ],
          "type": "struct"
         },
         "tableIdentifier": null,
         "typeStr": "pyspark.sql.connect.dataframe.DataFrame"
        }
       ],
       "dbfsResultPath": null,
       "isJsonSchema": true,
       "metadata": {
        "createTempViewForImplicitDf": true,
        "dataframeName": "_sqldf",
        "executionCount": 33
       },
       "overflow": false,
       "plotOptions": {
        "customPlotOptions": {},
        "displayType": "table",
        "pivotAggregation": null,
        "pivotColumns": null,
        "xColumns": null,
        "yColumns": null
       },
       "removedWidgets": [],
       "schema": [
        {
         "metadata": "{\"__CHAR_VARCHAR_TYPE_STRING\": \"varchar(50)\"}",
         "name": "Student_ID",
         "type": "\"string\""
        },
        {
         "metadata": "{}",
         "name": "Internships_Completed",
         "type": "\"integer\""
        },
        {
         "metadata": "{}",
         "name": "Projects_Completed",
         "type": "\"integer\""
        },
        {
         "metadata": "{}",
         "name": "Certifications",
         "type": "\"integer\""
        },
        {
         "metadata": "{}",
         "name": "Soft_Skills_Score",
         "type": "\"integer\""
        },
        {
         "metadata": "{}",
         "name": "Networking_Score",
         "type": "\"integer\""
        }
       ],
       "type": "table"
      }
     },
     "output_type": "display_data"
    }
   ],
   "source": [
    "SELECT*FROM experience_info\n",
    "LIMIT 10;"
   ]
  },
  {
   "cell_type": "markdown",
   "metadata": {
    "application/vnd.databricks.v1+cell": {
     "cellMetadata": {
      "byteLimit": 2048000,
      "rowLimit": 10000
     },
     "inputWidgets": {},
     "nuid": "35a41b7c-eeab-484e-9a6f-914481ab3f91",
     "showTitle": false,
     "tableResultSettingsMap": {},
     "title": ""
    }
   },
   "source": [
    "<img src=\"Tabela _ experience_info.png\" width=\"1000\">"
   ]
  },
  {
   "cell_type": "markdown",
   "metadata": {
    "application/vnd.databricks.v1+cell": {
     "cellMetadata": {
      "byteLimit": 2048000,
      "rowLimit": 10000
     },
     "inputWidgets": {},
     "nuid": "e74fbff4-35bb-4b94-a0ec-409de45bb3af",
     "showTitle": false,
     "tableResultSettingsMap": {},
     "title": ""
    }
   },
   "source": [
    "###Catálogo das colunas utlizadas na tabela \"career_info\".\n",
    "\n",
    "- **Student_ID**: Identificação única do estudante;\n",
    "- **Job_Offers**: Número de ofertas de emprego recebidas após a graduação (0-5);\n",
    "- **Starting_Salary**: Salário inicial (anual) no primeiro emprego em dólares americanos (25000 -  101000);\n",
    "- **Career_Satisfaction**: Nível de satisfação com a carreira (escala de 1 a 10);\n",
    "- **Years_to_Promotion**: Tempo necessário para receber a primeira promoção (1-5 anos);\n",
    "- **Current_Job_Level**: Nível de carreira atual (Entry, Mid, Senior, Executive);\n",
    "- **Work_Life_Balance**: Equilíbrio entre trabalho e vida pessoal (escala de 1 a 10);\n",
    "- **Entrepreneurship**: Indica se a pessoa iniciou um negócio (Yes ou No)."
   ]
  },
  {
   "cell_type": "code",
   "execution_count": 0,
   "metadata": {
    "application/vnd.databricks.v1+cell": {
     "cellMetadata": {
      "byteLimit": 2048000,
      "rowLimit": 10000
     },
     "inputWidgets": {},
     "nuid": "9efda626-a1e4-4113-b923-4511cd177aac",
     "showTitle": false,
     "tableResultSettingsMap": {},
     "title": ""
    }
   },
   "outputs": [],
   "source": [
    "CREATE TABLE IF NOT EXISTS career_info (\n",
    "    Student_ID VARCHAR(50),\n",
    "    Job_Offers INT,\n",
    "    Starting_Salary FLOAT,\n",
    "    Career_Satisfaction INT,\n",
    "    Years_to_Promotion INT,\n",
    "    Current_Job_Level VARCHAR(50),\n",
    "    Work_Life_Balance INT,\n",
    "    Entrepreneurship VARCHAR(50),\n",
    "    CONSTRAINT fk_career_student FOREIGN KEY (Student_ID) REFERENCES education_info(Student_ID)\n",
    ");\n",
    "\n",
    "\n",
    "   "
   ]
  },
  {
   "cell_type": "code",
   "execution_count": 0,
   "metadata": {
    "application/vnd.databricks.v1+cell": {
     "cellMetadata": {
      "byteLimit": 2048000,
      "rowLimit": 10000
     },
     "inputWidgets": {},
     "nuid": "392297b6-162f-4d60-ad43-f0d7348840b9",
     "showTitle": false,
     "tableResultSettingsMap": {},
     "title": ""
    }
   },
   "outputs": [
    {
     "output_type": "display_data",
     "data": {
      "text/html": [
       "<style scoped>\n",
       "  .table-result-container {\n",
       "    max-height: 300px;\n",
       "    overflow: auto;\n",
       "  }\n",
       "  table, th, td {\n",
       "    border: 1px solid black;\n",
       "    border-collapse: collapse;\n",
       "  }\n",
       "  th, td {\n",
       "    padding: 5px;\n",
       "  }\n",
       "  th {\n",
       "    text-align: left;\n",
       "  }\n",
       "</style><div class='table-result-container'><table class='table-result'><thead style='background-color: white'><tr><th>num_affected_rows</th><th>num_inserted_rows</th></tr></thead><tbody><tr><td>5000</td><td>5000</td></tr></tbody></table></div>"
      ]
     },
     "metadata": {
      "application/vnd.databricks.v1+output": {
       "addedWidgets": {},
       "aggData": [],
       "aggError": "",
       "aggOverflow": false,
       "aggSchema": [],
       "aggSeriesLimitReached": false,
       "aggType": "",
       "arguments": {},
       "columnCustomDisplayInfos": {},
       "data": [
        [
         5000,
         5000
        ]
       ],
       "datasetInfos": [
        {
         "name": "_sqldf",
         "schema": {
          "fields": [
           {
            "metadata": {},
            "name": "num_affected_rows",
            "nullable": true,
            "type": "long"
           },
           {
            "metadata": {},
            "name": "num_inserted_rows",
            "nullable": true,
            "type": "long"
           }
          ],
          "type": "struct"
         },
         "tableIdentifier": null,
         "typeStr": "pyspark.sql.connect.dataframe.DataFrame"
        }
       ],
       "dbfsResultPath": null,
       "isJsonSchema": true,
       "metadata": {
        "createTempViewForImplicitDf": true,
        "dataframeName": "_sqldf",
        "executionCount": 10
       },
       "overflow": false,
       "plotOptions": {
        "customPlotOptions": {},
        "displayType": "table",
        "pivotAggregation": null,
        "pivotColumns": null,
        "xColumns": null,
        "yColumns": null
       },
       "removedWidgets": [],
       "schema": [
        {
         "metadata": "{}",
         "name": "num_affected_rows",
         "type": "\"long\""
        },
        {
         "metadata": "{}",
         "name": "num_inserted_rows",
         "type": "\"long\""
        }
       ],
       "type": "table"
      }
     },
     "output_type": "display_data"
    }
   ],
   "source": [
    "INSERT INTO career_info (Student_ID, Job_Offers, Starting_Salary, Career_Satisfaction, Years_to_Promotion, Current_Job_Level, Work_Life_Balance, Entrepreneurship)\n",
    "SELECT \n",
    "    Student_ID,\n",
    "    Job_Offers,\n",
    "    Starting_Salary,\n",
    "    Career_Satisfaction,\n",
    "    Years_to_Promotion,\n",
    "    Current_Job_Level,\n",
    "    Work_Life_Balance,\n",
    "    Entrepreneurship\n",
    "FROM education_career_success;\n"
   ]
  },
  {
   "cell_type": "markdown",
   "metadata": {
    "application/vnd.databricks.v1+cell": {
     "cellMetadata": {
      "byteLimit": 2048000,
      "rowLimit": 10000
     },
     "inputWidgets": {},
     "nuid": "e3a67a2e-af38-43cc-b59e-5b1b0c15945a",
     "showTitle": false,
     "tableResultSettingsMap": {},
     "title": ""
    }
   },
   "source": [
    "###Visualizando a tabela \"carrer_info\"."
   ]
  },
  {
   "cell_type": "code",
   "execution_count": 0,
   "metadata": {
    "application/vnd.databricks.v1+cell": {
     "cellMetadata": {
      "byteLimit": 2048000,
      "rowLimit": 10000
     },
     "inputWidgets": {},
     "nuid": "09467acb-cd95-4a3e-a810-7179a7692305",
     "showTitle": false,
     "tableResultSettingsMap": {},
     "title": ""
    }
   },
   "outputs": [
    {
     "output_type": "display_data",
     "data": {
      "text/html": [
       "<style scoped>\n",
       "  .table-result-container {\n",
       "    max-height: 300px;\n",
       "    overflow: auto;\n",
       "  }\n",
       "  table, th, td {\n",
       "    border: 1px solid black;\n",
       "    border-collapse: collapse;\n",
       "  }\n",
       "  th, td {\n",
       "    padding: 5px;\n",
       "  }\n",
       "  th {\n",
       "    text-align: left;\n",
       "  }\n",
       "</style><div class='table-result-container'><table class='table-result'><thead style='background-color: white'><tr><th>Student_ID</th><th>Job_Offers</th><th>Starting_Salary</th><th>Career_Satisfaction</th><th>Years_to_Promotion</th><th>Current_Job_Level</th><th>Work_Life_Balance</th><th>Entrepreneurship</th></tr></thead><tbody><tr><td>S00001</td><td>5</td><td>27200.0</td><td>4</td><td>5</td><td>Entry</td><td>7</td><td>No</td></tr><tr><td>S00002</td><td>4</td><td>25000.0</td><td>1</td><td>1</td><td>Mid</td><td>7</td><td>No</td></tr><tr><td>S00003</td><td>0</td><td>42400.0</td><td>9</td><td>3</td><td>Entry</td><td>7</td><td>No</td></tr><tr><td>S00004</td><td>1</td><td>57400.0</td><td>7</td><td>5</td><td>Mid</td><td>5</td><td>No</td></tr><tr><td>S00005</td><td>4</td><td>47600.0</td><td>9</td><td>5</td><td>Entry</td><td>2</td><td>No</td></tr><tr><td>S00006</td><td>1</td><td>68400.0</td><td>9</td><td>2</td><td>Entry</td><td>8</td><td>Yes</td></tr><tr><td>S00007</td><td>2</td><td>55500.0</td><td>7</td><td>4</td><td>Mid</td><td>3</td><td>No</td></tr><tr><td>S00008</td><td>2</td><td>38000.0</td><td>2</td><td>3</td><td>Entry</td><td>3</td><td>No</td></tr><tr><td>S00009</td><td>2</td><td>68900.0</td><td>2</td><td>2</td><td>Entry</td><td>2</td><td>No</td></tr><tr><td>S00010</td><td>0</td><td>58900.0</td><td>4</td><td>2</td><td>Senior</td><td>2</td><td>No</td></tr></tbody></table></div>"
      ]
     },
     "metadata": {
      "application/vnd.databricks.v1+output": {
       "addedWidgets": {},
       "aggData": [],
       "aggError": "",
       "aggOverflow": false,
       "aggSchema": [],
       "aggSeriesLimitReached": false,
       "aggType": "",
       "arguments": {},
       "columnCustomDisplayInfos": {},
       "data": [
        [
         "S00001",
         5,
         27200.0,
         4,
         5,
         "Entry",
         7,
         "No"
        ],
        [
         "S00002",
         4,
         25000.0,
         1,
         1,
         "Mid",
         7,
         "No"
        ],
        [
         "S00003",
         0,
         42400.0,
         9,
         3,
         "Entry",
         7,
         "No"
        ],
        [
         "S00004",
         1,
         57400.0,
         7,
         5,
         "Mid",
         5,
         "No"
        ],
        [
         "S00005",
         4,
         47600.0,
         9,
         5,
         "Entry",
         2,
         "No"
        ],
        [
         "S00006",
         1,
         68400.0,
         9,
         2,
         "Entry",
         8,
         "Yes"
        ],
        [
         "S00007",
         2,
         55500.0,
         7,
         4,
         "Mid",
         3,
         "No"
        ],
        [
         "S00008",
         2,
         38000.0,
         2,
         3,
         "Entry",
         3,
         "No"
        ],
        [
         "S00009",
         2,
         68900.0,
         2,
         2,
         "Entry",
         2,
         "No"
        ],
        [
         "S00010",
         0,
         58900.0,
         4,
         2,
         "Senior",
         2,
         "No"
        ]
       ],
       "datasetInfos": [
        {
         "name": "_sqldf",
         "schema": {
          "fields": [
           {
            "metadata": {
             "__CHAR_VARCHAR_TYPE_STRING": "varchar(50)"
            },
            "name": "Student_ID",
            "nullable": true,
            "type": "string"
           },
           {
            "metadata": {},
            "name": "Job_Offers",
            "nullable": true,
            "type": "integer"
           },
           {
            "metadata": {},
            "name": "Starting_Salary",
            "nullable": true,
            "type": "float"
           },
           {
            "metadata": {},
            "name": "Career_Satisfaction",
            "nullable": true,
            "type": "integer"
           },
           {
            "metadata": {},
            "name": "Years_to_Promotion",
            "nullable": true,
            "type": "integer"
           },
           {
            "metadata": {
             "__CHAR_VARCHAR_TYPE_STRING": "varchar(50)"
            },
            "name": "Current_Job_Level",
            "nullable": true,
            "type": "string"
           },
           {
            "metadata": {},
            "name": "Work_Life_Balance",
            "nullable": true,
            "type": "integer"
           },
           {
            "metadata": {
             "__CHAR_VARCHAR_TYPE_STRING": "varchar(50)"
            },
            "name": "Entrepreneurship",
            "nullable": true,
            "type": "string"
           }
          ],
          "type": "struct"
         },
         "tableIdentifier": null,
         "typeStr": "pyspark.sql.connect.dataframe.DataFrame"
        }
       ],
       "dbfsResultPath": null,
       "isJsonSchema": true,
       "metadata": {
        "createTempViewForImplicitDf": true,
        "dataframeName": "_sqldf",
        "executionCount": 34
       },
       "overflow": false,
       "plotOptions": {
        "customPlotOptions": {},
        "displayType": "table",
        "pivotAggregation": null,
        "pivotColumns": null,
        "xColumns": null,
        "yColumns": null
       },
       "removedWidgets": [],
       "schema": [
        {
         "metadata": "{\"__CHAR_VARCHAR_TYPE_STRING\": \"varchar(50)\"}",
         "name": "Student_ID",
         "type": "\"string\""
        },
        {
         "metadata": "{}",
         "name": "Job_Offers",
         "type": "\"integer\""
        },
        {
         "metadata": "{}",
         "name": "Starting_Salary",
         "type": "\"float\""
        },
        {
         "metadata": "{}",
         "name": "Career_Satisfaction",
         "type": "\"integer\""
        },
        {
         "metadata": "{}",
         "name": "Years_to_Promotion",
         "type": "\"integer\""
        },
        {
         "metadata": "{\"__CHAR_VARCHAR_TYPE_STRING\": \"varchar(50)\"}",
         "name": "Current_Job_Level",
         "type": "\"string\""
        },
        {
         "metadata": "{}",
         "name": "Work_Life_Balance",
         "type": "\"integer\""
        },
        {
         "metadata": "{\"__CHAR_VARCHAR_TYPE_STRING\": \"varchar(50)\"}",
         "name": "Entrepreneurship",
         "type": "\"string\""
        }
       ],
       "type": "table"
      }
     },
     "output_type": "display_data"
    }
   ],
   "source": [
    "SELECT*FROM career_info\n",
    "LIMIT 10;"
   ]
  },
  {
   "cell_type": "markdown",
   "metadata": {
    "application/vnd.databricks.v1+cell": {
     "cellMetadata": {
      "byteLimit": 2048000,
      "rowLimit": 10000
     },
     "inputWidgets": {},
     "nuid": "ee46f18b-de87-4a55-8698-547b9d8f62a5",
     "showTitle": false,
     "tableResultSettingsMap": {},
     "title": ""
    }
   },
   "source": [
    "<img src=\"Tabela _ career_info.png\" width=\"1000\">"
   ]
  },
  {
   "cell_type": "markdown",
   "metadata": {
    "application/vnd.databricks.v1+cell": {
     "cellMetadata": {
      "byteLimit": 2048000,
      "rowLimit": 10000
     },
     "inputWidgets": {},
     "nuid": "808f5d21-ada2-422e-a540-ca9697e95ef0",
     "showTitle": false,
     "tableResultSettingsMap": {},
     "title": ""
    }
   },
   "source": [
    "#Qualidade dos dados\n",
    "\n",
    "- Logo abaixo foi feita uma análise de valores por atributo, para constatar que não se encontrou problemas no conjunto de dados."
   ]
  },
  {
   "cell_type": "markdown",
   "metadata": {
    "application/vnd.databricks.v1+cell": {
     "cellMetadata": {
      "byteLimit": 2048000,
      "rowLimit": 10000
     },
     "inputWidgets": {},
     "nuid": "05c8b4eb-cfc4-4645-a02e-6bd85247b13f",
     "showTitle": false,
     "tableResultSettingsMap": {},
     "title": ""
    }
   },
   "source": [
    "##Análise de qualidade para a tabela  \"**education_info**\".\n",
    "\n",
    "- Verificação de valores ausentes;\n",
    "- Verificação dos valores mínimo e máximo da coluna \"University_GPA\", para garantir que os dados estejam completos e dentro dos limites esperados."
   ]
  },
  {
   "cell_type": "code",
   "execution_count": 0,
   "metadata": {
    "application/vnd.databricks.v1+cell": {
     "cellMetadata": {
      "byteLimit": 2048000,
      "rowLimit": 10000
     },
     "inputWidgets": {},
     "nuid": "557231cb-e903-42ed-aea8-39baf5e08602",
     "showTitle": false,
     "tableResultSettingsMap": {},
     "title": ""
    }
   },
   "outputs": [
    {
     "output_type": "display_data",
     "data": {
      "text/html": [
       "<style scoped>\n",
       "  .table-result-container {\n",
       "    max-height: 300px;\n",
       "    overflow: auto;\n",
       "  }\n",
       "  table, th, td {\n",
       "    border: 1px solid black;\n",
       "    border-collapse: collapse;\n",
       "  }\n",
       "  th, td {\n",
       "    padding: 5px;\n",
       "  }\n",
       "  th {\n",
       "    text-align: left;\n",
       "  }\n",
       "</style><div class='table-result-container'><table class='table-result'><thead style='background-color: white'><tr><th>total_rows</th><th>unique_ids</th><th>missing_university_gpa</th><th>min_gpa</th><th>max_gpa</th></tr></thead><tbody><tr><td>20000</td><td>5000</td><td>0</td><td>2.0</td><td>4.0</td></tr></tbody></table></div>"
      ]
     },
     "metadata": {
      "application/vnd.databricks.v1+output": {
       "addedWidgets": {},
       "aggData": [],
       "aggError": "",
       "aggOverflow": false,
       "aggSchema": [],
       "aggSeriesLimitReached": false,
       "aggType": "",
       "arguments": {},
       "columnCustomDisplayInfos": {},
       "data": [
        [
         20000,
         5000,
         0,
         2.0,
         4.0
        ]
       ],
       "datasetInfos": [
        {
         "name": "_sqldf",
         "schema": {
          "fields": [
           {
            "metadata": {},
            "name": "total_rows",
            "nullable": false,
            "type": "long"
           },
           {
            "metadata": {},
            "name": "unique_ids",
            "nullable": false,
            "type": "long"
           },
           {
            "metadata": {},
            "name": "missing_university_gpa",
            "nullable": false,
            "type": "long"
           },
           {
            "metadata": {},
            "name": "min_gpa",
            "nullable": true,
            "type": "float"
           },
           {
            "metadata": {},
            "name": "max_gpa",
            "nullable": true,
            "type": "float"
           }
          ],
          "type": "struct"
         },
         "tableIdentifier": null,
         "typeStr": "pyspark.sql.connect.dataframe.DataFrame"
        }
       ],
       "dbfsResultPath": null,
       "isJsonSchema": true,
       "metadata": {
        "createTempViewForImplicitDf": true,
        "dataframeName": "_sqldf",
        "executionCount": 12
       },
       "overflow": false,
       "plotOptions": {
        "customPlotOptions": {},
        "displayType": "table",
        "pivotAggregation": null,
        "pivotColumns": null,
        "xColumns": null,
        "yColumns": null
       },
       "removedWidgets": [],
       "schema": [
        {
         "metadata": "{}",
         "name": "total_rows",
         "type": "\"long\""
        },
        {
         "metadata": "{}",
         "name": "unique_ids",
         "type": "\"long\""
        },
        {
         "metadata": "{}",
         "name": "missing_university_gpa",
         "type": "\"long\""
        },
        {
         "metadata": "{}",
         "name": "min_gpa",
         "type": "\"float\""
        },
        {
         "metadata": "{}",
         "name": "max_gpa",
         "type": "\"float\""
        }
       ],
       "type": "table"
      }
     },
     "output_type": "display_data"
    }
   ],
   "source": [
    "SELECT\n",
    "    COUNT(*) AS total_rows,\n",
    "    COUNT(DISTINCT Student_ID) AS unique_ids,\n",
    "    COUNT(*) - COUNT(University_GPA) AS missing_university_gpa,\n",
    "    MIN(University_GPA) AS min_gpa,\n",
    "    MAX(University_GPA) AS max_gpa\n",
    "FROM education_info;"
   ]
  },
  {
   "cell_type": "markdown",
   "metadata": {
    "application/vnd.databricks.v1+cell": {
     "cellMetadata": {
      "byteLimit": 2048000,
      "rowLimit": 10000
     },
     "inputWidgets": {},
     "nuid": "86c07ddf-ca9f-40b3-ac30-d90076501982",
     "showTitle": false,
     "tableResultSettingsMap": {},
     "title": ""
    }
   },
   "source": [
    "<img src=\"Tabela_quali_education_info1.png\" width=\"1000\">"
   ]
  },
  {
   "cell_type": "markdown",
   "metadata": {
    "application/vnd.databricks.v1+cell": {
     "cellMetadata": {
      "byteLimit": 2048000,
      "rowLimit": 10000
     },
     "inputWidgets": {},
     "nuid": "33546733-d924-46ad-aeea-212f7225a5e3",
     "showTitle": false,
     "tableResultSettingsMap": {},
     "title": ""
    }
   },
   "source": [
    "- Verificação de distribuição por área de estudo."
   ]
  },
  {
   "cell_type": "code",
   "execution_count": 0,
   "metadata": {
    "application/vnd.databricks.v1+cell": {
     "cellMetadata": {
      "byteLimit": 2048000,
      "rowLimit": 10000
     },
     "inputWidgets": {},
     "nuid": "af34da61-02ec-42c1-9423-836b319cd3bd",
     "showTitle": false,
     "tableResultSettingsMap": {},
     "title": ""
    }
   },
   "outputs": [
    {
     "output_type": "display_data",
     "data": {
      "text/html": [
       "<style scoped>\n",
       "  .table-result-container {\n",
       "    max-height: 300px;\n",
       "    overflow: auto;\n",
       "  }\n",
       "  table, th, td {\n",
       "    border: 1px solid black;\n",
       "    border-collapse: collapse;\n",
       "  }\n",
       "  th, td {\n",
       "    padding: 5px;\n",
       "  }\n",
       "  th {\n",
       "    text-align: left;\n",
       "  }\n",
       "</style><div class='table-result-container'><table class='table-result'><thead style='background-color: white'><tr><th>Field_of_Study</th><th>qtd_estudantes</th></tr></thead><tbody><tr><td>Arts</td><td>2996</td></tr><tr><td>Mathematics</td><td>2980</td></tr><tr><td>Law</td><td>2908</td></tr><tr><td>Business</td><td>2876</td></tr><tr><td>Engineering</td><td>2804</td></tr><tr><td>Medicine</td><td>2756</td></tr><tr><td>Computer Science</td><td>2680</td></tr></tbody></table></div>"
      ]
     },
     "metadata": {
      "application/vnd.databricks.v1+output": {
       "addedWidgets": {},
       "aggData": [],
       "aggError": "",
       "aggOverflow": false,
       "aggSchema": [],
       "aggSeriesLimitReached": false,
       "aggType": "",
       "arguments": {},
       "columnCustomDisplayInfos": {},
       "data": [
        [
         "Arts",
         2996
        ],
        [
         "Mathematics",
         2980
        ],
        [
         "Law",
         2908
        ],
        [
         "Business",
         2876
        ],
        [
         "Engineering",
         2804
        ],
        [
         "Medicine",
         2756
        ],
        [
         "Computer Science",
         2680
        ]
       ],
       "datasetInfos": [
        {
         "name": "_sqldf",
         "schema": {
          "fields": [
           {
            "metadata": {
             "__CHAR_VARCHAR_TYPE_STRING": "varchar(100)"
            },
            "name": "Field_of_Study",
            "nullable": true,
            "type": "string"
           },
           {
            "metadata": {},
            "name": "qtd_estudantes",
            "nullable": false,
            "type": "long"
           }
          ],
          "type": "struct"
         },
         "tableIdentifier": null,
         "typeStr": "pyspark.sql.connect.dataframe.DataFrame"
        }
       ],
       "dbfsResultPath": null,
       "isJsonSchema": true,
       "metadata": {
        "createTempViewForImplicitDf": true,
        "dataframeName": "_sqldf",
        "executionCount": 13
       },
       "overflow": false,
       "plotOptions": {
        "customPlotOptions": {},
        "displayType": "table",
        "pivotAggregation": null,
        "pivotColumns": null,
        "xColumns": null,
        "yColumns": null
       },
       "removedWidgets": [],
       "schema": [
        {
         "metadata": "{\"__CHAR_VARCHAR_TYPE_STRING\": \"varchar(100)\"}",
         "name": "Field_of_Study",
         "type": "\"string\""
        },
        {
         "metadata": "{}",
         "name": "qtd_estudantes",
         "type": "\"long\""
        }
       ],
       "type": "table"
      }
     },
     "output_type": "display_data"
    }
   ],
   "source": [
    "SELECT\n",
    "    Field_of_Study,\n",
    "    COUNT(*) AS qtd_estudantes\n",
    "FROM education_info\n",
    "GROUP BY Field_of_Study\n",
    "ORDER BY qtd_estudantes DESC;\n"
   ]
  },
  {
   "cell_type": "markdown",
   "metadata": {
    "application/vnd.databricks.v1+cell": {
     "cellMetadata": {
      "byteLimit": 2048000,
      "rowLimit": 10000
     },
     "inputWidgets": {},
     "nuid": "799282ae-a470-418c-b003-a7c7b0dee961",
     "showTitle": false,
     "tableResultSettingsMap": {},
     "title": ""
    }
   },
   "source": [
    "<img src=\"Tabela_quali_education_info2.png\" width=\"1000\">"
   ]
  },
  {
   "cell_type": "markdown",
   "metadata": {
    "application/vnd.databricks.v1+cell": {
     "cellMetadata": {
      "byteLimit": 2048000,
      "rowLimit": 10000
     },
     "inputWidgets": {},
     "nuid": "ba10a587-ceed-4756-bd8e-3b5687ce6bdf",
     "showTitle": false,
     "tableResultSettingsMap": {},
     "title": ""
    }
   },
   "source": [
    "##Análise de qualidade para a tabela  \"**experience_info**\".\n",
    "\n",
    "- Verificação de valores fora dos limites esperados."
   ]
  },
  {
   "cell_type": "code",
   "execution_count": 0,
   "metadata": {
    "application/vnd.databricks.v1+cell": {
     "cellMetadata": {
      "byteLimit": 2048000,
      "rowLimit": 10000
     },
     "inputWidgets": {},
     "nuid": "e1bcd847-8388-4450-b85d-895530ba4cfa",
     "showTitle": false,
     "tableResultSettingsMap": {},
     "title": ""
    }
   },
   "outputs": [
    {
     "output_type": "display_data",
     "data": {
      "text/html": [
       "<style scoped>\n",
       "  .table-result-container {\n",
       "    max-height: 300px;\n",
       "    overflow: auto;\n",
       "  }\n",
       "  table, th, td {\n",
       "    border: 1px solid black;\n",
       "    border-collapse: collapse;\n",
       "  }\n",
       "  th, td {\n",
       "    padding: 5px;\n",
       "  }\n",
       "  th {\n",
       "    text-align: left;\n",
       "  }\n",
       "</style><div class='table-result-container'><table class='table-result'><thead style='background-color: white'><tr><th>min_internships</th><th>max_internships</th><th>min_soft_skills</th><th>max_soft_skills</th><th>min_networking</th><th>max_networking</th></tr></thead><tbody><tr><td>0</td><td>4</td><td>1</td><td>10</td><td>1</td><td>10</td></tr></tbody></table></div>"
      ]
     },
     "metadata": {
      "application/vnd.databricks.v1+output": {
       "addedWidgets": {},
       "aggData": [],
       "aggError": "",
       "aggOverflow": false,
       "aggSchema": [],
       "aggSeriesLimitReached": false,
       "aggType": "",
       "arguments": {},
       "columnCustomDisplayInfos": {},
       "data": [
        [
         0,
         4,
         1,
         10,
         1,
         10
        ]
       ],
       "datasetInfos": [
        {
         "name": "_sqldf",
         "schema": {
          "fields": [
           {
            "metadata": {},
            "name": "min_internships",
            "nullable": true,
            "type": "integer"
           },
           {
            "metadata": {},
            "name": "max_internships",
            "nullable": true,
            "type": "integer"
           },
           {
            "metadata": {},
            "name": "min_soft_skills",
            "nullable": true,
            "type": "integer"
           },
           {
            "metadata": {},
            "name": "max_soft_skills",
            "nullable": true,
            "type": "integer"
           },
           {
            "metadata": {},
            "name": "min_networking",
            "nullable": true,
            "type": "integer"
           },
           {
            "metadata": {},
            "name": "max_networking",
            "nullable": true,
            "type": "integer"
           }
          ],
          "type": "struct"
         },
         "tableIdentifier": null,
         "typeStr": "pyspark.sql.connect.dataframe.DataFrame"
        }
       ],
       "dbfsResultPath": null,
       "isJsonSchema": true,
       "metadata": {
        "createTempViewForImplicitDf": true,
        "dataframeName": "_sqldf",
        "executionCount": 14
       },
       "overflow": false,
       "plotOptions": {
        "customPlotOptions": {},
        "displayType": "table",
        "pivotAggregation": null,
        "pivotColumns": null,
        "xColumns": null,
        "yColumns": null
       },
       "removedWidgets": [],
       "schema": [
        {
         "metadata": "{}",
         "name": "min_internships",
         "type": "\"integer\""
        },
        {
         "metadata": "{}",
         "name": "max_internships",
         "type": "\"integer\""
        },
        {
         "metadata": "{}",
         "name": "min_soft_skills",
         "type": "\"integer\""
        },
        {
         "metadata": "{}",
         "name": "max_soft_skills",
         "type": "\"integer\""
        },
        {
         "metadata": "{}",
         "name": "min_networking",
         "type": "\"integer\""
        },
        {
         "metadata": "{}",
         "name": "max_networking",
         "type": "\"integer\""
        }
       ],
       "type": "table"
      }
     },
     "output_type": "display_data"
    }
   ],
   "source": [
    "SELECT\n",
    "    MIN(Internships_Completed) AS min_internships,\n",
    "    MAX(Internships_Completed) AS max_internships,\n",
    "    MIN(Soft_Skills_Score) AS min_soft_skills,\n",
    "    MAX(Soft_Skills_Score) AS max_soft_skills,\n",
    "    MIN(Networking_Score) AS min_networking,\n",
    "    MAX(Networking_Score) AS max_networking\n",
    "FROM experience_info;\n"
   ]
  },
  {
   "cell_type": "markdown",
   "metadata": {
    "application/vnd.databricks.v1+cell": {
     "cellMetadata": {
      "byteLimit": 2048000,
      "rowLimit": 10000
     },
     "inputWidgets": {},
     "nuid": "df635568-5fad-4c93-91db-57aeadfefd2b",
     "showTitle": false,
     "tableResultSettingsMap": {},
     "title": ""
    }
   },
   "source": [
    "<img src=\"Tabela_quali_experience_info1.png\" width=\"1000\">"
   ]
  },
  {
   "cell_type": "markdown",
   "metadata": {
    "application/vnd.databricks.v1+cell": {
     "cellMetadata": {
      "byteLimit": 2048000,
      "rowLimit": 10000
     },
     "inputWidgets": {},
     "nuid": "767af9fc-2a48-42c0-a8f9-e2dcd8a239a6",
     "showTitle": false,
     "tableResultSettingsMap": {},
     "title": ""
    }
   },
   "source": [
    "- Verificação de valores ausentes."
   ]
  },
  {
   "cell_type": "code",
   "execution_count": 0,
   "metadata": {
    "application/vnd.databricks.v1+cell": {
     "cellMetadata": {
      "byteLimit": 2048000,
      "rowLimit": 10000
     },
     "inputWidgets": {},
     "nuid": "ceedb3da-fd7d-44be-b294-915c423548ea",
     "showTitle": false,
     "tableResultSettingsMap": {},
     "title": ""
    }
   },
   "outputs": [
    {
     "output_type": "display_data",
     "data": {
      "text/html": [
       "<style scoped>\n",
       "  .table-result-container {\n",
       "    max-height: 300px;\n",
       "    overflow: auto;\n",
       "  }\n",
       "  table, th, td {\n",
       "    border: 1px solid black;\n",
       "    border-collapse: collapse;\n",
       "  }\n",
       "  th, td {\n",
       "    padding: 5px;\n",
       "  }\n",
       "  th {\n",
       "    text-align: left;\n",
       "  }\n",
       "</style><div class='table-result-container'><table class='table-result'><thead style='background-color: white'><tr><th>missing_internships</th><th>missing_projects</th><th>missing_certifications</th></tr></thead><tbody><tr><td>0</td><td>0</td><td>0</td></tr></tbody></table></div>"
      ]
     },
     "metadata": {
      "application/vnd.databricks.v1+output": {
       "addedWidgets": {},
       "aggData": [],
       "aggError": "",
       "aggOverflow": false,
       "aggSchema": [],
       "aggSeriesLimitReached": false,
       "aggType": "",
       "arguments": {},
       "columnCustomDisplayInfos": {},
       "data": [
        [
         0,
         0,
         0
        ]
       ],
       "datasetInfos": [
        {
         "name": "_sqldf",
         "schema": {
          "fields": [
           {
            "metadata": {},
            "name": "missing_internships",
            "nullable": false,
            "type": "long"
           },
           {
            "metadata": {},
            "name": "missing_projects",
            "nullable": false,
            "type": "long"
           },
           {
            "metadata": {},
            "name": "missing_certifications",
            "nullable": false,
            "type": "long"
           }
          ],
          "type": "struct"
         },
         "tableIdentifier": null,
         "typeStr": "pyspark.sql.connect.dataframe.DataFrame"
        }
       ],
       "dbfsResultPath": null,
       "isJsonSchema": true,
       "metadata": {
        "createTempViewForImplicitDf": true,
        "dataframeName": "_sqldf",
        "executionCount": 15
       },
       "overflow": false,
       "plotOptions": {
        "customPlotOptions": {},
        "displayType": "table",
        "pivotAggregation": null,
        "pivotColumns": null,
        "xColumns": null,
        "yColumns": null
       },
       "removedWidgets": [],
       "schema": [
        {
         "metadata": "{}",
         "name": "missing_internships",
         "type": "\"long\""
        },
        {
         "metadata": "{}",
         "name": "missing_projects",
         "type": "\"long\""
        },
        {
         "metadata": "{}",
         "name": "missing_certifications",
         "type": "\"long\""
        }
       ],
       "type": "table"
      }
     },
     "output_type": "display_data"
    }
   ],
   "source": [
    "SELECT\n",
    "    COUNT(*) - COUNT(Internships_Completed) AS missing_internships,\n",
    "    COUNT(*) - COUNT(Projects_Completed) AS missing_projects,\n",
    "    COUNT(*) - COUNT(Certifications) AS missing_certifications\n",
    "FROM experience_info;\n"
   ]
  },
  {
   "cell_type": "markdown",
   "metadata": {
    "application/vnd.databricks.v1+cell": {
     "cellMetadata": {
      "byteLimit": 2048000,
      "rowLimit": 10000
     },
     "inputWidgets": {},
     "nuid": "9a755bee-511e-420a-8486-ce10a837137d",
     "showTitle": false,
     "tableResultSettingsMap": {},
     "title": ""
    }
   },
   "source": [
    "<img src=\"Tabela_quali_experience_info2.png\" width=\"1000\">"
   ]
  },
  {
   "cell_type": "markdown",
   "metadata": {
    "application/vnd.databricks.v1+cell": {
     "cellMetadata": {
      "byteLimit": 2048000,
      "rowLimit": 10000
     },
     "inputWidgets": {},
     "nuid": "b7c557d0-ccf4-4450-8eec-9d511c6cb6fc",
     "showTitle": false,
     "tableResultSettingsMap": {},
     "title": ""
    }
   },
   "source": [
    "##Análise de qualidade para a tabela  \"**career_info**\".\n",
    "\n",
    "- Verificação dos intervalos de salário e promoções."
   ]
  },
  {
   "cell_type": "code",
   "execution_count": 0,
   "metadata": {
    "application/vnd.databricks.v1+cell": {
     "cellMetadata": {
      "byteLimit": 2048000,
      "rowLimit": 10000
     },
     "inputWidgets": {},
     "nuid": "658c9c02-bdb1-48a0-9fd0-1a3885ee4d48",
     "showTitle": false,
     "tableResultSettingsMap": {},
     "title": ""
    }
   },
   "outputs": [
    {
     "output_type": "display_data",
     "data": {
      "text/html": [
       "<style scoped>\n",
       "  .table-result-container {\n",
       "    max-height: 300px;\n",
       "    overflow: auto;\n",
       "  }\n",
       "  table, th, td {\n",
       "    border: 1px solid black;\n",
       "    border-collapse: collapse;\n",
       "  }\n",
       "  th, td {\n",
       "    padding: 5px;\n",
       "  }\n",
       "  th {\n",
       "    text-align: left;\n",
       "  }\n",
       "</style><div class='table-result-container'><table class='table-result'><thead style='background-color: white'><tr><th>min_salary</th><th>max_salary</th><th>min_years_promotion</th><th>max_years_promotion</th></tr></thead><tbody><tr><td>25000.0</td><td>101000.0</td><td>1</td><td>5</td></tr></tbody></table></div>"
      ]
     },
     "metadata": {
      "application/vnd.databricks.v1+output": {
       "addedWidgets": {},
       "aggData": [],
       "aggError": "",
       "aggOverflow": false,
       "aggSchema": [],
       "aggSeriesLimitReached": false,
       "aggType": "",
       "arguments": {},
       "columnCustomDisplayInfos": {},
       "data": [
        [
         25000.0,
         101000.0,
         1,
         5
        ]
       ],
       "datasetInfos": [
        {
         "name": "_sqldf",
         "schema": {
          "fields": [
           {
            "metadata": {},
            "name": "min_salary",
            "nullable": true,
            "type": "float"
           },
           {
            "metadata": {},
            "name": "max_salary",
            "nullable": true,
            "type": "float"
           },
           {
            "metadata": {},
            "name": "min_years_promotion",
            "nullable": true,
            "type": "integer"
           },
           {
            "metadata": {},
            "name": "max_years_promotion",
            "nullable": true,
            "type": "integer"
           }
          ],
          "type": "struct"
         },
         "tableIdentifier": null,
         "typeStr": "pyspark.sql.connect.dataframe.DataFrame"
        }
       ],
       "dbfsResultPath": null,
       "isJsonSchema": true,
       "metadata": {
        "createTempViewForImplicitDf": true,
        "dataframeName": "_sqldf",
        "executionCount": 16
       },
       "overflow": false,
       "plotOptions": {
        "customPlotOptions": {},
        "displayType": "table",
        "pivotAggregation": null,
        "pivotColumns": null,
        "xColumns": null,
        "yColumns": null
       },
       "removedWidgets": [],
       "schema": [
        {
         "metadata": "{}",
         "name": "min_salary",
         "type": "\"float\""
        },
        {
         "metadata": "{}",
         "name": "max_salary",
         "type": "\"float\""
        },
        {
         "metadata": "{}",
         "name": "min_years_promotion",
         "type": "\"integer\""
        },
        {
         "metadata": "{}",
         "name": "max_years_promotion",
         "type": "\"integer\""
        }
       ],
       "type": "table"
      }
     },
     "output_type": "display_data"
    }
   ],
   "source": [
    "SELECT\n",
    "    MIN(Starting_Salary) AS min_salary,\n",
    "    MAX(Starting_Salary) AS max_salary,\n",
    "    MIN(Years_to_Promotion) AS min_years_promotion,\n",
    "    MAX(Years_to_Promotion) AS max_years_promotion\n",
    "FROM career_info;"
   ]
  },
  {
   "cell_type": "markdown",
   "metadata": {
    "application/vnd.databricks.v1+cell": {
     "cellMetadata": {
      "byteLimit": 2048000,
      "rowLimit": 10000
     },
     "inputWidgets": {},
     "nuid": "21cadba1-166d-4689-ae51-c8ac90d4772b",
     "showTitle": false,
     "tableResultSettingsMap": {},
     "title": ""
    }
   },
   "source": [
    "<img src=\"Tabela_quali_career_info1.png\" width=\"1000\">"
   ]
  },
  {
   "cell_type": "markdown",
   "metadata": {
    "application/vnd.databricks.v1+cell": {
     "cellMetadata": {
      "byteLimit": 2048000,
      "rowLimit": 10000
     },
     "inputWidgets": {},
     "nuid": "8e445247-e474-433f-8357-497dd7efdb84",
     "showTitle": false,
     "tableResultSettingsMap": {},
     "title": ""
    }
   },
   "source": [
    "- Verificação de valores inconsistentes na coluna \"Job_Offers\"."
   ]
  },
  {
   "cell_type": "code",
   "execution_count": 0,
   "metadata": {
    "application/vnd.databricks.v1+cell": {
     "cellMetadata": {
      "byteLimit": 2048000,
      "rowLimit": 10000
     },
     "inputWidgets": {},
     "nuid": "acc8d358-01a8-48fc-ac9c-0d5a5fd33813",
     "showTitle": false,
     "tableResultSettingsMap": {},
     "title": ""
    }
   },
   "outputs": [
    {
     "output_type": "display_data",
     "data": {
      "text/html": [
       "<style scoped>\n",
       "  .table-result-container {\n",
       "    max-height: 300px;\n",
       "    overflow: auto;\n",
       "  }\n",
       "  table, th, td {\n",
       "    border: 1px solid black;\n",
       "    border-collapse: collapse;\n",
       "  }\n",
       "  th, td {\n",
       "    padding: 5px;\n",
       "  }\n",
       "  th {\n",
       "    text-align: left;\n",
       "  }\n",
       "</style><div class='table-result-container'><table class='table-result'><thead style='background-color: white'><tr><th>Job_Offers</th><th>qtd_estudantes</th></tr></thead><tbody><tr><td>0</td><td>3392</td></tr><tr><td>1</td><td>3292</td></tr><tr><td>2</td><td>3424</td></tr><tr><td>3</td><td>3304</td></tr><tr><td>4</td><td>3216</td></tr><tr><td>5</td><td>3372</td></tr></tbody></table></div>"
      ]
     },
     "metadata": {
      "application/vnd.databricks.v1+output": {
       "addedWidgets": {},
       "aggData": [],
       "aggError": "",
       "aggOverflow": false,
       "aggSchema": [],
       "aggSeriesLimitReached": false,
       "aggType": "",
       "arguments": {},
       "columnCustomDisplayInfos": {},
       "data": [
        [
         0,
         3392
        ],
        [
         1,
         3292
        ],
        [
         2,
         3424
        ],
        [
         3,
         3304
        ],
        [
         4,
         3216
        ],
        [
         5,
         3372
        ]
       ],
       "datasetInfos": [
        {
         "name": "_sqldf",
         "schema": {
          "fields": [
           {
            "metadata": {},
            "name": "Job_Offers",
            "nullable": true,
            "type": "integer"
           },
           {
            "metadata": {},
            "name": "qtd_estudantes",
            "nullable": false,
            "type": "long"
           }
          ],
          "type": "struct"
         },
         "tableIdentifier": null,
         "typeStr": "pyspark.sql.connect.dataframe.DataFrame"
        }
       ],
       "dbfsResultPath": null,
       "isJsonSchema": true,
       "metadata": {
        "createTempViewForImplicitDf": true,
        "dataframeName": "_sqldf",
        "executionCount": 17
       },
       "overflow": false,
       "plotOptions": {
        "customPlotOptions": {},
        "displayType": "table",
        "pivotAggregation": null,
        "pivotColumns": null,
        "xColumns": null,
        "yColumns": null
       },
       "removedWidgets": [],
       "schema": [
        {
         "metadata": "{}",
         "name": "Job_Offers",
         "type": "\"integer\""
        },
        {
         "metadata": "{}",
         "name": "qtd_estudantes",
         "type": "\"long\""
        }
       ],
       "type": "table"
      }
     },
     "output_type": "display_data"
    }
   ],
   "source": [
    "SELECT\n",
    "    Job_Offers,\n",
    "    COUNT(*) AS qtd_estudantes\n",
    "FROM career_info\n",
    "GROUP BY Job_Offers\n",
    "ORDER BY Job_Offers;\n"
   ]
  },
  {
   "cell_type": "markdown",
   "metadata": {
    "application/vnd.databricks.v1+cell": {
     "cellMetadata": {
      "byteLimit": 2048000,
      "rowLimit": 10000
     },
     "inputWidgets": {},
     "nuid": "d025f53b-11d2-4081-b136-a045c0768841",
     "showTitle": false,
     "tableResultSettingsMap": {},
     "title": ""
    }
   },
   "source": [
    "<img src=\"Tabela_quali_career_info2.png\" width=\"1000\">"
   ]
  },
  {
   "cell_type": "markdown",
   "metadata": {
    "application/vnd.databricks.v1+cell": {
     "cellMetadata": {
      "byteLimit": 2048000,
      "rowLimit": 10000
     },
     "inputWidgets": {},
     "nuid": "f35c5d7e-a50e-4625-9ae0-6dc415d59bed",
     "showTitle": false,
     "tableResultSettingsMap": {},
     "title": ""
    }
   },
   "source": [
    "#CAMADA OURO (DADOS PRONTOS PARA ANÁLISE)"
   ]
  },
  {
   "cell_type": "markdown",
   "metadata": {
    "application/vnd.databricks.v1+cell": {
     "cellMetadata": {
      "byteLimit": 2048000,
      "rowLimit": 10000
     },
     "inputWidgets": {},
     "nuid": "447f8f1c-df21-4c7a-83b7-2ce29a51b268",
     "showTitle": false,
     "tableResultSettingsMap": {},
     "title": ""
    }
   },
   "source": [
    "#Solução dos problemas definidos nos objetivos."
   ]
  },
  {
   "cell_type": "markdown",
   "metadata": {
    "application/vnd.databricks.v1+cell": {
     "cellMetadata": {
      "byteLimit": 2048000,
      "rowLimit": 10000
     },
     "inputWidgets": {},
     "nuid": "072450df-3837-4516-b3be-17ed38f0fefa",
     "showTitle": false,
     "tableResultSettingsMap": {},
     "title": ""
    }
   },
   "source": [
    "### 1. Estudantes de universidades mais bem classificadas ganham salários iniciais mais altos? "
   ]
  },
  {
   "cell_type": "code",
   "execution_count": 0,
   "metadata": {
    "application/vnd.databricks.v1+cell": {
     "cellMetadata": {
      "byteLimit": 2048000,
      "rowLimit": 10000
     },
     "inputWidgets": {},
     "nuid": "ff393fb7-7f2b-4b0b-8a7b-2470f1e8b11d",
     "showTitle": false,
     "tableResultSettingsMap": {},
     "title": ""
    }
   },
   "outputs": [
    {
     "output_type": "display_data",
     "data": {
      "text/html": [
       "<style scoped>\n",
       "  .table-result-container {\n",
       "    max-height: 300px;\n",
       "    overflow: auto;\n",
       "  }\n",
       "  table, th, td {\n",
       "    border: 1px solid black;\n",
       "    border-collapse: collapse;\n",
       "  }\n",
       "  th, td {\n",
       "    padding: 5px;\n",
       "  }\n",
       "  th {\n",
       "    text-align: left;\n",
       "  }\n",
       "</style><div class='table-result-container'><table class='table-result'><thead style='background-color: white'><tr><th>University_Ranking</th><th>Avg_Starting_Salary</th></tr></thead><tbody><tr><td>1</td><td>52533.333333333336</td></tr><tr><td>2</td><td>50975.0</td></tr><tr><td>3</td><td>52580.0</td></tr><tr><td>4</td><td>49250.0</td></tr><tr><td>5</td><td>45640.0</td></tr><tr><td>6</td><td>39800.0</td></tr><tr><td>7</td><td>54533.333333333336</td></tr><tr><td>8</td><td>57650.0</td></tr><tr><td>9</td><td>47175.0</td></tr><tr><td>10</td><td>44950.0</td></tr><tr><td>11</td><td>59600.0</td></tr><tr><td>12</td><td>49160.0</td></tr><tr><td>13</td><td>48040.0</td></tr><tr><td>14</td><td>59250.0</td></tr><tr><td>15</td><td>49433.333333333336</td></tr><tr><td>16</td><td>42800.0</td></tr><tr><td>17</td><td>47414.28571428572</td></tr><tr><td>18</td><td>52700.0</td></tr><tr><td>19</td><td>46350.0</td></tr><tr><td>20</td><td>71100.0</td></tr><tr><td>21</td><td>52250.0</td></tr><tr><td>22</td><td>52142.857142857145</td></tr><tr><td>23</td><td>51200.0</td></tr><tr><td>24</td><td>59225.0</td></tr><tr><td>25</td><td>48650.0</td></tr><tr><td>26</td><td>65900.0</td></tr><tr><td>27</td><td>46557.142857142855</td></tr><tr><td>28</td><td>29900.0</td></tr><tr><td>29</td><td>41733.333333333336</td></tr><tr><td>30</td><td>51966.666666666664</td></tr><tr><td>31</td><td>47785.71428571428</td></tr><tr><td>32</td><td>63950.0</td></tr><tr><td>33</td><td>47220.0</td></tr><tr><td>34</td><td>52620.0</td></tr><tr><td>35</td><td>60166.666666666664</td></tr><tr><td>36</td><td>50033.333333333336</td></tr><tr><td>37</td><td>49740.0</td></tr><tr><td>38</td><td>47500.0</td></tr><tr><td>39</td><td>42260.0</td></tr><tr><td>40</td><td>45914.28571428572</td></tr><tr><td>41</td><td>47275.0</td></tr><tr><td>42</td><td>54971.42857142857</td></tr><tr><td>43</td><td>55660.0</td></tr><tr><td>44</td><td>44271.42857142857</td></tr><tr><td>45</td><td>49771.42857142857</td></tr><tr><td>46</td><td>49475.0</td></tr><tr><td>47</td><td>44800.0</td></tr><tr><td>48</td><td>52400.0</td></tr><tr><td>49</td><td>47000.0</td></tr><tr><td>50</td><td>49183.333333333336</td></tr><tr><td>51</td><td>53483.333333333336</td></tr><tr><td>52</td><td>45557.142857142855</td></tr><tr><td>53</td><td>43683.333333333336</td></tr><tr><td>54</td><td>57666.666666666664</td></tr><tr><td>55</td><td>63400.0</td></tr><tr><td>56</td><td>43000.0</td></tr><tr><td>57</td><td>47480.0</td></tr><tr><td>58</td><td>51183.333333333336</td></tr><tr><td>59</td><td>44085.71428571428</td></tr><tr><td>60</td><td>48750.0</td></tr><tr><td>61</td><td>38883.333333333336</td></tr><tr><td>62</td><td>44925.0</td></tr><tr><td>63</td><td>42950.0</td></tr><tr><td>64</td><td>47300.0</td></tr><tr><td>65</td><td>77800.0</td></tr><tr><td>66</td><td>58914.28571428572</td></tr><tr><td>67</td><td>66040.0</td></tr><tr><td>68</td><td>52200.0</td></tr><tr><td>69</td><td>54025.0</td></tr><tr><td>70</td><td>46166.666666666664</td></tr><tr><td>71</td><td>49280.0</td></tr><tr><td>72</td><td>60400.0</td></tr><tr><td>73</td><td>53400.0</td></tr><tr><td>74</td><td>53040.0</td></tr><tr><td>75</td><td>54437.5</td></tr><tr><td>76</td><td>45500.0</td></tr><tr><td>77</td><td>50183.333333333336</td></tr><tr><td>78</td><td>55240.0</td></tr><tr><td>79</td><td>52620.0</td></tr><tr><td>80</td><td>53020.0</td></tr><tr><td>81</td><td>45120.0</td></tr><tr><td>82</td><td>55666.666666666664</td></tr><tr><td>83</td><td>58750.0</td></tr><tr><td>84</td><td>50350.0</td></tr><tr><td>85</td><td>51016.666666666664</td></tr><tr><td>86</td><td>57100.0</td></tr><tr><td>87</td><td>56575.0</td></tr><tr><td>88</td><td>54683.333333333336</td></tr><tr><td>89</td><td>48650.0</td></tr><tr><td>90</td><td>65740.0</td></tr><tr><td>91</td><td>50040.0</td></tr><tr><td>92</td><td>52720.0</td></tr><tr><td>93</td><td>49466.666666666664</td></tr><tr><td>94</td><td>50700.0</td></tr><tr><td>95</td><td>42475.0</td></tr><tr><td>96</td><td>50933.333333333336</td></tr><tr><td>97</td><td>58400.0</td></tr><tr><td>98</td><td>43585.71428571428</td></tr><tr><td>99</td><td>60733.333333333336</td></tr><tr><td>100</td><td>54800.0</td></tr><tr><td>101</td><td>60800.0</td></tr><tr><td>102</td><td>53183.333333333336</td></tr><tr><td>103</td><td>61800.0</td></tr><tr><td>104</td><td>59250.0</td></tr><tr><td>105</td><td>44525.0</td></tr><tr><td>106</td><td>49500.0</td></tr><tr><td>107</td><td>51214.28571428572</td></tr><tr><td>108</td><td>38925.0</td></tr><tr><td>109</td><td>49837.5</td></tr><tr><td>110</td><td>56240.0</td></tr><tr><td>111</td><td>38760.0</td></tr><tr><td>112</td><td>50566.666666666664</td></tr><tr><td>113</td><td>52600.0</td></tr><tr><td>114</td><td>38075.0</td></tr><tr><td>115</td><td>54416.666666666664</td></tr><tr><td>116</td><td>51285.71428571428</td></tr><tr><td>117</td><td>53775.0</td></tr><tr><td>118</td><td>43600.0</td></tr><tr><td>119</td><td>42720.0</td></tr><tr><td>120</td><td>56840.0</td></tr><tr><td>121</td><td>44333.333333333336</td></tr><tr><td>122</td><td>69900.0</td></tr><tr><td>123</td><td>55916.666666666664</td></tr><tr><td>124</td><td>52271.42857142857</td></tr><tr><td>125</td><td>55600.0</td></tr><tr><td>126</td><td>44850.0</td></tr><tr><td>127</td><td>48250.0</td></tr><tr><td>128</td><td>54316.666666666664</td></tr><tr><td>129</td><td>48071.42857142857</td></tr><tr><td>130</td><td>48083.333333333336</td></tr><tr><td>131</td><td>47825.0</td></tr><tr><td>132</td><td>57671.42857142857</td></tr><tr><td>133</td><td>59366.666666666664</td></tr><tr><td>134</td><td>56344.444444444445</td></tr><tr><td>135</td><td>55700.0</td></tr><tr><td>136</td><td>56575.0</td></tr><tr><td>137</td><td>41650.0</td></tr><tr><td>138</td><td>53733.333333333336</td></tr><tr><td>139</td><td>43700.0</td></tr><tr><td>140</td><td>48480.0</td></tr><tr><td>141</td><td>55850.0</td></tr><tr><td>142</td><td>66100.0</td></tr><tr><td>143</td><td>50566.666666666664</td></tr><tr><td>144</td><td>64850.0</td></tr><tr><td>145</td><td>55833.333333333336</td></tr><tr><td>146</td><td>34285.71428571428</td></tr><tr><td>147</td><td>45075.0</td></tr><tr><td>148</td><td>50300.0</td></tr><tr><td>149</td><td>49714.28571428572</td></tr><tr><td>150</td><td>39200.0</td></tr><tr><td>151</td><td>47900.0</td></tr><tr><td>152</td><td>38720.0</td></tr><tr><td>153</td><td>47050.0</td></tr><tr><td>154</td><td>58825.0</td></tr><tr><td>155</td><td>45320.0</td></tr><tr><td>156</td><td>52633.333333333336</td></tr><tr><td>157</td><td>37400.0</td></tr><tr><td>158</td><td>52100.0</td></tr><tr><td>159</td><td>70100.0</td></tr><tr><td>160</td><td>47400.0</td></tr><tr><td>161</td><td>47000.0</td></tr><tr><td>162</td><td>45742.857142857145</td></tr><tr><td>163</td><td>39383.333333333336</td></tr><tr><td>164</td><td>45366.666666666664</td></tr><tr><td>165</td><td>56981.818181818184</td></tr><tr><td>166</td><td>46960.0</td></tr><tr><td>167</td><td>53600.0</td></tr><tr><td>168</td><td>49175.0</td></tr><tr><td>169</td><td>46314.28571428572</td></tr><tr><td>170</td><td>44500.0</td></tr><tr><td>171</td><td>48175.0</td></tr><tr><td>172</td><td>65200.0</td></tr><tr><td>173</td><td>59450.0</td></tr><tr><td>174</td><td>46250.0</td></tr><tr><td>175</td><td>47883.333333333336</td></tr><tr><td>176</td><td>47457.142857142855</td></tr><tr><td>177</td><td>44633.333333333336</td></tr><tr><td>178</td><td>48780.0</td></tr><tr><td>179</td><td>52225.0</td></tr><tr><td>180</td><td>31000.0</td></tr><tr><td>181</td><td>47200.0</td></tr><tr><td>182</td><td>52525.0</td></tr><tr><td>183</td><td>44575.0</td></tr><tr><td>184</td><td>50333.333333333336</td></tr><tr><td>185</td><td>71050.0</td></tr><tr><td>186</td><td>50314.28571428572</td></tr><tr><td>187</td><td>42850.0</td></tr><tr><td>188</td><td>48700.0</td></tr><tr><td>189</td><td>44375.0</td></tr><tr><td>190</td><td>50800.0</td></tr><tr><td>191</td><td>47460.0</td></tr><tr><td>192</td><td>40300.0</td></tr><tr><td>193</td><td>37675.0</td></tr><tr><td>194</td><td>49916.666666666664</td></tr><tr><td>195</td><td>48150.0</td></tr><tr><td>196</td><td>52766.666666666664</td></tr><tr><td>197</td><td>59650.0</td></tr><tr><td>198</td><td>48075.0</td></tr><tr><td>199</td><td>46714.28571428572</td></tr><tr><td>200</td><td>57400.0</td></tr><tr><td>201</td><td>38450.0</td></tr><tr><td>202</td><td>55700.0</td></tr><tr><td>203</td><td>52342.857142857145</td></tr><tr><td>204</td><td>48866.666666666664</td></tr><tr><td>205</td><td>55885.71428571428</td></tr><tr><td>206</td><td>39400.0</td></tr><tr><td>207</td><td>47283.333333333336</td></tr><tr><td>208</td><td>55466.666666666664</td></tr><tr><td>209</td><td>48916.666666666664</td></tr><tr><td>210</td><td>46750.0</td></tr><tr><td>211</td><td>59850.0</td></tr><tr><td>212</td><td>52675.0</td></tr><tr><td>213</td><td>61450.0</td></tr><tr><td>214</td><td>53350.0</td></tr><tr><td>215</td><td>56850.0</td></tr><tr><td>216</td><td>54087.5</td></tr><tr><td>217</td><td>50725.0</td></tr><tr><td>218</td><td>51900.0</td></tr><tr><td>219</td><td>41425.0</td></tr><tr><td>220</td><td>55183.333333333336</td></tr><tr><td>221</td><td>40666.666666666664</td></tr><tr><td>222</td><td>42657.142857142855</td></tr><tr><td>223</td><td>49660.0</td></tr><tr><td>224</td><td>58800.0</td></tr><tr><td>225</td><td>43925.0</td></tr><tr><td>227</td><td>60125.0</td></tr><tr><td>228</td><td>38425.0</td></tr><tr><td>229</td><td>58133.333333333336</td></tr><tr><td>230</td><td>43650.0</td></tr><tr><td>231</td><td>54640.0</td></tr><tr><td>232</td><td>50575.0</td></tr><tr><td>233</td><td>67200.0</td></tr><tr><td>234</td><td>62675.0</td></tr><tr><td>235</td><td>51066.666666666664</td></tr><tr><td>236</td><td>38300.0</td></tr><tr><td>237</td><td>55975.0</td></tr><tr><td>238</td><td>56116.666666666664</td></tr><tr><td>239</td><td>49728.57142857143</td></tr><tr><td>240</td><td>51900.0</td></tr><tr><td>241</td><td>51377.77777777778</td></tr><tr><td>242</td><td>49300.0</td></tr><tr><td>243</td><td>50483.333333333336</td></tr><tr><td>244</td><td>53942.857142857145</td></tr><tr><td>245</td><td>56200.0</td></tr><tr><td>246</td><td>54500.0</td></tr><tr><td>247</td><td>58700.0</td></tr><tr><td>248</td><td>47900.0</td></tr><tr><td>249</td><td>58533.333333333336</td></tr><tr><td>250</td><td>56371.42857142857</td></tr><tr><td>251</td><td>50800.0</td></tr><tr><td>252</td><td>57800.0</td></tr><tr><td>253</td><td>51677.77777777778</td></tr><tr><td>254</td><td>55325.0</td></tr><tr><td>255</td><td>46120.0</td></tr><tr><td>256</td><td>49366.666666666664</td></tr><tr><td>257</td><td>52614.28571428572</td></tr><tr><td>258</td><td>52271.42857142857</td></tr><tr><td>259</td><td>47630.0</td></tr><tr><td>260</td><td>51085.71428571428</td></tr><tr><td>261</td><td>41300.0</td></tr><tr><td>262</td><td>49633.333333333336</td></tr><tr><td>263</td><td>42100.0</td></tr><tr><td>264</td><td>37825.0</td></tr><tr><td>265</td><td>61712.5</td></tr><tr><td>266</td><td>53850.0</td></tr><tr><td>267</td><td>55733.333333333336</td></tr><tr><td>268</td><td>44500.0</td></tr><tr><td>269</td><td>51683.333333333336</td></tr><tr><td>270</td><td>53083.333333333336</td></tr><tr><td>272</td><td>44050.0</td></tr><tr><td>273</td><td>36600.0</td></tr><tr><td>274</td><td>54583.333333333336</td></tr><tr><td>275</td><td>47200.0</td></tr><tr><td>276</td><td>46950.0</td></tr><tr><td>277</td><td>42025.0</td></tr><tr><td>278</td><td>51700.0</td></tr><tr><td>279</td><td>56733.333333333336</td></tr><tr><td>280</td><td>50628.57142857143</td></tr><tr><td>281</td><td>54722.22222222222</td></tr><tr><td>282</td><td>43900.0</td></tr><tr><td>283</td><td>56975.0</td></tr><tr><td>284</td><td>63575.0</td></tr><tr><td>285</td><td>49475.0</td></tr><tr><td>286</td><td>54800.0</td></tr><tr><td>287</td><td>48062.5</td></tr><tr><td>288</td><td>47600.0</td></tr><tr><td>289</td><td>48020.0</td></tr><tr><td>290</td><td>49530.0</td></tr><tr><td>291</td><td>45383.333333333336</td></tr><tr><td>292</td><td>48300.0</td></tr><tr><td>293</td><td>47325.0</td></tr><tr><td>294</td><td>38657.142857142855</td></tr><tr><td>295</td><td>42566.666666666664</td></tr><tr><td>296</td><td>50060.0</td></tr><tr><td>297</td><td>59616.666666666664</td></tr><tr><td>298</td><td>46071.42857142857</td></tr><tr><td>299</td><td>57400.0</td></tr><tr><td>300</td><td>50714.28571428572</td></tr><tr><td>301</td><td>60225.0</td></tr><tr><td>302</td><td>45600.0</td></tr><tr><td>303</td><td>57783.333333333336</td></tr><tr><td>304</td><td>57566.666666666664</td></tr><tr><td>305</td><td>45680.0</td></tr><tr><td>306</td><td>47516.666666666664</td></tr><tr><td>307</td><td>28300.0</td></tr><tr><td>308</td><td>46125.0</td></tr><tr><td>309</td><td>48800.0</td></tr><tr><td>310</td><td>43350.0</td></tr><tr><td>311</td><td>70350.0</td></tr><tr><td>312</td><td>55400.0</td></tr><tr><td>313</td><td>61766.666666666664</td></tr><tr><td>314</td><td>37900.0</td></tr><tr><td>315</td><td>50800.0</td></tr><tr><td>316</td><td>46133.333333333336</td></tr><tr><td>317</td><td>48566.666666666664</td></tr><tr><td>318</td><td>47388.88888888889</td></tr><tr><td>319</td><td>41180.0</td></tr><tr><td>320</td><td>55100.0</td></tr><tr><td>321</td><td>51328.57142857143</td></tr><tr><td>322</td><td>59966.666666666664</td></tr><tr><td>323</td><td>57225.0</td></tr><tr><td>324</td><td>60650.0</td></tr><tr><td>325</td><td>42500.0</td></tr><tr><td>326</td><td>41950.0</td></tr><tr><td>327</td><td>50175.0</td></tr><tr><td>328</td><td>45600.0</td></tr><tr><td>329</td><td>55216.666666666664</td></tr><tr><td>330</td><td>35375.0</td></tr><tr><td>331</td><td>38933.333333333336</td></tr><tr><td>332</td><td>54620.0</td></tr><tr><td>333</td><td>55050.0</td></tr><tr><td>334</td><td>52142.857142857145</td></tr><tr><td>335</td><td>48850.0</td></tr><tr><td>336</td><td>48025.0</td></tr><tr><td>337</td><td>56914.28571428572</td></tr><tr><td>338</td><td>47400.0</td></tr><tr><td>339</td><td>47071.42857142857</td></tr><tr><td>340</td><td>49500.0</td></tr><tr><td>341</td><td>54860.0</td></tr><tr><td>342</td><td>58200.0</td></tr><tr><td>343</td><td>46020.0</td></tr><tr><td>344</td><td>46300.0</td></tr><tr><td>345</td><td>55725.0</td></tr><tr><td>346</td><td>41500.0</td></tr><tr><td>347</td><td>48810.0</td></tr><tr><td>348</td><td>36700.0</td></tr><tr><td>349</td><td>49257.142857142855</td></tr><tr><td>350</td><td>44883.333333333336</td></tr><tr><td>351</td><td>52260.0</td></tr><tr><td>352</td><td>40371.42857142857</td></tr><tr><td>353</td><td>54700.0</td></tr><tr><td>354</td><td>57366.666666666664</td></tr><tr><td>355</td><td>59971.42857142857</td></tr><tr><td>356</td><td>48600.0</td></tr><tr><td>357</td><td>50757.142857142855</td></tr><tr><td>358</td><td>48942.857142857145</td></tr><tr><td>359</td><td>52483.333333333336</td></tr><tr><td>360</td><td>54300.0</td></tr><tr><td>361</td><td>41871.42857142857</td></tr><tr><td>362</td><td>44933.333333333336</td></tr><tr><td>363</td><td>43425.0</td></tr><tr><td>364</td><td>50800.0</td></tr><tr><td>365</td><td>39533.333333333336</td></tr><tr><td>366</td><td>52380.0</td></tr><tr><td>367</td><td>53542.857142857145</td></tr><tr><td>368</td><td>58385.71428571428</td></tr><tr><td>369</td><td>58800.0</td></tr><tr><td>370</td><td>53000.0</td></tr><tr><td>371</td><td>57133.333333333336</td></tr><tr><td>372</td><td>47100.0</td></tr><tr><td>373</td><td>44042.857142857145</td></tr><tr><td>374</td><td>42733.333333333336</td></tr><tr><td>375</td><td>51811.11111111111</td></tr><tr><td>376</td><td>39250.0</td></tr><tr><td>377</td><td>54383.333333333336</td></tr><tr><td>378</td><td>49300.0</td></tr><tr><td>379</td><td>43300.0</td></tr><tr><td>380</td><td>58333.333333333336</td></tr><tr><td>381</td><td>58457.142857142855</td></tr><tr><td>382</td><td>47920.0</td></tr><tr><td>383</td><td>52066.666666666664</td></tr><tr><td>384</td><td>56025.0</td></tr><tr><td>385</td><td>45050.0</td></tr><tr><td>386</td><td>45980.0</td></tr><tr><td>387</td><td>53266.666666666664</td></tr><tr><td>388</td><td>61500.0</td></tr><tr><td>389</td><td>50750.0</td></tr><tr><td>390</td><td>46975.0</td></tr><tr><td>391</td><td>53250.0</td></tr><tr><td>392</td><td>41300.0</td></tr><tr><td>393</td><td>53133.333333333336</td></tr><tr><td>394</td><td>52250.0</td></tr><tr><td>395</td><td>54975.0</td></tr><tr><td>396</td><td>46587.5</td></tr><tr><td>397</td><td>47441.666666666664</td></tr><tr><td>398</td><td>33000.0</td></tr><tr><td>399</td><td>47354.545454545456</td></tr><tr><td>400</td><td>39366.666666666664</td></tr><tr><td>401</td><td>50200.0</td></tr><tr><td>402</td><td>66200.0</td></tr><tr><td>403</td><td>54766.666666666664</td></tr><tr><td>404</td><td>51233.333333333336</td></tr><tr><td>405</td><td>43700.0</td></tr><tr><td>406</td><td>52600.0</td></tr><tr><td>407</td><td>49266.666666666664</td></tr><tr><td>408</td><td>54000.0</td></tr><tr><td>409</td><td>53833.333333333336</td></tr><tr><td>410</td><td>40125.0</td></tr><tr><td>411</td><td>53300.0</td></tr><tr><td>412</td><td>52900.0</td></tr><tr><td>413</td><td>42350.0</td></tr><tr><td>414</td><td>49383.333333333336</td></tr><tr><td>415</td><td>56000.0</td></tr><tr><td>416</td><td>50914.28571428572</td></tr><tr><td>417</td><td>38633.333333333336</td></tr><tr><td>418</td><td>53125.0</td></tr><tr><td>419</td><td>50460.0</td></tr><tr><td>420</td><td>58300.0</td></tr><tr><td>421</td><td>59666.666666666664</td></tr><tr><td>422</td><td>49680.0</td></tr><tr><td>423</td><td>43800.0</td></tr><tr><td>424</td><td>41200.0</td></tr><tr><td>425</td><td>49420.0</td></tr><tr><td>426</td><td>48100.0</td></tr><tr><td>427</td><td>51700.0</td></tr><tr><td>428</td><td>58600.0</td></tr><tr><td>429</td><td>60166.666666666664</td></tr><tr><td>430</td><td>46812.5</td></tr><tr><td>431</td><td>52166.666666666664</td></tr><tr><td>432</td><td>45450.0</td></tr><tr><td>433</td><td>50400.0</td></tr><tr><td>434</td><td>46733.333333333336</td></tr><tr><td>435</td><td>52175.0</td></tr><tr><td>436</td><td>57250.0</td></tr><tr><td>437</td><td>60160.0</td></tr><tr><td>438</td><td>62100.0</td></tr><tr><td>439</td><td>42120.0</td></tr><tr><td>440</td><td>31700.0</td></tr><tr><td>441</td><td>43433.333333333336</td></tr><tr><td>442</td><td>56900.0</td></tr><tr><td>443</td><td>62660.0</td></tr><tr><td>444</td><td>56300.0</td></tr><tr><td>445</td><td>43940.0</td></tr><tr><td>446</td><td>43150.0</td></tr><tr><td>447</td><td>54255.555555555555</td></tr><tr><td>448</td><td>50857.142857142855</td></tr><tr><td>449</td><td>45550.0</td></tr><tr><td>450</td><td>64500.0</td></tr><tr><td>451</td><td>48262.5</td></tr><tr><td>452</td><td>44616.666666666664</td></tr><tr><td>453</td><td>42100.0</td></tr><tr><td>454</td><td>47240.0</td></tr><tr><td>455</td><td>47600.0</td></tr><tr><td>456</td><td>48600.0</td></tr><tr><td>457</td><td>54900.0</td></tr><tr><td>458</td><td>44025.0</td></tr><tr><td>459</td><td>51225.0</td></tr><tr><td>460</td><td>56100.0</td></tr><tr><td>461</td><td>61650.0</td></tr><tr><td>462</td><td>52300.0</td></tr><tr><td>463</td><td>53425.0</td></tr><tr><td>464</td><td>46425.0</td></tr><tr><td>465</td><td>53450.0</td></tr><tr><td>466</td><td>49485.71428571428</td></tr><tr><td>467</td><td>60833.333333333336</td></tr><tr><td>468</td><td>54840.0</td></tr><tr><td>469</td><td>44855.555555555555</td></tr><tr><td>470</td><td>48312.5</td></tr><tr><td>471</td><td>51433.333333333336</td></tr><tr><td>472</td><td>47600.0</td></tr><tr><td>473</td><td>56466.666666666664</td></tr><tr><td>474</td><td>39516.666666666664</td></tr><tr><td>475</td><td>45725.0</td></tr><tr><td>476</td><td>53971.42857142857</td></tr><tr><td>477</td><td>52537.5</td></tr><tr><td>478</td><td>54866.666666666664</td></tr><tr><td>479</td><td>43728.57142857143</td></tr><tr><td>480</td><td>50975.0</td></tr><tr><td>481</td><td>53940.0</td></tr><tr><td>482</td><td>38120.0</td></tr><tr><td>483</td><td>51266.666666666664</td></tr><tr><td>484</td><td>59516.666666666664</td></tr><tr><td>485</td><td>41020.0</td></tr><tr><td>486</td><td>46140.0</td></tr><tr><td>487</td><td>59737.5</td></tr><tr><td>488</td><td>43766.666666666664</td></tr><tr><td>489</td><td>51800.0</td></tr><tr><td>490</td><td>52566.666666666664</td></tr><tr><td>491</td><td>44133.333333333336</td></tr><tr><td>492</td><td>45760.0</td></tr><tr><td>493</td><td>51333.333333333336</td></tr><tr><td>494</td><td>49380.0</td></tr><tr><td>495</td><td>45925.0</td></tr><tr><td>496</td><td>45575.0</td></tr><tr><td>497</td><td>44557.142857142855</td></tr><tr><td>498</td><td>57760.0</td></tr><tr><td>499</td><td>41466.666666666664</td></tr><tr><td>500</td><td>64100.0</td></tr><tr><td>501</td><td>48725.0</td></tr><tr><td>502</td><td>42528.57142857143</td></tr><tr><td>503</td><td>52642.857142857145</td></tr><tr><td>504</td><td>41250.0</td></tr><tr><td>505</td><td>48585.71428571428</td></tr><tr><td>506</td><td>55650.0</td></tr><tr><td>507</td><td>54050.0</td></tr><tr><td>508</td><td>55900.0</td></tr><tr><td>509</td><td>39200.0</td></tr><tr><td>510</td><td>49433.333333333336</td></tr><tr><td>511</td><td>50750.0</td></tr><tr><td>512</td><td>51700.0</td></tr><tr><td>513</td><td>48680.0</td></tr><tr><td>514</td><td>45600.0</td></tr><tr><td>515</td><td>44887.5</td></tr><tr><td>516</td><td>62266.666666666664</td></tr><tr><td>517</td><td>41600.0</td></tr><tr><td>518</td><td>49600.0</td></tr><tr><td>519</td><td>47571.42857142857</td></tr><tr><td>520</td><td>50533.333333333336</td></tr><tr><td>521</td><td>57433.333333333336</td></tr><tr><td>522</td><td>54750.0</td></tr><tr><td>523</td><td>51240.0</td></tr><tr><td>524</td><td>56766.666666666664</td></tr><tr><td>525</td><td>55633.333333333336</td></tr><tr><td>526</td><td>40380.0</td></tr><tr><td>527</td><td>41800.0</td></tr><tr><td>528</td><td>42775.0</td></tr><tr><td>529</td><td>55666.666666666664</td></tr><tr><td>530</td><td>44950.0</td></tr><tr><td>531</td><td>51800.0</td></tr><tr><td>532</td><td>47260.0</td></tr><tr><td>533</td><td>53120.0</td></tr><tr><td>534</td><td>51450.0</td></tr><tr><td>535</td><td>51385.71428571428</td></tr><tr><td>536</td><td>57250.0</td></tr><tr><td>537</td><td>47866.666666666664</td></tr><tr><td>538</td><td>45666.666666666664</td></tr><tr><td>539</td><td>44100.0</td></tr><tr><td>540</td><td>61075.0</td></tr><tr><td>541</td><td>47340.0</td></tr><tr><td>542</td><td>51150.0</td></tr><tr><td>543</td><td>47100.0</td></tr><tr><td>544</td><td>60950.0</td></tr><tr><td>545</td><td>53187.5</td></tr><tr><td>546</td><td>58100.0</td></tr><tr><td>547</td><td>47675.0</td></tr><tr><td>548</td><td>42700.0</td></tr><tr><td>549</td><td>62360.0</td></tr><tr><td>550</td><td>46100.0</td></tr><tr><td>551</td><td>47720.0</td></tr><tr><td>552</td><td>59160.0</td></tr><tr><td>553</td><td>37400.0</td></tr><tr><td>554</td><td>53233.333333333336</td></tr><tr><td>555</td><td>46125.0</td></tr><tr><td>556</td><td>47775.0</td></tr><tr><td>557</td><td>53628.57142857143</td></tr><tr><td>558</td><td>49133.333333333336</td></tr><tr><td>559</td><td>48760.0</td></tr><tr><td>560</td><td>49550.0</td></tr><tr><td>561</td><td>51711.11111111111</td></tr><tr><td>562</td><td>53800.0</td></tr><tr><td>563</td><td>42816.666666666664</td></tr><tr><td>564</td><td>51700.0</td></tr><tr><td>565</td><td>52875.0</td></tr><tr><td>566</td><td>53875.0</td></tr><tr><td>567</td><td>37350.0</td></tr><tr><td>568</td><td>55366.666666666664</td></tr><tr><td>569</td><td>62857.142857142855</td></tr><tr><td>570</td><td>56562.5</td></tr><tr><td>571</td><td>44700.0</td></tr><tr><td>572</td><td>55275.0</td></tr><tr><td>573</td><td>52614.28571428572</td></tr><tr><td>574</td><td>48700.0</td></tr><tr><td>575</td><td>54150.0</td></tr><tr><td>576</td><td>50840.0</td></tr><tr><td>578</td><td>55500.0</td></tr><tr><td>579</td><td>50071.42857142857</td></tr><tr><td>580</td><td>50983.333333333336</td></tr><tr><td>581</td><td>54166.666666666664</td></tr><tr><td>582</td><td>53766.666666666664</td></tr><tr><td>583</td><td>46800.0</td></tr><tr><td>584</td><td>46700.0</td></tr><tr><td>585</td><td>54760.0</td></tr><tr><td>586</td><td>66300.0</td></tr><tr><td>587</td><td>53200.0</td></tr><tr><td>588</td><td>55366.666666666664</td></tr><tr><td>589</td><td>48650.0</td></tr><tr><td>590</td><td>51250.0</td></tr><tr><td>591</td><td>34850.0</td></tr><tr><td>592</td><td>56928.57142857143</td></tr><tr><td>593</td><td>46718.181818181816</td></tr><tr><td>594</td><td>45560.0</td></tr><tr><td>595</td><td>45950.0</td></tr><tr><td>596</td><td>52557.142857142855</td></tr><tr><td>597</td><td>50733.333333333336</td></tr><tr><td>598</td><td>48666.666666666664</td></tr><tr><td>599</td><td>49937.5</td></tr><tr><td>600</td><td>48912.5</td></tr><tr><td>601</td><td>51000.0</td></tr><tr><td>602</td><td>45125.0</td></tr><tr><td>603</td><td>52983.333333333336</td></tr><tr><td>604</td><td>41080.0</td></tr><tr><td>605</td><td>49650.0</td></tr><tr><td>606</td><td>58680.0</td></tr><tr><td>607</td><td>46040.0</td></tr><tr><td>608</td><td>58657.142857142855</td></tr><tr><td>609</td><td>56850.0</td></tr><tr><td>610</td><td>49475.0</td></tr><tr><td>611</td><td>50280.0</td></tr><tr><td>612</td><td>52833.333333333336</td></tr><tr><td>613</td><td>57900.0</td></tr><tr><td>614</td><td>52580.0</td></tr><tr><td>615</td><td>47555.555555555555</td></tr><tr><td>616</td><td>51100.0</td></tr><tr><td>617</td><td>47733.333333333336</td></tr><tr><td>618</td><td>50250.0</td></tr><tr><td>619</td><td>47912.5</td></tr><tr><td>620</td><td>53512.5</td></tr><tr><td>621</td><td>45900.0</td></tr><tr><td>622</td><td>55733.333333333336</td></tr><tr><td>623</td><td>48700.0</td></tr><tr><td>624</td><td>47342.857142857145</td></tr><tr><td>625</td><td>47366.666666666664</td></tr><tr><td>626</td><td>41840.0</td></tr><tr><td>627</td><td>54400.0</td></tr><tr><td>628</td><td>52566.666666666664</td></tr><tr><td>629</td><td>39966.666666666664</td></tr><tr><td>630</td><td>43566.666666666664</td></tr><tr><td>631</td><td>60733.333333333336</td></tr><tr><td>632</td><td>49700.0</td></tr><tr><td>633</td><td>41666.666666666664</td></tr><tr><td>634</td><td>51500.0</td></tr><tr><td>635</td><td>47875.0</td></tr><tr><td>636</td><td>49833.333333333336</td></tr><tr><td>637</td><td>46000.0</td></tr><tr><td>638</td><td>52800.0</td></tr><tr><td>639</td><td>49683.333333333336</td></tr><tr><td>640</td><td>59114.28571428572</td></tr><tr><td>641</td><td>52266.666666666664</td></tr><tr><td>642</td><td>44333.333333333336</td></tr><tr><td>643</td><td>52050.0</td></tr><tr><td>644</td><td>47525.0</td></tr><tr><td>645</td><td>50633.333333333336</td></tr><tr><td>646</td><td>59850.0</td></tr><tr><td>647</td><td>55181.818181818184</td></tr><tr><td>648</td><td>45650.0</td></tr><tr><td>649</td><td>49633.333333333336</td></tr><tr><td>650</td><td>58820.0</td></tr><tr><td>651</td><td>51400.0</td></tr><tr><td>652</td><td>46620.0</td></tr><tr><td>653</td><td>49228.57142857143</td></tr><tr><td>654</td><td>58133.333333333336</td></tr><tr><td>655</td><td>42971.42857142857</td></tr><tr><td>656</td><td>32900.0</td></tr><tr><td>657</td><td>57133.333333333336</td></tr><tr><td>658</td><td>54600.0</td></tr><tr><td>659</td><td>47727.27272727273</td></tr><tr><td>660</td><td>82300.0</td></tr><tr><td>661</td><td>50733.333333333336</td></tr><tr><td>662</td><td>45875.0</td></tr><tr><td>663</td><td>51371.42857142857</td></tr><tr><td>664</td><td>65200.0</td></tr><tr><td>665</td><td>59325.0</td></tr><tr><td>666</td><td>25000.0</td></tr><tr><td>667</td><td>38233.333333333336</td></tr><tr><td>668</td><td>56520.0</td></tr><tr><td>669</td><td>41950.0</td></tr><tr><td>670</td><td>43633.333333333336</td></tr><tr><td>671</td><td>44500.0</td></tr><tr><td>672</td><td>56125.0</td></tr><tr><td>673</td><td>53366.666666666664</td></tr><tr><td>674</td><td>56920.0</td></tr><tr><td>675</td><td>36350.0</td></tr><tr><td>676</td><td>52160.0</td></tr><tr><td>677</td><td>49714.28571428572</td></tr><tr><td>678</td><td>45450.0</td></tr><tr><td>679</td><td>38033.333333333336</td></tr><tr><td>680</td><td>52380.0</td></tr><tr><td>681</td><td>47720.0</td></tr><tr><td>682</td><td>57980.0</td></tr><tr><td>683</td><td>39600.0</td></tr><tr><td>684</td><td>43500.0</td></tr><tr><td>685</td><td>45680.0</td></tr><tr><td>686</td><td>56033.333333333336</td></tr><tr><td>687</td><td>45360.0</td></tr><tr><td>688</td><td>65650.0</td></tr><tr><td>689</td><td>44600.0</td></tr><tr><td>690</td><td>44112.5</td></tr><tr><td>691</td><td>43250.0</td></tr><tr><td>692</td><td>39975.0</td></tr><tr><td>693</td><td>43490.90909090909</td></tr><tr><td>694</td><td>37900.0</td></tr><tr><td>695</td><td>51280.0</td></tr><tr><td>696</td><td>55200.0</td></tr><tr><td>697</td><td>71750.0</td></tr><tr><td>698</td><td>62300.0</td></tr><tr><td>699</td><td>53814.28571428572</td></tr><tr><td>700</td><td>39800.0</td></tr><tr><td>701</td><td>55855.555555555555</td></tr><tr><td>702</td><td>42562.5</td></tr><tr><td>703</td><td>47950.0</td></tr><tr><td>704</td><td>55866.666666666664</td></tr><tr><td>705</td><td>40850.0</td></tr><tr><td>706</td><td>49628.57142857143</td></tr><tr><td>707</td><td>46466.666666666664</td></tr><tr><td>708</td><td>52028.57142857143</td></tr><tr><td>709</td><td>48500.0</td></tr><tr><td>711</td><td>55620.0</td></tr><tr><td>712</td><td>48940.0</td></tr><tr><td>713</td><td>51050.0</td></tr><tr><td>714</td><td>54500.0</td></tr><tr><td>715</td><td>52414.28571428572</td></tr><tr><td>716</td><td>55100.0</td></tr><tr><td>717</td><td>49200.0</td></tr><tr><td>718</td><td>47233.333333333336</td></tr><tr><td>719</td><td>49200.0</td></tr><tr><td>720</td><td>52780.0</td></tr><tr><td>721</td><td>51822.22222222222</td></tr><tr><td>722</td><td>51966.666666666664</td></tr><tr><td>723</td><td>39825.0</td></tr><tr><td>724</td><td>37928.57142857143</td></tr><tr><td>725</td><td>54550.0</td></tr><tr><td>726</td><td>44083.333333333336</td></tr><tr><td>727</td><td>46450.0</td></tr><tr><td>728</td><td>60200.0</td></tr><tr><td>729</td><td>54680.0</td></tr><tr><td>730</td><td>61950.0</td></tr><tr><td>731</td><td>39933.333333333336</td></tr><tr><td>732</td><td>54900.0</td></tr><tr><td>733</td><td>46675.0</td></tr><tr><td>735</td><td>33400.0</td></tr><tr><td>736</td><td>46950.0</td></tr><tr><td>737</td><td>50237.5</td></tr><tr><td>738</td><td>58675.0</td></tr><tr><td>739</td><td>55966.666666666664</td></tr><tr><td>740</td><td>50560.0</td></tr><tr><td>741</td><td>54650.0</td></tr><tr><td>742</td><td>42780.0</td></tr><tr><td>743</td><td>56950.0</td></tr><tr><td>744</td><td>49625.0</td></tr><tr><td>745</td><td>45614.28571428572</td></tr><tr><td>746</td><td>46100.0</td></tr><tr><td>747</td><td>70100.0</td></tr><tr><td>748</td><td>41766.666666666664</td></tr><tr><td>749</td><td>55650.0</td></tr><tr><td>750</td><td>56100.0</td></tr><tr><td>751</td><td>56737.5</td></tr><tr><td>752</td><td>58500.0</td></tr><tr><td>753</td><td>41933.333333333336</td></tr><tr><td>754</td><td>53228.57142857143</td></tr><tr><td>755</td><td>37725.0</td></tr><tr><td>756</td><td>47466.666666666664</td></tr><tr><td>757</td><td>39620.0</td></tr><tr><td>758</td><td>52000.0</td></tr><tr><td>759</td><td>45733.333333333336</td></tr><tr><td>760</td><td>60580.0</td></tr><tr><td>761</td><td>54500.0</td></tr><tr><td>762</td><td>48600.0</td></tr><tr><td>763</td><td>55300.0</td></tr><tr><td>764</td><td>52042.857142857145</td></tr><tr><td>765</td><td>50775.0</td></tr><tr><td>766</td><td>42300.0</td></tr><tr><td>767</td><td>50550.0</td></tr><tr><td>768</td><td>47875.0</td></tr><tr><td>769</td><td>51600.0</td></tr><tr><td>770</td><td>58533.333333333336</td></tr><tr><td>771</td><td>61025.0</td></tr><tr><td>772</td><td>55860.0</td></tr><tr><td>773</td><td>47857.142857142855</td></tr><tr><td>774</td><td>32000.0</td></tr><tr><td>775</td><td>47062.5</td></tr><tr><td>776</td><td>53557.142857142855</td></tr><tr><td>777</td><td>61325.0</td></tr><tr><td>778</td><td>58760.0</td></tr><tr><td>779</td><td>58733.333333333336</td></tr><tr><td>780</td><td>38675.0</td></tr><tr><td>782</td><td>45800.0</td></tr><tr><td>783</td><td>52950.0</td></tr><tr><td>784</td><td>56225.0</td></tr><tr><td>785</td><td>52900.0</td></tr><tr><td>786</td><td>57857.142857142855</td></tr><tr><td>787</td><td>55300.0</td></tr><tr><td>788</td><td>50940.0</td></tr><tr><td>789</td><td>55014.28571428572</td></tr><tr><td>790</td><td>44250.0</td></tr><tr><td>791</td><td>63428.57142857143</td></tr><tr><td>792</td><td>63425.0</td></tr><tr><td>793</td><td>56925.0</td></tr><tr><td>794</td><td>63116.666666666664</td></tr><tr><td>795</td><td>51000.0</td></tr><tr><td>796</td><td>41871.42857142857</td></tr><tr><td>797</td><td>41637.5</td></tr><tr><td>798</td><td>48028.57142857143</td></tr><tr><td>799</td><td>57380.0</td></tr><tr><td>800</td><td>64200.0</td></tr><tr><td>801</td><td>49857.142857142855</td></tr><tr><td>802</td><td>63950.0</td></tr><tr><td>803</td><td>45088.88888888889</td></tr><tr><td>804</td><td>55711.11111111111</td></tr><tr><td>805</td><td>56050.0</td></tr><tr><td>806</td><td>43857.142857142855</td></tr><tr><td>807</td><td>55566.666666666664</td></tr><tr><td>808</td><td>49175.0</td></tr><tr><td>809</td><td>41825.0</td></tr><tr><td>810</td><td>49216.666666666664</td></tr><tr><td>811</td><td>55550.0</td></tr><tr><td>812</td><td>50500.0</td></tr><tr><td>813</td><td>51275.0</td></tr><tr><td>814</td><td>51420.0</td></tr><tr><td>815</td><td>57981.818181818184</td></tr><tr><td>816</td><td>48346.153846153844</td></tr><tr><td>817</td><td>43433.333333333336</td></tr><tr><td>818</td><td>52060.0</td></tr><tr><td>819</td><td>52385.71428571428</td></tr><tr><td>820</td><td>51200.0</td></tr><tr><td>821</td><td>44800.0</td></tr><tr><td>822</td><td>49533.333333333336</td></tr><tr><td>823</td><td>59755.555555555555</td></tr><tr><td>824</td><td>38540.0</td></tr><tr><td>825</td><td>64085.71428571428</td></tr><tr><td>826</td><td>43700.0</td></tr><tr><td>827</td><td>56700.0</td></tr><tr><td>828</td><td>49280.0</td></tr><tr><td>829</td><td>62675.0</td></tr><tr><td>830</td><td>32400.0</td></tr><tr><td>831</td><td>50900.0</td></tr><tr><td>832</td><td>38150.0</td></tr><tr><td>833</td><td>55020.0</td></tr><tr><td>834</td><td>56050.0</td></tr><tr><td>835</td><td>60740.0</td></tr><tr><td>836</td><td>43325.0</td></tr><tr><td>837</td><td>50433.333333333336</td></tr><tr><td>838</td><td>46480.0</td></tr><tr><td>839</td><td>61183.333333333336</td></tr><tr><td>840</td><td>47914.28571428572</td></tr><tr><td>841</td><td>37300.0</td></tr><tr><td>842</td><td>57725.0</td></tr><tr><td>843</td><td>42866.666666666664</td></tr><tr><td>844</td><td>48075.0</td></tr><tr><td>845</td><td>41800.0</td></tr><tr><td>846</td><td>53714.28571428572</td></tr><tr><td>847</td><td>49450.0</td></tr><tr><td>848</td><td>56533.333333333336</td></tr><tr><td>849</td><td>46828.57142857143</td></tr><tr><td>850</td><td>38500.0</td></tr><tr><td>851</td><td>55700.0</td></tr><tr><td>852</td><td>45250.0</td></tr><tr><td>853</td><td>61166.666666666664</td></tr><tr><td>854</td><td>54650.0</td></tr><tr><td>855</td><td>67300.0</td></tr><tr><td>856</td><td>65833.33333333333</td></tr><tr><td>857</td><td>49116.666666666664</td></tr><tr><td>858</td><td>53066.666666666664</td></tr><tr><td>859</td><td>57600.0</td></tr><tr><td>860</td><td>47666.666666666664</td></tr><tr><td>861</td><td>49333.333333333336</td></tr><tr><td>862</td><td>57333.333333333336</td></tr><tr><td>863</td><td>52020.0</td></tr><tr><td>864</td><td>52611.11111111111</td></tr><tr><td>865</td><td>46425.0</td></tr><tr><td>866</td><td>52987.5</td></tr><tr><td>868</td><td>54725.0</td></tr><tr><td>869</td><td>53125.0</td></tr><tr><td>870</td><td>41733.333333333336</td></tr><tr><td>871</td><td>56500.0</td></tr><tr><td>872</td><td>66942.85714285714</td></tr><tr><td>873</td><td>27250.0</td></tr><tr><td>874</td><td>51583.333333333336</td></tr><tr><td>875</td><td>60525.0</td></tr><tr><td>876</td><td>56425.0</td></tr><tr><td>877</td><td>48116.666666666664</td></tr><tr><td>878</td><td>55925.0</td></tr><tr><td>879</td><td>46416.666666666664</td></tr><tr><td>880</td><td>58166.666666666664</td></tr><tr><td>881</td><td>53987.5</td></tr><tr><td>882</td><td>45080.0</td></tr><tr><td>883</td><td>44700.0</td></tr><tr><td>884</td><td>49550.0</td></tr><tr><td>885</td><td>50166.666666666664</td></tr><tr><td>886</td><td>39125.0</td></tr><tr><td>887</td><td>44500.0</td></tr><tr><td>888</td><td>41925.0</td></tr><tr><td>889</td><td>49020.0</td></tr><tr><td>890</td><td>59833.333333333336</td></tr><tr><td>891</td><td>70533.33333333333</td></tr><tr><td>892</td><td>58933.333333333336</td></tr><tr><td>893</td><td>60700.0</td></tr><tr><td>894</td><td>63500.0</td></tr><tr><td>895</td><td>59575.0</td></tr><tr><td>896</td><td>38240.0</td></tr><tr><td>897</td><td>44275.0</td></tr><tr><td>898</td><td>47042.857142857145</td></tr><tr><td>899</td><td>50416.666666666664</td></tr><tr><td>900</td><td>52416.666666666664</td></tr><tr><td>901</td><td>46530.0</td></tr><tr><td>902</td><td>41685.71428571428</td></tr><tr><td>903</td><td>48150.0</td></tr><tr><td>904</td><td>50975.0</td></tr><tr><td>905</td><td>46950.0</td></tr><tr><td>906</td><td>53200.0</td></tr><tr><td>907</td><td>51750.0</td></tr><tr><td>908</td><td>59183.333333333336</td></tr><tr><td>909</td><td>54100.0</td></tr><tr><td>910</td><td>55525.0</td></tr><tr><td>911</td><td>56750.0</td></tr><tr><td>912</td><td>48775.0</td></tr><tr><td>913</td><td>49116.666666666664</td></tr><tr><td>914</td><td>41980.0</td></tr><tr><td>915</td><td>49720.0</td></tr><tr><td>916</td><td>55180.0</td></tr><tr><td>917</td><td>63075.0</td></tr><tr><td>918</td><td>44025.0</td></tr><tr><td>919</td><td>59040.0</td></tr><tr><td>920</td><td>64500.0</td></tr><tr><td>921</td><td>50083.333333333336</td></tr><tr><td>922</td><td>52733.333333333336</td></tr><tr><td>923</td><td>60540.0</td></tr><tr><td>924</td><td>43750.0</td></tr><tr><td>925</td><td>36750.0</td></tr><tr><td>926</td><td>35700.0</td></tr><tr><td>927</td><td>36900.0</td></tr><tr><td>928</td><td>42142.857142857145</td></tr><tr><td>929</td><td>51927.27272727273</td></tr><tr><td>930</td><td>50283.333333333336</td></tr><tr><td>931</td><td>44033.333333333336</td></tr><tr><td>932</td><td>57650.0</td></tr><tr><td>933</td><td>46175.0</td></tr><tr><td>934</td><td>51300.0</td></tr><tr><td>935</td><td>57980.0</td></tr><tr><td>936</td><td>49550.0</td></tr><tr><td>937</td><td>56375.0</td></tr><tr><td>938</td><td>47533.333333333336</td></tr><tr><td>939</td><td>41466.666666666664</td></tr><tr><td>940</td><td>62350.0</td></tr><tr><td>941</td><td>49657.142857142855</td></tr><tr><td>942</td><td>49500.0</td></tr><tr><td>943</td><td>66300.0</td></tr><tr><td>944</td><td>59518.181818181816</td></tr><tr><td>945</td><td>65300.0</td></tr><tr><td>946</td><td>48433.333333333336</td></tr><tr><td>947</td><td>64712.5</td></tr><tr><td>948</td><td>49320.0</td></tr><tr><td>949</td><td>38700.0</td></tr><tr><td>950</td><td>51450.0</td></tr><tr><td>951</td><td>52600.0</td></tr><tr><td>952</td><td>44233.333333333336</td></tr><tr><td>953</td><td>52950.0</td></tr><tr><td>954</td><td>54011.11111111111</td></tr><tr><td>955</td><td>48362.5</td></tr><tr><td>956</td><td>47250.0</td></tr><tr><td>957</td><td>46625.0</td></tr><tr><td>958</td><td>53400.0</td></tr><tr><td>959</td><td>45175.0</td></tr><tr><td>960</td><td>47300.0</td></tr><tr><td>961</td><td>52450.0</td></tr><tr><td>962</td><td>51012.5</td></tr><tr><td>963</td><td>55525.0</td></tr><tr><td>964</td><td>56200.0</td></tr><tr><td>965</td><td>54820.0</td></tr><tr><td>966</td><td>49850.0</td></tr><tr><td>967</td><td>57250.0</td></tr><tr><td>968</td><td>57000.0</td></tr><tr><td>969</td><td>49128.57142857143</td></tr><tr><td>970</td><td>50925.0</td></tr><tr><td>971</td><td>47166.666666666664</td></tr><tr><td>972</td><td>58957.142857142855</td></tr><tr><td>973</td><td>50071.42857142857</td></tr><tr><td>974</td><td>52140.0</td></tr><tr><td>975</td><td>52820.0</td></tr><tr><td>976</td><td>53880.0</td></tr><tr><td>977</td><td>48080.0</td></tr><tr><td>978</td><td>48075.0</td></tr><tr><td>979</td><td>42733.333333333336</td></tr><tr><td>980</td><td>47100.0</td></tr><tr><td>981</td><td>47810.0</td></tr><tr><td>982</td><td>52580.0</td></tr><tr><td>983</td><td>57600.0</td></tr><tr><td>984</td><td>51085.71428571428</td></tr><tr><td>985</td><td>53883.333333333336</td></tr><tr><td>986</td><td>47000.0</td></tr><tr><td>987</td><td>53125.0</td></tr><tr><td>988</td><td>53592.307692307695</td></tr><tr><td>989</td><td>40500.0</td></tr><tr><td>990</td><td>47916.666666666664</td></tr><tr><td>991</td><td>61166.666666666664</td></tr><tr><td>992</td><td>44314.28571428572</td></tr><tr><td>993</td><td>52683.333333333336</td></tr><tr><td>994</td><td>52420.0</td></tr><tr><td>995</td><td>43950.0</td></tr><tr><td>996</td><td>52333.333333333336</td></tr><tr><td>997</td><td>52570.0</td></tr><tr><td>998</td><td>44837.5</td></tr><tr><td>999</td><td>66133.33333333333</td></tr><tr><td>1000</td><td>47040.0</td></tr></tbody></table></div>"
      ]
     },
     "metadata": {
      "application/vnd.databricks.v1+output": {
       "addedWidgets": {},
       "aggData": [],
       "aggError": "",
       "aggOverflow": false,
       "aggSchema": [],
       "aggSeriesLimitReached": false,
       "aggType": "",
       "arguments": {},
       "columnCustomDisplayInfos": {},
       "data": [
        [
         1,
         52533.333333333336
        ],
        [
         2,
         50975.0
        ],
        [
         3,
         52580.0
        ],
        [
         4,
         49250.0
        ],
        [
         5,
         45640.0
        ],
        [
         6,
         39800.0
        ],
        [
         7,
         54533.333333333336
        ],
        [
         8,
         57650.0
        ],
        [
         9,
         47175.0
        ],
        [
         10,
         44950.0
        ],
        [
         11,
         59600.0
        ],
        [
         12,
         49160.0
        ],
        [
         13,
         48040.0
        ],
        [
         14,
         59250.0
        ],
        [
         15,
         49433.333333333336
        ],
        [
         16,
         42800.0
        ],
        [
         17,
         47414.28571428572
        ],
        [
         18,
         52700.0
        ],
        [
         19,
         46350.0
        ],
        [
         20,
         71100.0
        ],
        [
         21,
         52250.0
        ],
        [
         22,
         52142.857142857145
        ],
        [
         23,
         51200.0
        ],
        [
         24,
         59225.0
        ],
        [
         25,
         48650.0
        ],
        [
         26,
         65900.0
        ],
        [
         27,
         46557.142857142855
        ],
        [
         28,
         29900.0
        ],
        [
         29,
         41733.333333333336
        ],
        [
         30,
         51966.666666666664
        ],
        [
         31,
         47785.71428571428
        ],
        [
         32,
         63950.0
        ],
        [
         33,
         47220.0
        ],
        [
         34,
         52620.0
        ],
        [
         35,
         60166.666666666664
        ],
        [
         36,
         50033.333333333336
        ],
        [
         37,
         49740.0
        ],
        [
         38,
         47500.0
        ],
        [
         39,
         42260.0
        ],
        [
         40,
         45914.28571428572
        ],
        [
         41,
         47275.0
        ],
        [
         42,
         54971.42857142857
        ],
        [
         43,
         55660.0
        ],
        [
         44,
         44271.42857142857
        ],
        [
         45,
         49771.42857142857
        ],
        [
         46,
         49475.0
        ],
        [
         47,
         44800.0
        ],
        [
         48,
         52400.0
        ],
        [
         49,
         47000.0
        ],
        [
         50,
         49183.333333333336
        ],
        [
         51,
         53483.333333333336
        ],
        [
         52,
         45557.142857142855
        ],
        [
         53,
         43683.333333333336
        ],
        [
         54,
         57666.666666666664
        ],
        [
         55,
         63400.0
        ],
        [
         56,
         43000.0
        ],
        [
         57,
         47480.0
        ],
        [
         58,
         51183.333333333336
        ],
        [
         59,
         44085.71428571428
        ],
        [
         60,
         48750.0
        ],
        [
         61,
         38883.333333333336
        ],
        [
         62,
         44925.0
        ],
        [
         63,
         42950.0
        ],
        [
         64,
         47300.0
        ],
        [
         65,
         77800.0
        ],
        [
         66,
         58914.28571428572
        ],
        [
         67,
         66040.0
        ],
        [
         68,
         52200.0
        ],
        [
         69,
         54025.0
        ],
        [
         70,
         46166.666666666664
        ],
        [
         71,
         49280.0
        ],
        [
         72,
         60400.0
        ],
        [
         73,
         53400.0
        ],
        [
         74,
         53040.0
        ],
        [
         75,
         54437.5
        ],
        [
         76,
         45500.0
        ],
        [
         77,
         50183.333333333336
        ],
        [
         78,
         55240.0
        ],
        [
         79,
         52620.0
        ],
        [
         80,
         53020.0
        ],
        [
         81,
         45120.0
        ],
        [
         82,
         55666.666666666664
        ],
        [
         83,
         58750.0
        ],
        [
         84,
         50350.0
        ],
        [
         85,
         51016.666666666664
        ],
        [
         86,
         57100.0
        ],
        [
         87,
         56575.0
        ],
        [
         88,
         54683.333333333336
        ],
        [
         89,
         48650.0
        ],
        [
         90,
         65740.0
        ],
        [
         91,
         50040.0
        ],
        [
         92,
         52720.0
        ],
        [
         93,
         49466.666666666664
        ],
        [
         94,
         50700.0
        ],
        [
         95,
         42475.0
        ],
        [
         96,
         50933.333333333336
        ],
        [
         97,
         58400.0
        ],
        [
         98,
         43585.71428571428
        ],
        [
         99,
         60733.333333333336
        ],
        [
         100,
         54800.0
        ],
        [
         101,
         60800.0
        ],
        [
         102,
         53183.333333333336
        ],
        [
         103,
         61800.0
        ],
        [
         104,
         59250.0
        ],
        [
         105,
         44525.0
        ],
        [
         106,
         49500.0
        ],
        [
         107,
         51214.28571428572
        ],
        [
         108,
         38925.0
        ],
        [
         109,
         49837.5
        ],
        [
         110,
         56240.0
        ],
        [
         111,
         38760.0
        ],
        [
         112,
         50566.666666666664
        ],
        [
         113,
         52600.0
        ],
        [
         114,
         38075.0
        ],
        [
         115,
         54416.666666666664
        ],
        [
         116,
         51285.71428571428
        ],
        [
         117,
         53775.0
        ],
        [
         118,
         43600.0
        ],
        [
         119,
         42720.0
        ],
        [
         120,
         56840.0
        ],
        [
         121,
         44333.333333333336
        ],
        [
         122,
         69900.0
        ],
        [
         123,
         55916.666666666664
        ],
        [
         124,
         52271.42857142857
        ],
        [
         125,
         55600.0
        ],
        [
         126,
         44850.0
        ],
        [
         127,
         48250.0
        ],
        [
         128,
         54316.666666666664
        ],
        [
         129,
         48071.42857142857
        ],
        [
         130,
         48083.333333333336
        ],
        [
         131,
         47825.0
        ],
        [
         132,
         57671.42857142857
        ],
        [
         133,
         59366.666666666664
        ],
        [
         134,
         56344.444444444445
        ],
        [
         135,
         55700.0
        ],
        [
         136,
         56575.0
        ],
        [
         137,
         41650.0
        ],
        [
         138,
         53733.333333333336
        ],
        [
         139,
         43700.0
        ],
        [
         140,
         48480.0
        ],
        [
         141,
         55850.0
        ],
        [
         142,
         66100.0
        ],
        [
         143,
         50566.666666666664
        ],
        [
         144,
         64850.0
        ],
        [
         145,
         55833.333333333336
        ],
        [
         146,
         34285.71428571428
        ],
        [
         147,
         45075.0
        ],
        [
         148,
         50300.0
        ],
        [
         149,
         49714.28571428572
        ],
        [
         150,
         39200.0
        ],
        [
         151,
         47900.0
        ],
        [
         152,
         38720.0
        ],
        [
         153,
         47050.0
        ],
        [
         154,
         58825.0
        ],
        [
         155,
         45320.0
        ],
        [
         156,
         52633.333333333336
        ],
        [
         157,
         37400.0
        ],
        [
         158,
         52100.0
        ],
        [
         159,
         70100.0
        ],
        [
         160,
         47400.0
        ],
        [
         161,
         47000.0
        ],
        [
         162,
         45742.857142857145
        ],
        [
         163,
         39383.333333333336
        ],
        [
         164,
         45366.666666666664
        ],
        [
         165,
         56981.818181818184
        ],
        [
         166,
         46960.0
        ],
        [
         167,
         53600.0
        ],
        [
         168,
         49175.0
        ],
        [
         169,
         46314.28571428572
        ],
        [
         170,
         44500.0
        ],
        [
         171,
         48175.0
        ],
        [
         172,
         65200.0
        ],
        [
         173,
         59450.0
        ],
        [
         174,
         46250.0
        ],
        [
         175,
         47883.333333333336
        ],
        [
         176,
         47457.142857142855
        ],
        [
         177,
         44633.333333333336
        ],
        [
         178,
         48780.0
        ],
        [
         179,
         52225.0
        ],
        [
         180,
         31000.0
        ],
        [
         181,
         47200.0
        ],
        [
         182,
         52525.0
        ],
        [
         183,
         44575.0
        ],
        [
         184,
         50333.333333333336
        ],
        [
         185,
         71050.0
        ],
        [
         186,
         50314.28571428572
        ],
        [
         187,
         42850.0
        ],
        [
         188,
         48700.0
        ],
        [
         189,
         44375.0
        ],
        [
         190,
         50800.0
        ],
        [
         191,
         47460.0
        ],
        [
         192,
         40300.0
        ],
        [
         193,
         37675.0
        ],
        [
         194,
         49916.666666666664
        ],
        [
         195,
         48150.0
        ],
        [
         196,
         52766.666666666664
        ],
        [
         197,
         59650.0
        ],
        [
         198,
         48075.0
        ],
        [
         199,
         46714.28571428572
        ],
        [
         200,
         57400.0
        ],
        [
         201,
         38450.0
        ],
        [
         202,
         55700.0
        ],
        [
         203,
         52342.857142857145
        ],
        [
         204,
         48866.666666666664
        ],
        [
         205,
         55885.71428571428
        ],
        [
         206,
         39400.0
        ],
        [
         207,
         47283.333333333336
        ],
        [
         208,
         55466.666666666664
        ],
        [
         209,
         48916.666666666664
        ],
        [
         210,
         46750.0
        ],
        [
         211,
         59850.0
        ],
        [
         212,
         52675.0
        ],
        [
         213,
         61450.0
        ],
        [
         214,
         53350.0
        ],
        [
         215,
         56850.0
        ],
        [
         216,
         54087.5
        ],
        [
         217,
         50725.0
        ],
        [
         218,
         51900.0
        ],
        [
         219,
         41425.0
        ],
        [
         220,
         55183.333333333336
        ],
        [
         221,
         40666.666666666664
        ],
        [
         222,
         42657.142857142855
        ],
        [
         223,
         49660.0
        ],
        [
         224,
         58800.0
        ],
        [
         225,
         43925.0
        ],
        [
         227,
         60125.0
        ],
        [
         228,
         38425.0
        ],
        [
         229,
         58133.333333333336
        ],
        [
         230,
         43650.0
        ],
        [
         231,
         54640.0
        ],
        [
         232,
         50575.0
        ],
        [
         233,
         67200.0
        ],
        [
         234,
         62675.0
        ],
        [
         235,
         51066.666666666664
        ],
        [
         236,
         38300.0
        ],
        [
         237,
         55975.0
        ],
        [
         238,
         56116.666666666664
        ],
        [
         239,
         49728.57142857143
        ],
        [
         240,
         51900.0
        ],
        [
         241,
         51377.77777777778
        ],
        [
         242,
         49300.0
        ],
        [
         243,
         50483.333333333336
        ],
        [
         244,
         53942.857142857145
        ],
        [
         245,
         56200.0
        ],
        [
         246,
         54500.0
        ],
        [
         247,
         58700.0
        ],
        [
         248,
         47900.0
        ],
        [
         249,
         58533.333333333336
        ],
        [
         250,
         56371.42857142857
        ],
        [
         251,
         50800.0
        ],
        [
         252,
         57800.0
        ],
        [
         253,
         51677.77777777778
        ],
        [
         254,
         55325.0
        ],
        [
         255,
         46120.0
        ],
        [
         256,
         49366.666666666664
        ],
        [
         257,
         52614.28571428572
        ],
        [
         258,
         52271.42857142857
        ],
        [
         259,
         47630.0
        ],
        [
         260,
         51085.71428571428
        ],
        [
         261,
         41300.0
        ],
        [
         262,
         49633.333333333336
        ],
        [
         263,
         42100.0
        ],
        [
         264,
         37825.0
        ],
        [
         265,
         61712.5
        ],
        [
         266,
         53850.0
        ],
        [
         267,
         55733.333333333336
        ],
        [
         268,
         44500.0
        ],
        [
         269,
         51683.333333333336
        ],
        [
         270,
         53083.333333333336
        ],
        [
         272,
         44050.0
        ],
        [
         273,
         36600.0
        ],
        [
         274,
         54583.333333333336
        ],
        [
         275,
         47200.0
        ],
        [
         276,
         46950.0
        ],
        [
         277,
         42025.0
        ],
        [
         278,
         51700.0
        ],
        [
         279,
         56733.333333333336
        ],
        [
         280,
         50628.57142857143
        ],
        [
         281,
         54722.22222222222
        ],
        [
         282,
         43900.0
        ],
        [
         283,
         56975.0
        ],
        [
         284,
         63575.0
        ],
        [
         285,
         49475.0
        ],
        [
         286,
         54800.0
        ],
        [
         287,
         48062.5
        ],
        [
         288,
         47600.0
        ],
        [
         289,
         48020.0
        ],
        [
         290,
         49530.0
        ],
        [
         291,
         45383.333333333336
        ],
        [
         292,
         48300.0
        ],
        [
         293,
         47325.0
        ],
        [
         294,
         38657.142857142855
        ],
        [
         295,
         42566.666666666664
        ],
        [
         296,
         50060.0
        ],
        [
         297,
         59616.666666666664
        ],
        [
         298,
         46071.42857142857
        ],
        [
         299,
         57400.0
        ],
        [
         300,
         50714.28571428572
        ],
        [
         301,
         60225.0
        ],
        [
         302,
         45600.0
        ],
        [
         303,
         57783.333333333336
        ],
        [
         304,
         57566.666666666664
        ],
        [
         305,
         45680.0
        ],
        [
         306,
         47516.666666666664
        ],
        [
         307,
         28300.0
        ],
        [
         308,
         46125.0
        ],
        [
         309,
         48800.0
        ],
        [
         310,
         43350.0
        ],
        [
         311,
         70350.0
        ],
        [
         312,
         55400.0
        ],
        [
         313,
         61766.666666666664
        ],
        [
         314,
         37900.0
        ],
        [
         315,
         50800.0
        ],
        [
         316,
         46133.333333333336
        ],
        [
         317,
         48566.666666666664
        ],
        [
         318,
         47388.88888888889
        ],
        [
         319,
         41180.0
        ],
        [
         320,
         55100.0
        ],
        [
         321,
         51328.57142857143
        ],
        [
         322,
         59966.666666666664
        ],
        [
         323,
         57225.0
        ],
        [
         324,
         60650.0
        ],
        [
         325,
         42500.0
        ],
        [
         326,
         41950.0
        ],
        [
         327,
         50175.0
        ],
        [
         328,
         45600.0
        ],
        [
         329,
         55216.666666666664
        ],
        [
         330,
         35375.0
        ],
        [
         331,
         38933.333333333336
        ],
        [
         332,
         54620.0
        ],
        [
         333,
         55050.0
        ],
        [
         334,
         52142.857142857145
        ],
        [
         335,
         48850.0
        ],
        [
         336,
         48025.0
        ],
        [
         337,
         56914.28571428572
        ],
        [
         338,
         47400.0
        ],
        [
         339,
         47071.42857142857
        ],
        [
         340,
         49500.0
        ],
        [
         341,
         54860.0
        ],
        [
         342,
         58200.0
        ],
        [
         343,
         46020.0
        ],
        [
         344,
         46300.0
        ],
        [
         345,
         55725.0
        ],
        [
         346,
         41500.0
        ],
        [
         347,
         48810.0
        ],
        [
         348,
         36700.0
        ],
        [
         349,
         49257.142857142855
        ],
        [
         350,
         44883.333333333336
        ],
        [
         351,
         52260.0
        ],
        [
         352,
         40371.42857142857
        ],
        [
         353,
         54700.0
        ],
        [
         354,
         57366.666666666664
        ],
        [
         355,
         59971.42857142857
        ],
        [
         356,
         48600.0
        ],
        [
         357,
         50757.142857142855
        ],
        [
         358,
         48942.857142857145
        ],
        [
         359,
         52483.333333333336
        ],
        [
         360,
         54300.0
        ],
        [
         361,
         41871.42857142857
        ],
        [
         362,
         44933.333333333336
        ],
        [
         363,
         43425.0
        ],
        [
         364,
         50800.0
        ],
        [
         365,
         39533.333333333336
        ],
        [
         366,
         52380.0
        ],
        [
         367,
         53542.857142857145
        ],
        [
         368,
         58385.71428571428
        ],
        [
         369,
         58800.0
        ],
        [
         370,
         53000.0
        ],
        [
         371,
         57133.333333333336
        ],
        [
         372,
         47100.0
        ],
        [
         373,
         44042.857142857145
        ],
        [
         374,
         42733.333333333336
        ],
        [
         375,
         51811.11111111111
        ],
        [
         376,
         39250.0
        ],
        [
         377,
         54383.333333333336
        ],
        [
         378,
         49300.0
        ],
        [
         379,
         43300.0
        ],
        [
         380,
         58333.333333333336
        ],
        [
         381,
         58457.142857142855
        ],
        [
         382,
         47920.0
        ],
        [
         383,
         52066.666666666664
        ],
        [
         384,
         56025.0
        ],
        [
         385,
         45050.0
        ],
        [
         386,
         45980.0
        ],
        [
         387,
         53266.666666666664
        ],
        [
         388,
         61500.0
        ],
        [
         389,
         50750.0
        ],
        [
         390,
         46975.0
        ],
        [
         391,
         53250.0
        ],
        [
         392,
         41300.0
        ],
        [
         393,
         53133.333333333336
        ],
        [
         394,
         52250.0
        ],
        [
         395,
         54975.0
        ],
        [
         396,
         46587.5
        ],
        [
         397,
         47441.666666666664
        ],
        [
         398,
         33000.0
        ],
        [
         399,
         47354.545454545456
        ],
        [
         400,
         39366.666666666664
        ],
        [
         401,
         50200.0
        ],
        [
         402,
         66200.0
        ],
        [
         403,
         54766.666666666664
        ],
        [
         404,
         51233.333333333336
        ],
        [
         405,
         43700.0
        ],
        [
         406,
         52600.0
        ],
        [
         407,
         49266.666666666664
        ],
        [
         408,
         54000.0
        ],
        [
         409,
         53833.333333333336
        ],
        [
         410,
         40125.0
        ],
        [
         411,
         53300.0
        ],
        [
         412,
         52900.0
        ],
        [
         413,
         42350.0
        ],
        [
         414,
         49383.333333333336
        ],
        [
         415,
         56000.0
        ],
        [
         416,
         50914.28571428572
        ],
        [
         417,
         38633.333333333336
        ],
        [
         418,
         53125.0
        ],
        [
         419,
         50460.0
        ],
        [
         420,
         58300.0
        ],
        [
         421,
         59666.666666666664
        ],
        [
         422,
         49680.0
        ],
        [
         423,
         43800.0
        ],
        [
         424,
         41200.0
        ],
        [
         425,
         49420.0
        ],
        [
         426,
         48100.0
        ],
        [
         427,
         51700.0
        ],
        [
         428,
         58600.0
        ],
        [
         429,
         60166.666666666664
        ],
        [
         430,
         46812.5
        ],
        [
         431,
         52166.666666666664
        ],
        [
         432,
         45450.0
        ],
        [
         433,
         50400.0
        ],
        [
         434,
         46733.333333333336
        ],
        [
         435,
         52175.0
        ],
        [
         436,
         57250.0
        ],
        [
         437,
         60160.0
        ],
        [
         438,
         62100.0
        ],
        [
         439,
         42120.0
        ],
        [
         440,
         31700.0
        ],
        [
         441,
         43433.333333333336
        ],
        [
         442,
         56900.0
        ],
        [
         443,
         62660.0
        ],
        [
         444,
         56300.0
        ],
        [
         445,
         43940.0
        ],
        [
         446,
         43150.0
        ],
        [
         447,
         54255.555555555555
        ],
        [
         448,
         50857.142857142855
        ],
        [
         449,
         45550.0
        ],
        [
         450,
         64500.0
        ],
        [
         451,
         48262.5
        ],
        [
         452,
         44616.666666666664
        ],
        [
         453,
         42100.0
        ],
        [
         454,
         47240.0
        ],
        [
         455,
         47600.0
        ],
        [
         456,
         48600.0
        ],
        [
         457,
         54900.0
        ],
        [
         458,
         44025.0
        ],
        [
         459,
         51225.0
        ],
        [
         460,
         56100.0
        ],
        [
         461,
         61650.0
        ],
        [
         462,
         52300.0
        ],
        [
         463,
         53425.0
        ],
        [
         464,
         46425.0
        ],
        [
         465,
         53450.0
        ],
        [
         466,
         49485.71428571428
        ],
        [
         467,
         60833.333333333336
        ],
        [
         468,
         54840.0
        ],
        [
         469,
         44855.555555555555
        ],
        [
         470,
         48312.5
        ],
        [
         471,
         51433.333333333336
        ],
        [
         472,
         47600.0
        ],
        [
         473,
         56466.666666666664
        ],
        [
         474,
         39516.666666666664
        ],
        [
         475,
         45725.0
        ],
        [
         476,
         53971.42857142857
        ],
        [
         477,
         52537.5
        ],
        [
         478,
         54866.666666666664
        ],
        [
         479,
         43728.57142857143
        ],
        [
         480,
         50975.0
        ],
        [
         481,
         53940.0
        ],
        [
         482,
         38120.0
        ],
        [
         483,
         51266.666666666664
        ],
        [
         484,
         59516.666666666664
        ],
        [
         485,
         41020.0
        ],
        [
         486,
         46140.0
        ],
        [
         487,
         59737.5
        ],
        [
         488,
         43766.666666666664
        ],
        [
         489,
         51800.0
        ],
        [
         490,
         52566.666666666664
        ],
        [
         491,
         44133.333333333336
        ],
        [
         492,
         45760.0
        ],
        [
         493,
         51333.333333333336
        ],
        [
         494,
         49380.0
        ],
        [
         495,
         45925.0
        ],
        [
         496,
         45575.0
        ],
        [
         497,
         44557.142857142855
        ],
        [
         498,
         57760.0
        ],
        [
         499,
         41466.666666666664
        ],
        [
         500,
         64100.0
        ],
        [
         501,
         48725.0
        ],
        [
         502,
         42528.57142857143
        ],
        [
         503,
         52642.857142857145
        ],
        [
         504,
         41250.0
        ],
        [
         505,
         48585.71428571428
        ],
        [
         506,
         55650.0
        ],
        [
         507,
         54050.0
        ],
        [
         508,
         55900.0
        ],
        [
         509,
         39200.0
        ],
        [
         510,
         49433.333333333336
        ],
        [
         511,
         50750.0
        ],
        [
         512,
         51700.0
        ],
        [
         513,
         48680.0
        ],
        [
         514,
         45600.0
        ],
        [
         515,
         44887.5
        ],
        [
         516,
         62266.666666666664
        ],
        [
         517,
         41600.0
        ],
        [
         518,
         49600.0
        ],
        [
         519,
         47571.42857142857
        ],
        [
         520,
         50533.333333333336
        ],
        [
         521,
         57433.333333333336
        ],
        [
         522,
         54750.0
        ],
        [
         523,
         51240.0
        ],
        [
         524,
         56766.666666666664
        ],
        [
         525,
         55633.333333333336
        ],
        [
         526,
         40380.0
        ],
        [
         527,
         41800.0
        ],
        [
         528,
         42775.0
        ],
        [
         529,
         55666.666666666664
        ],
        [
         530,
         44950.0
        ],
        [
         531,
         51800.0
        ],
        [
         532,
         47260.0
        ],
        [
         533,
         53120.0
        ],
        [
         534,
         51450.0
        ],
        [
         535,
         51385.71428571428
        ],
        [
         536,
         57250.0
        ],
        [
         537,
         47866.666666666664
        ],
        [
         538,
         45666.666666666664
        ],
        [
         539,
         44100.0
        ],
        [
         540,
         61075.0
        ],
        [
         541,
         47340.0
        ],
        [
         542,
         51150.0
        ],
        [
         543,
         47100.0
        ],
        [
         544,
         60950.0
        ],
        [
         545,
         53187.5
        ],
        [
         546,
         58100.0
        ],
        [
         547,
         47675.0
        ],
        [
         548,
         42700.0
        ],
        [
         549,
         62360.0
        ],
        [
         550,
         46100.0
        ],
        [
         551,
         47720.0
        ],
        [
         552,
         59160.0
        ],
        [
         553,
         37400.0
        ],
        [
         554,
         53233.333333333336
        ],
        [
         555,
         46125.0
        ],
        [
         556,
         47775.0
        ],
        [
         557,
         53628.57142857143
        ],
        [
         558,
         49133.333333333336
        ],
        [
         559,
         48760.0
        ],
        [
         560,
         49550.0
        ],
        [
         561,
         51711.11111111111
        ],
        [
         562,
         53800.0
        ],
        [
         563,
         42816.666666666664
        ],
        [
         564,
         51700.0
        ],
        [
         565,
         52875.0
        ],
        [
         566,
         53875.0
        ],
        [
         567,
         37350.0
        ],
        [
         568,
         55366.666666666664
        ],
        [
         569,
         62857.142857142855
        ],
        [
         570,
         56562.5
        ],
        [
         571,
         44700.0
        ],
        [
         572,
         55275.0
        ],
        [
         573,
         52614.28571428572
        ],
        [
         574,
         48700.0
        ],
        [
         575,
         54150.0
        ],
        [
         576,
         50840.0
        ],
        [
         578,
         55500.0
        ],
        [
         579,
         50071.42857142857
        ],
        [
         580,
         50983.333333333336
        ],
        [
         581,
         54166.666666666664
        ],
        [
         582,
         53766.666666666664
        ],
        [
         583,
         46800.0
        ],
        [
         584,
         46700.0
        ],
        [
         585,
         54760.0
        ],
        [
         586,
         66300.0
        ],
        [
         587,
         53200.0
        ],
        [
         588,
         55366.666666666664
        ],
        [
         589,
         48650.0
        ],
        [
         590,
         51250.0
        ],
        [
         591,
         34850.0
        ],
        [
         592,
         56928.57142857143
        ],
        [
         593,
         46718.181818181816
        ],
        [
         594,
         45560.0
        ],
        [
         595,
         45950.0
        ],
        [
         596,
         52557.142857142855
        ],
        [
         597,
         50733.333333333336
        ],
        [
         598,
         48666.666666666664
        ],
        [
         599,
         49937.5
        ],
        [
         600,
         48912.5
        ],
        [
         601,
         51000.0
        ],
        [
         602,
         45125.0
        ],
        [
         603,
         52983.333333333336
        ],
        [
         604,
         41080.0
        ],
        [
         605,
         49650.0
        ],
        [
         606,
         58680.0
        ],
        [
         607,
         46040.0
        ],
        [
         608,
         58657.142857142855
        ],
        [
         609,
         56850.0
        ],
        [
         610,
         49475.0
        ],
        [
         611,
         50280.0
        ],
        [
         612,
         52833.333333333336
        ],
        [
         613,
         57900.0
        ],
        [
         614,
         52580.0
        ],
        [
         615,
         47555.555555555555
        ],
        [
         616,
         51100.0
        ],
        [
         617,
         47733.333333333336
        ],
        [
         618,
         50250.0
        ],
        [
         619,
         47912.5
        ],
        [
         620,
         53512.5
        ],
        [
         621,
         45900.0
        ],
        [
         622,
         55733.333333333336
        ],
        [
         623,
         48700.0
        ],
        [
         624,
         47342.857142857145
        ],
        [
         625,
         47366.666666666664
        ],
        [
         626,
         41840.0
        ],
        [
         627,
         54400.0
        ],
        [
         628,
         52566.666666666664
        ],
        [
         629,
         39966.666666666664
        ],
        [
         630,
         43566.666666666664
        ],
        [
         631,
         60733.333333333336
        ],
        [
         632,
         49700.0
        ],
        [
         633,
         41666.666666666664
        ],
        [
         634,
         51500.0
        ],
        [
         635,
         47875.0
        ],
        [
         636,
         49833.333333333336
        ],
        [
         637,
         46000.0
        ],
        [
         638,
         52800.0
        ],
        [
         639,
         49683.333333333336
        ],
        [
         640,
         59114.28571428572
        ],
        [
         641,
         52266.666666666664
        ],
        [
         642,
         44333.333333333336
        ],
        [
         643,
         52050.0
        ],
        [
         644,
         47525.0
        ],
        [
         645,
         50633.333333333336
        ],
        [
         646,
         59850.0
        ],
        [
         647,
         55181.818181818184
        ],
        [
         648,
         45650.0
        ],
        [
         649,
         49633.333333333336
        ],
        [
         650,
         58820.0
        ],
        [
         651,
         51400.0
        ],
        [
         652,
         46620.0
        ],
        [
         653,
         49228.57142857143
        ],
        [
         654,
         58133.333333333336
        ],
        [
         655,
         42971.42857142857
        ],
        [
         656,
         32900.0
        ],
        [
         657,
         57133.333333333336
        ],
        [
         658,
         54600.0
        ],
        [
         659,
         47727.27272727273
        ],
        [
         660,
         82300.0
        ],
        [
         661,
         50733.333333333336
        ],
        [
         662,
         45875.0
        ],
        [
         663,
         51371.42857142857
        ],
        [
         664,
         65200.0
        ],
        [
         665,
         59325.0
        ],
        [
         666,
         25000.0
        ],
        [
         667,
         38233.333333333336
        ],
        [
         668,
         56520.0
        ],
        [
         669,
         41950.0
        ],
        [
         670,
         43633.333333333336
        ],
        [
         671,
         44500.0
        ],
        [
         672,
         56125.0
        ],
        [
         673,
         53366.666666666664
        ],
        [
         674,
         56920.0
        ],
        [
         675,
         36350.0
        ],
        [
         676,
         52160.0
        ],
        [
         677,
         49714.28571428572
        ],
        [
         678,
         45450.0
        ],
        [
         679,
         38033.333333333336
        ],
        [
         680,
         52380.0
        ],
        [
         681,
         47720.0
        ],
        [
         682,
         57980.0
        ],
        [
         683,
         39600.0
        ],
        [
         684,
         43500.0
        ],
        [
         685,
         45680.0
        ],
        [
         686,
         56033.333333333336
        ],
        [
         687,
         45360.0
        ],
        [
         688,
         65650.0
        ],
        [
         689,
         44600.0
        ],
        [
         690,
         44112.5
        ],
        [
         691,
         43250.0
        ],
        [
         692,
         39975.0
        ],
        [
         693,
         43490.90909090909
        ],
        [
         694,
         37900.0
        ],
        [
         695,
         51280.0
        ],
        [
         696,
         55200.0
        ],
        [
         697,
         71750.0
        ],
        [
         698,
         62300.0
        ],
        [
         699,
         53814.28571428572
        ],
        [
         700,
         39800.0
        ],
        [
         701,
         55855.555555555555
        ],
        [
         702,
         42562.5
        ],
        [
         703,
         47950.0
        ],
        [
         704,
         55866.666666666664
        ],
        [
         705,
         40850.0
        ],
        [
         706,
         49628.57142857143
        ],
        [
         707,
         46466.666666666664
        ],
        [
         708,
         52028.57142857143
        ],
        [
         709,
         48500.0
        ],
        [
         711,
         55620.0
        ],
        [
         712,
         48940.0
        ],
        [
         713,
         51050.0
        ],
        [
         714,
         54500.0
        ],
        [
         715,
         52414.28571428572
        ],
        [
         716,
         55100.0
        ],
        [
         717,
         49200.0
        ],
        [
         718,
         47233.333333333336
        ],
        [
         719,
         49200.0
        ],
        [
         720,
         52780.0
        ],
        [
         721,
         51822.22222222222
        ],
        [
         722,
         51966.666666666664
        ],
        [
         723,
         39825.0
        ],
        [
         724,
         37928.57142857143
        ],
        [
         725,
         54550.0
        ],
        [
         726,
         44083.333333333336
        ],
        [
         727,
         46450.0
        ],
        [
         728,
         60200.0
        ],
        [
         729,
         54680.0
        ],
        [
         730,
         61950.0
        ],
        [
         731,
         39933.333333333336
        ],
        [
         732,
         54900.0
        ],
        [
         733,
         46675.0
        ],
        [
         735,
         33400.0
        ],
        [
         736,
         46950.0
        ],
        [
         737,
         50237.5
        ],
        [
         738,
         58675.0
        ],
        [
         739,
         55966.666666666664
        ],
        [
         740,
         50560.0
        ],
        [
         741,
         54650.0
        ],
        [
         742,
         42780.0
        ],
        [
         743,
         56950.0
        ],
        [
         744,
         49625.0
        ],
        [
         745,
         45614.28571428572
        ],
        [
         746,
         46100.0
        ],
        [
         747,
         70100.0
        ],
        [
         748,
         41766.666666666664
        ],
        [
         749,
         55650.0
        ],
        [
         750,
         56100.0
        ],
        [
         751,
         56737.5
        ],
        [
         752,
         58500.0
        ],
        [
         753,
         41933.333333333336
        ],
        [
         754,
         53228.57142857143
        ],
        [
         755,
         37725.0
        ],
        [
         756,
         47466.666666666664
        ],
        [
         757,
         39620.0
        ],
        [
         758,
         52000.0
        ],
        [
         759,
         45733.333333333336
        ],
        [
         760,
         60580.0
        ],
        [
         761,
         54500.0
        ],
        [
         762,
         48600.0
        ],
        [
         763,
         55300.0
        ],
        [
         764,
         52042.857142857145
        ],
        [
         765,
         50775.0
        ],
        [
         766,
         42300.0
        ],
        [
         767,
         50550.0
        ],
        [
         768,
         47875.0
        ],
        [
         769,
         51600.0
        ],
        [
         770,
         58533.333333333336
        ],
        [
         771,
         61025.0
        ],
        [
         772,
         55860.0
        ],
        [
         773,
         47857.142857142855
        ],
        [
         774,
         32000.0
        ],
        [
         775,
         47062.5
        ],
        [
         776,
         53557.142857142855
        ],
        [
         777,
         61325.0
        ],
        [
         778,
         58760.0
        ],
        [
         779,
         58733.333333333336
        ],
        [
         780,
         38675.0
        ],
        [
         782,
         45800.0
        ],
        [
         783,
         52950.0
        ],
        [
         784,
         56225.0
        ],
        [
         785,
         52900.0
        ],
        [
         786,
         57857.142857142855
        ],
        [
         787,
         55300.0
        ],
        [
         788,
         50940.0
        ],
        [
         789,
         55014.28571428572
        ],
        [
         790,
         44250.0
        ],
        [
         791,
         63428.57142857143
        ],
        [
         792,
         63425.0
        ],
        [
         793,
         56925.0
        ],
        [
         794,
         63116.666666666664
        ],
        [
         795,
         51000.0
        ],
        [
         796,
         41871.42857142857
        ],
        [
         797,
         41637.5
        ],
        [
         798,
         48028.57142857143
        ],
        [
         799,
         57380.0
        ],
        [
         800,
         64200.0
        ],
        [
         801,
         49857.142857142855
        ],
        [
         802,
         63950.0
        ],
        [
         803,
         45088.88888888889
        ],
        [
         804,
         55711.11111111111
        ],
        [
         805,
         56050.0
        ],
        [
         806,
         43857.142857142855
        ],
        [
         807,
         55566.666666666664
        ],
        [
         808,
         49175.0
        ],
        [
         809,
         41825.0
        ],
        [
         810,
         49216.666666666664
        ],
        [
         811,
         55550.0
        ],
        [
         812,
         50500.0
        ],
        [
         813,
         51275.0
        ],
        [
         814,
         51420.0
        ],
        [
         815,
         57981.818181818184
        ],
        [
         816,
         48346.153846153844
        ],
        [
         817,
         43433.333333333336
        ],
        [
         818,
         52060.0
        ],
        [
         819,
         52385.71428571428
        ],
        [
         820,
         51200.0
        ],
        [
         821,
         44800.0
        ],
        [
         822,
         49533.333333333336
        ],
        [
         823,
         59755.555555555555
        ],
        [
         824,
         38540.0
        ],
        [
         825,
         64085.71428571428
        ],
        [
         826,
         43700.0
        ],
        [
         827,
         56700.0
        ],
        [
         828,
         49280.0
        ],
        [
         829,
         62675.0
        ],
        [
         830,
         32400.0
        ],
        [
         831,
         50900.0
        ],
        [
         832,
         38150.0
        ],
        [
         833,
         55020.0
        ],
        [
         834,
         56050.0
        ],
        [
         835,
         60740.0
        ],
        [
         836,
         43325.0
        ],
        [
         837,
         50433.333333333336
        ],
        [
         838,
         46480.0
        ],
        [
         839,
         61183.333333333336
        ],
        [
         840,
         47914.28571428572
        ],
        [
         841,
         37300.0
        ],
        [
         842,
         57725.0
        ],
        [
         843,
         42866.666666666664
        ],
        [
         844,
         48075.0
        ],
        [
         845,
         41800.0
        ],
        [
         846,
         53714.28571428572
        ],
        [
         847,
         49450.0
        ],
        [
         848,
         56533.333333333336
        ],
        [
         849,
         46828.57142857143
        ],
        [
         850,
         38500.0
        ],
        [
         851,
         55700.0
        ],
        [
         852,
         45250.0
        ],
        [
         853,
         61166.666666666664
        ],
        [
         854,
         54650.0
        ],
        [
         855,
         67300.0
        ],
        [
         856,
         65833.33333333333
        ],
        [
         857,
         49116.666666666664
        ],
        [
         858,
         53066.666666666664
        ],
        [
         859,
         57600.0
        ],
        [
         860,
         47666.666666666664
        ],
        [
         861,
         49333.333333333336
        ],
        [
         862,
         57333.333333333336
        ],
        [
         863,
         52020.0
        ],
        [
         864,
         52611.11111111111
        ],
        [
         865,
         46425.0
        ],
        [
         866,
         52987.5
        ],
        [
         868,
         54725.0
        ],
        [
         869,
         53125.0
        ],
        [
         870,
         41733.333333333336
        ],
        [
         871,
         56500.0
        ],
        [
         872,
         66942.85714285714
        ],
        [
         873,
         27250.0
        ],
        [
         874,
         51583.333333333336
        ],
        [
         875,
         60525.0
        ],
        [
         876,
         56425.0
        ],
        [
         877,
         48116.666666666664
        ],
        [
         878,
         55925.0
        ],
        [
         879,
         46416.666666666664
        ],
        [
         880,
         58166.666666666664
        ],
        [
         881,
         53987.5
        ],
        [
         882,
         45080.0
        ],
        [
         883,
         44700.0
        ],
        [
         884,
         49550.0
        ],
        [
         885,
         50166.666666666664
        ],
        [
         886,
         39125.0
        ],
        [
         887,
         44500.0
        ],
        [
         888,
         41925.0
        ],
        [
         889,
         49020.0
        ],
        [
         890,
         59833.333333333336
        ],
        [
         891,
         70533.33333333333
        ],
        [
         892,
         58933.333333333336
        ],
        [
         893,
         60700.0
        ],
        [
         894,
         63500.0
        ],
        [
         895,
         59575.0
        ],
        [
         896,
         38240.0
        ],
        [
         897,
         44275.0
        ],
        [
         898,
         47042.857142857145
        ],
        [
         899,
         50416.666666666664
        ],
        [
         900,
         52416.666666666664
        ],
        [
         901,
         46530.0
        ],
        [
         902,
         41685.71428571428
        ],
        [
         903,
         48150.0
        ],
        [
         904,
         50975.0
        ],
        [
         905,
         46950.0
        ],
        [
         906,
         53200.0
        ],
        [
         907,
         51750.0
        ],
        [
         908,
         59183.333333333336
        ],
        [
         909,
         54100.0
        ],
        [
         910,
         55525.0
        ],
        [
         911,
         56750.0
        ],
        [
         912,
         48775.0
        ],
        [
         913,
         49116.666666666664
        ],
        [
         914,
         41980.0
        ],
        [
         915,
         49720.0
        ],
        [
         916,
         55180.0
        ],
        [
         917,
         63075.0
        ],
        [
         918,
         44025.0
        ],
        [
         919,
         59040.0
        ],
        [
         920,
         64500.0
        ],
        [
         921,
         50083.333333333336
        ],
        [
         922,
         52733.333333333336
        ],
        [
         923,
         60540.0
        ],
        [
         924,
         43750.0
        ],
        [
         925,
         36750.0
        ],
        [
         926,
         35700.0
        ],
        [
         927,
         36900.0
        ],
        [
         928,
         42142.857142857145
        ],
        [
         929,
         51927.27272727273
        ],
        [
         930,
         50283.333333333336
        ],
        [
         931,
         44033.333333333336
        ],
        [
         932,
         57650.0
        ],
        [
         933,
         46175.0
        ],
        [
         934,
         51300.0
        ],
        [
         935,
         57980.0
        ],
        [
         936,
         49550.0
        ],
        [
         937,
         56375.0
        ],
        [
         938,
         47533.333333333336
        ],
        [
         939,
         41466.666666666664
        ],
        [
         940,
         62350.0
        ],
        [
         941,
         49657.142857142855
        ],
        [
         942,
         49500.0
        ],
        [
         943,
         66300.0
        ],
        [
         944,
         59518.181818181816
        ],
        [
         945,
         65300.0
        ],
        [
         946,
         48433.333333333336
        ],
        [
         947,
         64712.5
        ],
        [
         948,
         49320.0
        ],
        [
         949,
         38700.0
        ],
        [
         950,
         51450.0
        ],
        [
         951,
         52600.0
        ],
        [
         952,
         44233.333333333336
        ],
        [
         953,
         52950.0
        ],
        [
         954,
         54011.11111111111
        ],
        [
         955,
         48362.5
        ],
        [
         956,
         47250.0
        ],
        [
         957,
         46625.0
        ],
        [
         958,
         53400.0
        ],
        [
         959,
         45175.0
        ],
        [
         960,
         47300.0
        ],
        [
         961,
         52450.0
        ],
        [
         962,
         51012.5
        ],
        [
         963,
         55525.0
        ],
        [
         964,
         56200.0
        ],
        [
         965,
         54820.0
        ],
        [
         966,
         49850.0
        ],
        [
         967,
         57250.0
        ],
        [
         968,
         57000.0
        ],
        [
         969,
         49128.57142857143
        ],
        [
         970,
         50925.0
        ],
        [
         971,
         47166.666666666664
        ],
        [
         972,
         58957.142857142855
        ],
        [
         973,
         50071.42857142857
        ],
        [
         974,
         52140.0
        ],
        [
         975,
         52820.0
        ],
        [
         976,
         53880.0
        ],
        [
         977,
         48080.0
        ],
        [
         978,
         48075.0
        ],
        [
         979,
         42733.333333333336
        ],
        [
         980,
         47100.0
        ],
        [
         981,
         47810.0
        ],
        [
         982,
         52580.0
        ],
        [
         983,
         57600.0
        ],
        [
         984,
         51085.71428571428
        ],
        [
         985,
         53883.333333333336
        ],
        [
         986,
         47000.0
        ],
        [
         987,
         53125.0
        ],
        [
         988,
         53592.307692307695
        ],
        [
         989,
         40500.0
        ],
        [
         990,
         47916.666666666664
        ],
        [
         991,
         61166.666666666664
        ],
        [
         992,
         44314.28571428572
        ],
        [
         993,
         52683.333333333336
        ],
        [
         994,
         52420.0
        ],
        [
         995,
         43950.0
        ],
        [
         996,
         52333.333333333336
        ],
        [
         997,
         52570.0
        ],
        [
         998,
         44837.5
        ],
        [
         999,
         66133.33333333333
        ],
        [
         1000,
         47040.0
        ]
       ],
       "datasetInfos": [
        {
         "name": "_sqldf",
         "schema": {
          "fields": [
           {
            "metadata": {},
            "name": "University_Ranking",
            "nullable": true,
            "type": "integer"
           },
           {
            "metadata": {},
            "name": "Avg_Starting_Salary",
            "nullable": true,
            "type": "double"
           }
          ],
          "type": "struct"
         },
         "tableIdentifier": null,
         "typeStr": "pyspark.sql.connect.dataframe.DataFrame"
        }
       ],
       "dbfsResultPath": null,
       "isJsonSchema": true,
       "metadata": {
        "createTempViewForImplicitDf": true,
        "dataframeName": "_sqldf",
        "executionCount": 18
       },
       "overflow": false,
       "plotOptions": {
        "customPlotOptions": {},
        "displayType": "table",
        "pivotAggregation": null,
        "pivotColumns": null,
        "xColumns": null,
        "yColumns": null
       },
       "removedWidgets": [],
       "schema": [
        {
         "metadata": "{}",
         "name": "University_Ranking",
         "type": "\"integer\""
        },
        {
         "metadata": "{}",
         "name": "Avg_Starting_Salary",
         "type": "\"double\""
        }
       ],
       "type": "table"
      }
     },
     "output_type": "display_data"
    }
   ],
   "source": [
    "SELECT \n",
    "    e.University_Ranking,\n",
    "    AVG(c.Starting_Salary) AS Avg_Starting_Salary\n",
    "FROM \n",
    "    education_info e\n",
    "JOIN \n",
    "    career_info c ON e.Student_ID = c.Student_ID\n",
    "WHERE \n",
    "    c.Starting_Salary IS NOT NULL\n",
    "GROUP BY \n",
    "    e.University_Ranking\n",
    "ORDER BY \n",
    "    e.University_Ranking ASC;"
   ]
  },
  {
   "cell_type": "markdown",
   "metadata": {
    "application/vnd.databricks.v1+cell": {
     "cellMetadata": {
      "byteLimit": 2048000,
      "rowLimit": 10000
     },
     "inputWidgets": {},
     "nuid": "b261cc9e-6a49-4a43-990c-330f1439ce3d",
     "showTitle": false,
     "tableResultSettingsMap": {},
     "title": ""
    }
   },
   "source": [
    "<img src=\"Solucao_1.png\" width=\"1000\">"
   ]
  },
  {
   "cell_type": "markdown",
   "metadata": {
    "application/vnd.databricks.v1+cell": {
     "cellMetadata": {
      "byteLimit": 2048000,
      "rowLimit": 10000
     },
     "inputWidgets": {},
     "nuid": "e3d94e0c-8cd0-4289-bce5-806e4e40e5a1",
     "showTitle": false,
     "tableResultSettingsMap": {},
     "title": ""
    }
   },
   "source": [
    "### Resolução do problema 1:\n",
    "\n",
    "Conforme as médias de salários iniciais e o ranking das universidades encontrados nas tabelas, é possível perceber que nem sempre os estudantes de universidades mais bem classificadas ganham salários iniciais mais altos, já que os estudantes com a maior média de salário inicial frequentaram as universidades que se encontram na décima primeira e décima quarta posição no ranking de universidades."
   ]
  },
  {
   "cell_type": "markdown",
   "metadata": {
    "application/vnd.databricks.v1+cell": {
     "cellMetadata": {
      "byteLimit": 2048000,
      "rowLimit": 10000
     },
     "inputWidgets": {},
     "nuid": "414ac49c-f34c-4d59-ac48-b2525d477d3d",
     "showTitle": false,
     "tableResultSettingsMap": {},
     "title": ""
    }
   },
   "source": [
    "###2. Quais fatores mais contribuem para um crescimento rápido na carreira (Years_to_Promotion)?"
   ]
  },
  {
   "cell_type": "code",
   "execution_count": 0,
   "metadata": {
    "application/vnd.databricks.v1+cell": {
     "cellMetadata": {
      "byteLimit": 2048000,
      "rowLimit": 10000
     },
     "inputWidgets": {},
     "nuid": "0aae0e74-fcfa-4591-ba37-1c719df6fbbd",
     "showTitle": false,
     "tableResultSettingsMap": {},
     "title": ""
    }
   },
   "outputs": [
    {
     "output_type": "display_data",
     "data": {
      "text/html": [
       "<style scoped>\n",
       "  .table-result-container {\n",
       "    max-height: 300px;\n",
       "    overflow: auto;\n",
       "  }\n",
       "  table, th, td {\n",
       "    border: 1px solid black;\n",
       "    border-collapse: collapse;\n",
       "  }\n",
       "  th, td {\n",
       "    padding: 5px;\n",
       "  }\n",
       "  th {\n",
       "    text-align: left;\n",
       "  }\n",
       "</style><div class='table-result-container'><table class='table-result'><thead style='background-color: white'><tr><th>Years_to_Promotion</th><th>Avg_Uni_GPA</th><th>Avg_Internships</th><th>Avg_Certifications</th><th>Avg_SoftSkills</th><th>Avg_Networking</th></tr></thead><tbody><tr><td>1</td><td>3.0226109367406035</td><td>1.9638802889576883</td><td>2.519091847265222</td><td>5.602683178534572</td><td>5.556243550051599</td></tr><tr><td>2</td><td>2.999541552952618</td><td>2.0191021967526264</td><td>2.498567335243553</td><td>5.471824259789876</td><td>5.587392550143266</td></tr><tr><td>3</td><td>3.0033825076920215</td><td>1.9852476290832455</td><td>2.5194942044257114</td><td>5.60695468914647</td><td>5.578503688092729</td></tr><tr><td>4</td><td>3.060715707111548</td><td>1.9542743538767395</td><td>2.4642147117296225</td><td>5.485089463220676</td><td>5.462226640159046</td></tr><tr><td>5</td><td>3.01401360574802</td><td>1.9863945578231292</td><td>2.5597667638483963</td><td>5.571428571428571</td><td>5.50728862973761</td></tr></tbody></table></div>"
      ]
     },
     "metadata": {
      "application/vnd.databricks.v1+output": {
       "addedWidgets": {},
       "aggData": [],
       "aggError": "",
       "aggOverflow": false,
       "aggSchema": [],
       "aggSeriesLimitReached": false,
       "aggType": "",
       "arguments": {},
       "columnCustomDisplayInfos": {},
       "data": [
        [
         1,
         3.0226109367406035,
         1.9638802889576883,
         2.519091847265222,
         5.602683178534572,
         5.556243550051599
        ],
        [
         2,
         2.999541552952618,
         2.0191021967526264,
         2.498567335243553,
         5.471824259789876,
         5.587392550143266
        ],
        [
         3,
         3.0033825076920215,
         1.9852476290832455,
         2.5194942044257114,
         5.60695468914647,
         5.578503688092729
        ],
        [
         4,
         3.060715707111548,
         1.9542743538767395,
         2.4642147117296225,
         5.485089463220676,
         5.462226640159046
        ],
        [
         5,
         3.01401360574802,
         1.9863945578231292,
         2.5597667638483963,
         5.571428571428571,
         5.50728862973761
        ]
       ],
       "datasetInfos": [
        {
         "name": "_sqldf",
         "schema": {
          "fields": [
           {
            "metadata": {},
            "name": "Years_to_Promotion",
            "nullable": true,
            "type": "integer"
           },
           {
            "metadata": {},
            "name": "Avg_Uni_GPA",
            "nullable": true,
            "type": "double"
           },
           {
            "metadata": {},
            "name": "Avg_Internships",
            "nullable": true,
            "type": "double"
           },
           {
            "metadata": {},
            "name": "Avg_Certifications",
            "nullable": true,
            "type": "double"
           },
           {
            "metadata": {},
            "name": "Avg_SoftSkills",
            "nullable": true,
            "type": "double"
           },
           {
            "metadata": {},
            "name": "Avg_Networking",
            "nullable": true,
            "type": "double"
           }
          ],
          "type": "struct"
         },
         "tableIdentifier": null,
         "typeStr": "pyspark.sql.connect.dataframe.DataFrame"
        }
       ],
       "dbfsResultPath": null,
       "isJsonSchema": true,
       "metadata": {
        "createTempViewForImplicitDf": true,
        "dataframeName": "_sqldf",
        "executionCount": 19
       },
       "overflow": false,
       "plotOptions": {
        "customPlotOptions": {},
        "displayType": "table",
        "pivotAggregation": null,
        "pivotColumns": null,
        "xColumns": null,
        "yColumns": null
       },
       "removedWidgets": [],
       "schema": [
        {
         "metadata": "{}",
         "name": "Years_to_Promotion",
         "type": "\"integer\""
        },
        {
         "metadata": "{}",
         "name": "Avg_Uni_GPA",
         "type": "\"double\""
        },
        {
         "metadata": "{}",
         "name": "Avg_Internships",
         "type": "\"double\""
        },
        {
         "metadata": "{}",
         "name": "Avg_Certifications",
         "type": "\"double\""
        },
        {
         "metadata": "{}",
         "name": "Avg_SoftSkills",
         "type": "\"double\""
        },
        {
         "metadata": "{}",
         "name": "Avg_Networking",
         "type": "\"double\""
        }
       ],
       "type": "table"
      }
     },
     "output_type": "display_data"
    }
   ],
   "source": [
    "SELECT \n",
    "    c.Years_to_Promotion,\n",
    "    AVG(e.University_GPA) AS Avg_Uni_GPA,\n",
    "    AVG(x.Internships_Completed) AS Avg_Internships,\n",
    "    AVG(x.Certifications) AS Avg_Certifications,\n",
    "    AVG(x.Soft_Skills_Score) AS Avg_SoftSkills,\n",
    "    AVG(x.Networking_Score) AS Avg_Networking\n",
    "FROM \n",
    "    career_info c\n",
    "JOIN \n",
    "    education_info e ON c.Student_ID = e.Student_ID\n",
    "JOIN \n",
    "    experience_info x ON c.Student_ID = x.Student_ID\n",
    "GROUP BY \n",
    "    c.Years_to_Promotion\n",
    "ORDER BY \n",
    "    c.Years_to_Promotion;\n"
   ]
  },
  {
   "cell_type": "markdown",
   "metadata": {
    "application/vnd.databricks.v1+cell": {
     "cellMetadata": {
      "byteLimit": 2048000,
      "rowLimit": 10000
     },
     "inputWidgets": {},
     "nuid": "a8535347-815b-4ff0-aa7c-7d327e414a41",
     "showTitle": false,
     "tableResultSettingsMap": {},
     "title": ""
    }
   },
   "source": [
    "<img src=\"Solucao_2.png\" width=\"1000\">"
   ]
  },
  {
   "cell_type": "markdown",
   "metadata": {
    "application/vnd.databricks.v1+cell": {
     "cellMetadata": {
      "byteLimit": 2048000,
      "rowLimit": 10000
     },
     "inputWidgets": {},
     "nuid": "132346bf-9a84-40cf-8bae-3307e433569f",
     "showTitle": false,
     "tableResultSettingsMap": {},
     "title": ""
    }
   },
   "source": [
    "\n",
    "### Resolução do problema 2:\n",
    "\n",
    "Conforme o agrupamento realizado e as médias calculadas para entender quantos anos cada estudante levou até receber a primeira promoção, e quais fatores foram determinantes para um crescimento rápido, chegamos aos resultados mostrados na tabela acima. Após a análise dos resultados, é possível perceber que os dois fatores determinantes para uma promoção rápida são as soft skills e o networking."
   ]
  },
  {
   "cell_type": "markdown",
   "metadata": {
    "application/vnd.databricks.v1+cell": {
     "cellMetadata": {
      "byteLimit": 2048000,
      "rowLimit": 10000
     },
     "inputWidgets": {},
     "nuid": "d7c57b85-609f-4102-be0b-8bbbcacf8700",
     "showTitle": false,
     "tableResultSettingsMap": {},
     "title": ""
    }
   },
   "source": [
    "###3. Estudantes de certas áreas têm mais oportunidades de emprego do que outras?"
   ]
  },
  {
   "cell_type": "code",
   "execution_count": 0,
   "metadata": {
    "application/vnd.databricks.v1+cell": {
     "cellMetadata": {
      "byteLimit": 2048000,
      "rowLimit": 10000
     },
     "inputWidgets": {},
     "nuid": "afa39dfd-6ca9-483d-891d-96e1d7097526",
     "showTitle": false,
     "tableResultSettingsMap": {},
     "title": ""
    }
   },
   "outputs": [
    {
     "output_type": "display_data",
     "data": {
      "text/html": [
       "<style scoped>\n",
       "  .table-result-container {\n",
       "    max-height: 300px;\n",
       "    overflow: auto;\n",
       "  }\n",
       "  table, th, td {\n",
       "    border: 1px solid black;\n",
       "    border-collapse: collapse;\n",
       "  }\n",
       "  th, td {\n",
       "    padding: 5px;\n",
       "  }\n",
       "  th {\n",
       "    text-align: left;\n",
       "  }\n",
       "</style><div class='table-result-container'><table class='table-result'><thead style='background-color: white'><tr><th>Field_of_Study</th><th>Avg_Job_Offers</th></tr></thead><tbody><tr><td>Mathematics</td><td>2.5140939597315435</td></tr><tr><td>Medicine</td><td>2.5079825834542815</td></tr><tr><td>Arts</td><td>2.5033377837116153</td></tr><tr><td>Engineering</td><td>2.5021398002853066</td></tr><tr><td>Computer Science</td><td>2.4776119402985075</td></tr><tr><td>Law</td><td>2.4621733149931226</td></tr><tr><td>Business</td><td>2.4534075104311546</td></tr></tbody></table></div>"
      ]
     },
     "metadata": {
      "application/vnd.databricks.v1+output": {
       "addedWidgets": {},
       "aggData": [],
       "aggError": "",
       "aggOverflow": false,
       "aggSchema": [],
       "aggSeriesLimitReached": false,
       "aggType": "",
       "arguments": {},
       "columnCustomDisplayInfos": {},
       "data": [
        [
         "Mathematics",
         2.5140939597315435
        ],
        [
         "Medicine",
         2.5079825834542815
        ],
        [
         "Arts",
         2.5033377837116153
        ],
        [
         "Engineering",
         2.5021398002853066
        ],
        [
         "Computer Science",
         2.4776119402985075
        ],
        [
         "Law",
         2.4621733149931226
        ],
        [
         "Business",
         2.4534075104311546
        ]
       ],
       "datasetInfos": [
        {
         "name": "_sqldf",
         "schema": {
          "fields": [
           {
            "metadata": {
             "__CHAR_VARCHAR_TYPE_STRING": "varchar(100)"
            },
            "name": "Field_of_Study",
            "nullable": true,
            "type": "string"
           },
           {
            "metadata": {},
            "name": "Avg_Job_Offers",
            "nullable": true,
            "type": "double"
           }
          ],
          "type": "struct"
         },
         "tableIdentifier": null,
         "typeStr": "pyspark.sql.connect.dataframe.DataFrame"
        }
       ],
       "dbfsResultPath": null,
       "isJsonSchema": true,
       "metadata": {
        "createTempViewForImplicitDf": true,
        "dataframeName": "_sqldf",
        "executionCount": 20
       },
       "overflow": false,
       "plotOptions": {
        "customPlotOptions": {},
        "displayType": "table",
        "pivotAggregation": null,
        "pivotColumns": null,
        "xColumns": null,
        "yColumns": null
       },
       "removedWidgets": [],
       "schema": [
        {
         "metadata": "{\"__CHAR_VARCHAR_TYPE_STRING\": \"varchar(100)\"}",
         "name": "Field_of_Study",
         "type": "\"string\""
        },
        {
         "metadata": "{}",
         "name": "Avg_Job_Offers",
         "type": "\"double\""
        }
       ],
       "type": "table"
      }
     },
     "output_type": "display_data"
    }
   ],
   "source": [
    "SELECT \n",
    "    e.Field_of_Study,\n",
    "    AVG(c.Job_Offers) AS Avg_Job_Offers\n",
    "FROM \n",
    "    education_info e\n",
    "JOIN \n",
    "    career_info c ON e.Student_ID = c.Student_ID\n",
    "GROUP BY \n",
    "    e.Field_of_Study\n",
    "ORDER BY \n",
    "    Avg_Job_Offers DESC;\n"
   ]
  },
  {
   "cell_type": "markdown",
   "metadata": {
    "application/vnd.databricks.v1+cell": {
     "cellMetadata": {
      "byteLimit": 2048000,
      "rowLimit": 10000
     },
     "inputWidgets": {},
     "nuid": "5d962d70-e3b3-45a4-a120-026b4f23260b",
     "showTitle": false,
     "tableResultSettingsMap": {},
     "title": ""
    }
   },
   "source": [
    "<img src=\"Solucao_3.png\" width=\"1000\">"
   ]
  },
  {
   "cell_type": "markdown",
   "metadata": {
    "application/vnd.databricks.v1+cell": {
     "cellMetadata": {
      "byteLimit": 2048000,
      "rowLimit": 10000
     },
     "inputWidgets": {},
     "nuid": "8b2c28e9-7f9b-497d-a3b4-cdc23ceb4cbd",
     "showTitle": false,
     "tableResultSettingsMap": {},
     "title": ""
    }
   },
   "source": [
    "### Resolução do problema 3:\n",
    "\n",
    "Em consonância com os agrupamentos e as médias feitas na consulta, foi possível obter os resultados mostrados na tabela acima, com as áreas de estudo e a média de ofertas de emprego recebidas pelos estudantes de suas respectivas formações. É interessante observar que as quatro primeiras áreas apresentam uma média de ofertas de emprego bastante próxima. O destaque negativo vai para a área de Business (Administração/Negócios), que apresenta a menor média."
   ]
  },
  {
   "cell_type": "markdown",
   "metadata": {
    "application/vnd.databricks.v1+cell": {
     "cellMetadata": {
      "byteLimit": 2048000,
      "rowLimit": 10000
     },
     "inputWidgets": {},
     "nuid": "4d7b50bc-a182-4e72-a57e-949b77378e60",
     "showTitle": false,
     "tableResultSettingsMap": {},
     "title": ""
    }
   },
   "source": [
    "### 4. O número de estágios concluídos tem impacto no salário inicial?\n",
    "\n",
    "\n"
   ]
  },
  {
   "cell_type": "code",
   "execution_count": 0,
   "metadata": {
    "application/vnd.databricks.v1+cell": {
     "cellMetadata": {
      "byteLimit": 2048000,
      "rowLimit": 10000
     },
     "inputWidgets": {},
     "nuid": "a301b26f-8ab2-48a8-9ce4-932998e8aa5d",
     "showTitle": false,
     "tableResultSettingsMap": {},
     "title": ""
    }
   },
   "outputs": [
    {
     "output_type": "display_data",
     "data": {
      "text/html": [
       "<style scoped>\n",
       "  .table-result-container {\n",
       "    max-height: 300px;\n",
       "    overflow: auto;\n",
       "  }\n",
       "  table, th, td {\n",
       "    border: 1px solid black;\n",
       "    border-collapse: collapse;\n",
       "  }\n",
       "  th, td {\n",
       "    padding: 5px;\n",
       "  }\n",
       "  th {\n",
       "    text-align: left;\n",
       "  }\n",
       "</style><div class='table-result-container'><table class='table-result'><thead style='background-color: white'><tr><th>Internships_Completed</th><th>Num_Students</th><th>Avg_Starting_Salary</th></tr></thead><tbody><tr><td>0</td><td>16000</td><td>50417.9</td></tr><tr><td>1</td><td>16608</td><td>50442.87090558767</td></tr><tr><td>2</td><td>15632</td><td>50229.47799385875</td></tr><tr><td>3</td><td>16336</td><td>50334.57394711068</td></tr><tr><td>4</td><td>15424</td><td>51425.622406639006</td></tr></tbody></table></div>"
      ]
     },
     "metadata": {
      "application/vnd.databricks.v1+output": {
       "addedWidgets": {},
       "aggData": [],
       "aggError": "",
       "aggOverflow": false,
       "aggSchema": [],
       "aggSeriesLimitReached": false,
       "aggType": "",
       "arguments": {},
       "columnCustomDisplayInfos": {},
       "data": [
        [
         0,
         16000,
         50417.9
        ],
        [
         1,
         16608,
         50442.87090558767
        ],
        [
         2,
         15632,
         50229.47799385875
        ],
        [
         3,
         16336,
         50334.57394711068
        ],
        [
         4,
         15424,
         51425.622406639006
        ]
       ],
       "datasetInfos": [
        {
         "name": "_sqldf",
         "schema": {
          "fields": [
           {
            "metadata": {},
            "name": "Internships_Completed",
            "nullable": true,
            "type": "integer"
           },
           {
            "metadata": {},
            "name": "Num_Students",
            "nullable": false,
            "type": "long"
           },
           {
            "metadata": {},
            "name": "Avg_Starting_Salary",
            "nullable": true,
            "type": "double"
           }
          ],
          "type": "struct"
         },
         "tableIdentifier": null,
         "typeStr": "pyspark.sql.connect.dataframe.DataFrame"
        }
       ],
       "dbfsResultPath": null,
       "isJsonSchema": true,
       "metadata": {
        "createTempViewForImplicitDf": true,
        "dataframeName": "_sqldf",
        "executionCount": 21
       },
       "overflow": false,
       "plotOptions": {
        "customPlotOptions": {},
        "displayType": "table",
        "pivotAggregation": null,
        "pivotColumns": null,
        "xColumns": null,
        "yColumns": null
       },
       "removedWidgets": [],
       "schema": [
        {
         "metadata": "{}",
         "name": "Internships_Completed",
         "type": "\"integer\""
        },
        {
         "metadata": "{}",
         "name": "Num_Students",
         "type": "\"long\""
        },
        {
         "metadata": "{}",
         "name": "Avg_Starting_Salary",
         "type": "\"double\""
        }
       ],
       "type": "table"
      }
     },
     "output_type": "display_data"
    }
   ],
   "source": [
    "SELECT \n",
    "    x.Internships_Completed,\n",
    "    COUNT(*) AS Num_Students,\n",
    "    AVG(c.Starting_Salary) AS Avg_Starting_Salary\n",
    "FROM \n",
    "    experience_info x\n",
    "JOIN \n",
    "    career_info c ON x.Student_ID = c.Student_ID\n",
    "GROUP BY \n",
    "    x.Internships_Completed\n",
    "ORDER BY \n",
    "    x.Internships_Completed;\n"
   ]
  },
  {
   "cell_type": "markdown",
   "metadata": {
    "application/vnd.databricks.v1+cell": {
     "cellMetadata": {
      "byteLimit": 2048000,
      "rowLimit": 10000
     },
     "inputWidgets": {},
     "nuid": "a1f3ab2e-fc44-46b2-b8ee-32801592da44",
     "showTitle": false,
     "tableResultSettingsMap": {},
     "title": ""
    }
   },
   "source": [
    "<img src=\"Solucao_4.png\" width=\"1000\">"
   ]
  },
  {
   "cell_type": "markdown",
   "metadata": {
    "application/vnd.databricks.v1+cell": {
     "cellMetadata": {
      "byteLimit": 2048000,
      "rowLimit": 10000
     },
     "inputWidgets": {},
     "nuid": "057fcf03-6ca1-47d7-bea3-c0e6ca5fe2ea",
     "showTitle": false,
     "tableResultSettingsMap": {},
     "title": ""
    }
   },
   "source": [
    "### Resolução do problema 4:\n",
    "Em consonância com a contagem, o agrupamento e a média calculados, foi possível obter o resultado mostrado na tabela acima para a análise do impacto do número de estágios concluídos no salário inicial dos estudantes. Observa-se que o número de estágios tem um impacto muito pequeno. Levando em consideração os resultados obtidos para estudantes que não realizaram nenhum estágio e para aqueles que fizeram até quatro estágios, a diferença é de apenas mil dólares anuais.\n"
   ]
  },
  {
   "cell_type": "markdown",
   "metadata": {
    "application/vnd.databricks.v1+cell": {
     "cellMetadata": {
      "byteLimit": 2048000,
      "rowLimit": 10000
     },
     "inputWidgets": {},
     "nuid": "cf561ad6-bd3d-4dfa-9506-988d7caca1be",
     "showTitle": false,
     "tableResultSettingsMap": {},
     "title": ""
    }
   },
   "source": [
    "### 5. Estudantes com pontuação alta em networking recebem mais ofertas de emprego?"
   ]
  },
  {
   "cell_type": "code",
   "execution_count": 0,
   "metadata": {
    "application/vnd.databricks.v1+cell": {
     "cellMetadata": {
      "byteLimit": 2048000,
      "rowLimit": 10000
     },
     "inputWidgets": {},
     "nuid": "277de309-07c9-4f8a-8842-4362dae4c028",
     "showTitle": false,
     "tableResultSettingsMap": {},
     "title": ""
    }
   },
   "outputs": [
    {
     "output_type": "display_data",
     "data": {
      "text/html": [
       "<style scoped>\n",
       "  .table-result-container {\n",
       "    max-height: 300px;\n",
       "    overflow: auto;\n",
       "  }\n",
       "  table, th, td {\n",
       "    border: 1px solid black;\n",
       "    border-collapse: collapse;\n",
       "  }\n",
       "  th, td {\n",
       "    padding: 5px;\n",
       "  }\n",
       "  th {\n",
       "    text-align: left;\n",
       "  }\n",
       "</style><div class='table-result-container'><table class='table-result'><thead style='background-color: white'><tr><th>Networking_Score</th><th>Avg_Job_Offers</th></tr></thead><tbody><tr><td>10</td><td>2.441955193482688</td></tr><tr><td>9</td><td>2.4694280078895465</td></tr><tr><td>8</td><td>2.5282651072124755</td></tr><tr><td>7</td><td>2.410204081632653</td></tr><tr><td>6</td><td>2.4816176470588234</td></tr><tr><td>5</td><td>2.416829745596869</td></tr><tr><td>4</td><td>2.572895277207392</td></tr><tr><td>3</td><td>2.527083333333333</td></tr><tr><td>2</td><td>2.4428857715430863</td></tr><tr><td>1</td><td>2.6046025104602513</td></tr></tbody></table></div>"
      ]
     },
     "metadata": {
      "application/vnd.databricks.v1+output": {
       "addedWidgets": {},
       "aggData": [],
       "aggError": "",
       "aggOverflow": false,
       "aggSchema": [],
       "aggSeriesLimitReached": false,
       "aggType": "",
       "arguments": {},
       "columnCustomDisplayInfos": {},
       "data": [
        [
         10,
         2.441955193482688
        ],
        [
         9,
         2.4694280078895465
        ],
        [
         8,
         2.5282651072124755
        ],
        [
         7,
         2.410204081632653
        ],
        [
         6,
         2.4816176470588234
        ],
        [
         5,
         2.416829745596869
        ],
        [
         4,
         2.572895277207392
        ],
        [
         3,
         2.527083333333333
        ],
        [
         2,
         2.4428857715430863
        ],
        [
         1,
         2.6046025104602513
        ]
       ],
       "datasetInfos": [
        {
         "name": "_sqldf",
         "schema": {
          "fields": [
           {
            "metadata": {},
            "name": "Networking_Score",
            "nullable": true,
            "type": "integer"
           },
           {
            "metadata": {},
            "name": "Avg_Job_Offers",
            "nullable": true,
            "type": "double"
           }
          ],
          "type": "struct"
         },
         "tableIdentifier": null,
         "typeStr": "pyspark.sql.connect.dataframe.DataFrame"
        }
       ],
       "dbfsResultPath": null,
       "isJsonSchema": true,
       "metadata": {
        "createTempViewForImplicitDf": true,
        "dataframeName": "_sqldf",
        "executionCount": 22
       },
       "overflow": false,
       "plotOptions": {
        "customPlotOptions": {},
        "displayType": "table",
        "pivotAggregation": null,
        "pivotColumns": null,
        "xColumns": null,
        "yColumns": null
       },
       "removedWidgets": [],
       "schema": [
        {
         "metadata": "{}",
         "name": "Networking_Score",
         "type": "\"integer\""
        },
        {
         "metadata": "{}",
         "name": "Avg_Job_Offers",
         "type": "\"double\""
        }
       ],
       "type": "table"
      }
     },
     "output_type": "display_data"
    }
   ],
   "source": [
    "SELECT \n",
    "    x.Networking_Score,\n",
    "    AVG(c.Job_Offers) AS Avg_Job_Offers\n",
    "FROM \n",
    "    experience_info x\n",
    "JOIN \n",
    "    career_info c ON x.Student_ID = c.Student_ID\n",
    "GROUP BY \n",
    "    x.Networking_Score\n",
    "ORDER BY \n",
    "    x.Networking_Score DESC;\n"
   ]
  },
  {
   "cell_type": "markdown",
   "metadata": {
    "application/vnd.databricks.v1+cell": {
     "cellMetadata": {
      "byteLimit": 2048000,
      "rowLimit": 10000
     },
     "inputWidgets": {},
     "nuid": "f99bbd8a-a42c-4714-9656-2db44b553bb8",
     "showTitle": false,
     "tableResultSettingsMap": {},
     "title": ""
    }
   },
   "source": [
    "<img src=\"Solucao_5.png\" width=\"1000\">"
   ]
  },
  {
   "cell_type": "markdown",
   "metadata": {
    "application/vnd.databricks.v1+cell": {
     "cellMetadata": {
      "byteLimit": 2048000,
      "rowLimit": 10000
     },
     "inputWidgets": {},
     "nuid": "777574a4-f98d-4490-9c6f-84920f622d8e",
     "showTitle": false,
     "tableResultSettingsMap": {},
     "title": ""
    }
   },
   "source": [
    "### Resolução do problema 5:\n",
    "\n",
    "Conforme o resultado obtido na consulta com base no Networking Score e na média de ofertas de emprego, é possível observar que ter uma alta pontuação em networking profissional não necessariamente resulta em um maior número de ofertas. Isso porque os estudantes com a maior média de ofertas de emprego possuem uma pontuação de networking igual a 1 (a mais baixa possível).\n",
    "\n"
   ]
  },
  {
   "cell_type": "markdown",
   "metadata": {
    "application/vnd.databricks.v1+cell": {
     "cellMetadata": {
      "byteLimit": 2048000,
      "rowLimit": 10000
     },
     "inputWidgets": {},
     "nuid": "cde7081f-f92d-4b4b-ba67-f1b8ff0d83ac",
     "showTitle": false,
     "tableResultSettingsMap": {},
     "title": ""
    }
   },
   "source": [
    "## Discussão geral sobre a resolução de cada problema: \n",
    "\n",
    "De modo geral, mesmo considerando a escassez de dados, os resultados obtidos indicam que o sucesso profissional não depende de um único fator isolado, mas sim de um conjunto complexo de variáveis que interagem de forma não linear. Por outro lado, habilidades interpessoais e fatores comportamentais (soft skills, networking) se destacaram como diferenciais importantes, reforçando a necessidade de uma formação mais ampla e integrada, tanto no aspecto técnico quanto humano. Isso reforça a importância de uma formação mais ampla e integrada, que combine excelência técnica com o desenvolvimento de competências humanas, um equilíbrio cada vez mais essencial no mercado atual."
   ]
  },
  {
   "cell_type": "markdown",
   "metadata": {
    "application/vnd.databricks.v1+cell": {
     "cellMetadata": {
      "byteLimit": 2048000,
      "rowLimit": 10000
     },
     "inputWidgets": {},
     "nuid": "36b572a7-797d-4ac3-abcf-c189b6cad49c",
     "showTitle": false,
     "tableResultSettingsMap": {},
     "title": ""
    }
   },
   "source": [
    "# Autoavaliação\n",
    "\n",
    "O principal objetivo desta análise foi alcançado e tinha como base explorar a relação entre o desempenho acadêmico e o sucesso profissional de estudantes residentes nos Estados Unidos (EUA). Os principais desafios encontrados foram a escassez de dados e a interpretação de variáveis subjetivas. Métricas como soft skills e networking score envolvem certo grau de subjetividade, o que exige atenção redobrada na análise e interpretação. Ainda assim, a partir da construção de um banco de dados estruturado em três tabelas relacionais (education_info, experience_info, career_info) e da realização de consultas SQL analíticas, foi possível atingir com sucesso o objetivo definido inicialmente. As consultas permitiram identificar padrões relevantes, como a relação entre o GPA universitário e o tempo até a primeira promoção, o impacto limitado dos estágios sobre o salário inicial e a inesperada ausência de correlação direta entre a pontuação de networking e o número de ofertas de emprego.\n",
    "\n",
    "Nesta etapa da análise, foi utilizada exclusivamente a linguagem SQL. Para enriquecer e tornar o trabalho mais robusto futuramente, propõem-se as seguintes extensões:\n",
    "\n",
    "- Trabalhar com dados do Brasil (ou incluir uma seção comparativa) mostrando senso de realidade e aplicabilidade.\n",
    "\n",
    "- Replicar a análise com dados brasileiros, como os disponibilizados pelo INEP, IBGE, CAGED ou plataformas de mercado de trabalho, contextualizando os resultados à realidade nacional;\n",
    "\n",
    "- Utilizar linguagens como Python para aplicar técnicas de machine learning, desenvolvendo modelos preditivos para estimar o salário inicial ou o tempo até a promoção com base em múltiplos atributos;\n",
    "\n",
    "- Criar dashboards interativos com ferramentas como Power BI, Tableau ou Streamlit, permitindo explorar os dados de forma visual e dinâmica;\n",
    "\n",
    "- Propor um sistema de recomendação educacional, baseado em modelos que sugiram ações práticas para estudantes maximizarem seu sucesso profissional, com base nos padrões identificados nos dados.\n",
    "\n",
    "\n",
    "\n",
    "\n",
    "\n",
    "\n",
    "\n",
    "\n",
    "\n"
   ]
  }
 ],
 "metadata": {
  "application/vnd.databricks.v1+notebook": {
   "computePreferences": null,
   "dashboards": [],
   "environmentMetadata": {
    "base_environment": "",
    "environment_version": "2"
   },
   "inputWidgetPreferences": null,
   "language": "sql",
   "notebookMetadata": {
    "pythonIndentUnit": 4
   },
   "notebookName": "Notebook_Pipeline_Dados_DAVIS_DENNER",
   "widgets": {}
  },
  "language_info": {
   "name": "sql"
  }
 },
 "nbformat": 4,
 "nbformat_minor": 0
}