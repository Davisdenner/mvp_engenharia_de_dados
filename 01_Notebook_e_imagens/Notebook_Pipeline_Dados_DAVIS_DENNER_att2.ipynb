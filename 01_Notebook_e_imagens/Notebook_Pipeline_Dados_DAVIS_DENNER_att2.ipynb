{
 "cells": [
  {
   "cell_type": "markdown",
   "metadata": {
    "application/vnd.databricks.v1+cell": {
     "cellMetadata": {
      "byteLimit": 2048000,
      "rowLimit": 10000
     },
     "inputWidgets": {},
     "nuid": "d68d6402-730e-44c7-9f1c-69732d71c272",
     "showTitle": false,
     "tableResultSettingsMap": {},
     "title": ""
    }
   },
   "source": [
    "# Educação e sucesso profissional.\n",
    "\n",
    "\n",
    "A pipeline de dados construída para esse projeto foi inspirada no arquivo [Education & Career Success](https://www.kaggle.com/datasets/adilshamim8/education-and-career-success) extraído do Kaggle. O arquivo que inicialmente continha apenas uma tabela foi fragmentado em três tabelas distintas para uma melhor análise e compreensão dos dados. A qualidade dos dados foi verificada e, apesar das transformações e formatações realizadas, os dados permaneceram fiéis à versão original.\n",
    "\n",
    "\n",
    "\n",
    "<img src=\"MVP_imagem_dataset.jpg\" width=\"800\">\n",
    "\n",
    "\n",
    "\n",
    "\n",
    "\n",
    "\n"
   ]
  },
  {
   "cell_type": "markdown",
   "metadata": {
    "application/vnd.databricks.v1+cell": {
     "cellMetadata": {
      "byteLimit": 2048000,
      "rowLimit": 10000
     },
     "inputWidgets": {},
     "nuid": "9f860c70-19ef-49c7-a093-7fbc7a6983d6",
     "showTitle": false,
     "tableResultSettingsMap": {},
     "title": ""
    }
   },
   "source": [
    "####**Objetivo**: Explorar a relação entre o desempenho acadêmico e o sucesso profissional de estudantes que moram nos Estados Unidos (EUA). Ao final dessa análise é esperado que seja possível responder todas as perguntas localiazadas logo abaixo.\n",
    "\n",
    "- Estudantes de universidades mais bem classificadas (university_ranking) ganham salários iniciais mais altos?\n",
    "- Quais fatores mais contribuem para um crescimento rápido na carreira (years_to_promotion)?\n",
    "- Estudantes de certas áreas (field_of_study) tem mais oportunidades de emprego do que outras?\n",
    "- O número de estágios concluídos (interships_completed) tem impacto no salário inicial?\n",
    "- Estudantes com pontuação alta em networking (networking_score) recebem mais ofertas de emprego?\n"
   ]
  },
  {
   "cell_type": "markdown",
   "metadata": {
    "application/vnd.databricks.v1+cell": {
     "cellMetadata": {
      "byteLimit": 2048000,
      "rowLimit": 10000
     },
     "inputWidgets": {},
     "nuid": "7c97bab7-27fd-41e2-91e4-6a9dc5b8ddf8",
     "showTitle": false,
     "tableResultSettingsMap": {},
     "title": ""
    }
   },
   "source": [
    "#Descrição das colunas e dos dados numéricos e categóricos.\n",
    "\n",
    "## Informações do estudante\n",
    "\n",
    "- **Student_ID:** Identificador único para cada estudante;\n",
    "- **Age:** Idade do estudante (18-30 anos);\n",
    "- **Gender:** Gênero ( Masculino, Feminino ou Outro);\n",
    "\n",
    "## Desempenho acadêmico\n",
    "\n",
    "- **High_School_GPA:** Média escolar do ensino médio (escala de 2.0 - 4.0);\n",
    "- **SAT_Score:** Pontuação no teste padronizado (900 - 1600);\n",
    "- **University_Ranking:** Ranking da universidade frequentada (1-1000);\n",
    "- **University_GPA:** Média acadêmica na universidade (escala de 2.0 - 4.0);\n",
    "- **Field_of_Study:** Área de estudo (Ciência da Computação, Medicina, Administração/Negócios, Artes, Direito, Engenharia, Matemática);\n",
    "\n",
    "## Habilidades e atividades extracurriculares\n",
    "\n",
    "- **Internships_Completed:** – Número de estágios concluídos (0-4);\n",
    "- **Projects_Completed:** – Número de projetos acadêmicos ou pessoais concluídos (0-9);\n",
    "- **Certifications:** – Número de certificações adicionais obtidas (0-5);\n",
    "- **Soft_Skills_Score:** – Avaliação das habilidades interpessoais (1-10);\n",
    "- **Networking_Score:** Pontuação baseada em conexões e networking profissional (1-10);\n",
    "\n",
    "## Resultados profissionais\n",
    "\n",
    "- **Job_Offers:** Número de ofertas de emprego recebidas após a graduação (0-5);\n",
    "- **Starting_Salary:** Salário inicial (anual) no primeiro emprego em dólares americanos (25.000 - 101.000)\n",
    "- **Career_Satisfaction:** Nível de satisfação com a carreira (1-10);\n",
    "- **Years_to_Promotion:** Tempo necessário para receber a primeira promoção (1-5 anos);\n",
    "- **Current_Job_Level:** Nível de carreira atual (Entry, Mid, Senior, Executive);\n",
    "- **Work_Life_Balance:** Avaliação do equilíbrio entre trabalho e vida pessoal (1-10);\n",
    "- **Entrepreneurship:** Indica se a pessoa iniciou um negócio próprio (Sim/Não).\n",
    "\n",
    "\n",
    "\n",
    "\n"
   ]
  },
  {
   "cell_type": "markdown",
   "metadata": {
    "application/vnd.databricks.v1+cell": {
     "cellMetadata": {
      "byteLimit": 2048000,
      "rowLimit": 10000
     },
     "inputWidgets": {},
     "nuid": "53881e5f-e290-4142-9399-82e99c1ee2c6",
     "showTitle": false,
     "tableResultSettingsMap": {},
     "title": ""
    }
   },
   "source": [
    "# Modelagem dos dados em Esquema Estrela\n",
    "\n",
    "<img src=\"Esquema_Estrela_MVP._.jpg\" width=\"800\">"
   ]
  },
  {
   "cell_type": "markdown",
   "metadata": {
    "application/vnd.databricks.v1+cell": {
     "cellMetadata": {
      "byteLimit": 2048000,
      "rowLimit": 10000
     },
     "inputWidgets": {},
     "nuid": "8c400838-3fc1-4a4c-a9d6-f87bf3b6303a",
     "showTitle": false,
     "tableResultSettingsMap": {},
     "title": ""
    }
   },
   "source": [
    "#CAMADA BRONZE (DADOS BRUTOS)"
   ]
  },
  {
   "cell_type": "markdown",
   "metadata": {
    "application/vnd.databricks.v1+cell": {
     "cellMetadata": {
      "byteLimit": 2048000,
      "rowLimit": 10000
     },
     "inputWidgets": {},
     "nuid": "60b2b33e-dacd-4d5b-9912-9b56608a9e33",
     "showTitle": false,
     "tableResultSettingsMap": {},
     "title": ""
    }
   },
   "source": [
    "#Carregamento dos dados originais"
   ]
  },
  {
   "cell_type": "markdown",
   "metadata": {
    "application/vnd.databricks.v1+cell": {
     "cellMetadata": {
      "byteLimit": 2048000,
      "rowLimit": 10000
     },
     "inputWidgets": {},
     "nuid": "db95128c-aeb8-429d-910c-e2340537debf",
     "showTitle": false,
     "tableResultSettingsMap": {},
     "title": ""
    }
   },
   "source": [
    "###Utilizando o Spark e o Pandas para carregar todos os dados da tabela original diretamente do GitHub."
   ]
  },
  {
   "cell_type": "code",
   "execution_count": 0,
   "metadata": {
    "application/vnd.databricks.v1+cell": {
     "cellMetadata": {
      "byteLimit": 2048000,
      "rowLimit": 10000
     },
     "inputWidgets": {},
     "nuid": "50498fc4-18fa-4024-b24b-1accf9a2c1f3",
     "showTitle": false,
     "tableResultSettingsMap": {},
     "title": ""
    }
   },
   "outputs": [
    {
     "name": "stdout",
     "output_type": "stream",
     "text": [
      " Dados carregados com sucesso no Databricks!\n"
     ]
    }
   ],
   "source": [
    "%python\n",
    "import pandas as pd\n",
    "from pyspark.sql import SparkSession\n",
    "\n",
    "\n",
    "spark = SparkSession.builder.appName(\"LoadGitHubCSV\").getOrCreate()\n",
    "\n",
    "\n",
    "github_url = \"https://raw.githubusercontent.com/Davisdenner/mvp_engenharia_de_dados/refs/heads/main/Arquivos%20utilizados/education_career_success.csv\"\n",
    "\n",
    "\n",
    "df_pandas = pd.read_csv(github_url)\n",
    "\n",
    "df_spark = spark.createDataFrame(df_pandas)\n",
    "\n",
    "spark.sql(\"DROP TABLE IF EXISTS education_career_success\")\n",
    "\n",
    "df_spark.write.format(\"delta\").mode(\"overwrite\").saveAsTable(\"education_career_success\")\n",
    "\n",
    "print(\" Dados carregados com sucesso no Databricks!\")\n",
    "\n"
   ]
  },
  {
   "cell_type": "markdown",
   "metadata": {
    "application/vnd.databricks.v1+cell": {
     "cellMetadata": {
      "byteLimit": 2048000,
      "rowLimit": 10000
     },
     "inputWidgets": {},
     "nuid": "d391b763-599c-4dfd-8b84-07ea2a1f9f17",
     "showTitle": false,
     "tableResultSettingsMap": {},
     "title": ""
    }
   },
   "source": [
    "###Visualizando a tabela original \"education_carrer_success\"."
   ]
  },
  {
   "cell_type": "code",
   "execution_count": 0,
   "metadata": {
    "application/vnd.databricks.v1+cell": {
     "cellMetadata": {
      "byteLimit": 2048000,
      "rowLimit": 10000
     },
     "inputWidgets": {},
     "nuid": "59368b1d-4ae3-4b30-b742-9734911526a3",
     "showTitle": false,
     "tableResultSettingsMap": {},
     "title": ""
    }
   },
   "outputs": [
    {
     "data": {
      "text/html": [
       "<style scoped>\n",
       "  .table-result-container {\n",
       "    max-height: 300px;\n",
       "    overflow: auto;\n",
       "  }\n",
       "  table, th, td {\n",
       "    border: 1px solid black;\n",
       "    border-collapse: collapse;\n",
       "  }\n",
       "  th, td {\n",
       "    padding: 5px;\n",
       "  }\n",
       "  th {\n",
       "    text-align: left;\n",
       "  }\n",
       "</style><div class='table-result-container'><table class='table-result'><thead style='background-color: white'><tr><th>Student_ID</th><th>Age</th><th>Gender</th><th>High_School_GPA</th><th>SAT_Score</th><th>University_Ranking</th><th>University_GPA</th><th>Field_of_Study</th><th>Internships_Completed</th><th>Projects_Completed</th><th>Certifications</th><th>Soft_Skills_Score</th><th>Networking_Score</th><th>Job_Offers</th><th>Starting_Salary</th><th>Career_Satisfaction</th><th>Years_to_Promotion</th><th>Current_Job_Level</th><th>Work_Life_Balance</th><th>Entrepreneurship</th></tr></thead><tbody><tr><td>S04001</td><td>22</td><td>Male</td><td>3.89</td><td>1300</td><td>402</td><td>3.64</td><td>Engineering</td><td>2</td><td>1</td><td>5</td><td>8</td><td>8</td><td>2</td><td>36900.0</td><td>9</td><td>2</td><td>Entry</td><td>7</td><td>No</td></tr><tr><td>S04002</td><td>23</td><td>Male</td><td>3.18</td><td>1361</td><td>604</td><td>3.85</td><td>Arts</td><td>4</td><td>3</td><td>2</td><td>3</td><td>7</td><td>5</td><td>52200.0</td><td>1</td><td>1</td><td>Entry</td><td>7</td><td>No</td></tr><tr><td>S04003</td><td>24</td><td>Male</td><td>2.69</td><td>1110</td><td>412</td><td>2.86</td><td>Arts</td><td>0</td><td>8</td><td>3</td><td>9</td><td>8</td><td>2</td><td>38300.0</td><td>5</td><td>3</td><td>Entry</td><td>6</td><td>No</td></tr><tr><td>S04004</td><td>29</td><td>Female</td><td>3.25</td><td>925</td><td>971</td><td>3.97</td><td>Medicine</td><td>0</td><td>0</td><td>4</td><td>7</td><td>1</td><td>0</td><td>59200.0</td><td>9</td><td>4</td><td>Entry</td><td>7</td><td>No</td></tr><tr><td>S04005</td><td>26</td><td>Male</td><td>3.82</td><td>1151</td><td>908</td><td>2.43</td><td>Business</td><td>2</td><td>1</td><td>1</td><td>7</td><td>6</td><td>1</td><td>35800.0</td><td>6</td><td>5</td><td>Mid</td><td>3</td><td>No</td></tr><tr><td>S04006</td><td>20</td><td>Female</td><td>2.55</td><td>902</td><td>448</td><td>3.43</td><td>Law</td><td>3</td><td>1</td><td>1</td><td>5</td><td>3</td><td>1</td><td>42300.0</td><td>4</td><td>5</td><td>Mid</td><td>7</td><td>No</td></tr><tr><td>S04007</td><td>19</td><td>Female</td><td>3.01</td><td>901</td><td>247</td><td>3.07</td><td>Business</td><td>1</td><td>8</td><td>2</td><td>3</td><td>5</td><td>4</td><td>48700.0</td><td>1</td><td>2</td><td>Mid</td><td>7</td><td>No</td></tr><tr><td>S04008</td><td>20</td><td>Male</td><td>3.92</td><td>1503</td><td>770</td><td>3.63</td><td>Arts</td><td>4</td><td>9</td><td>5</td><td>10</td><td>2</td><td>4</td><td>73000.0</td><td>10</td><td>5</td><td>Entry</td><td>9</td><td>No</td></tr><tr><td>S04009</td><td>29</td><td>Female</td><td>2.34</td><td>901</td><td>699</td><td>2.95</td><td>Business</td><td>2</td><td>4</td><td>1</td><td>5</td><td>4</td><td>1</td><td>50500.0</td><td>6</td><td>1</td><td>Senior</td><td>2</td><td>No</td></tr><tr><td>S04010</td><td>26</td><td>Male</td><td>3.44</td><td>1049</td><td>421</td><td>3.57</td><td>Arts</td><td>1</td><td>3</td><td>5</td><td>3</td><td>6</td><td>2</td><td>80300.0</td><td>7</td><td>3</td><td>Senior</td><td>3</td><td>No</td></tr></tbody></table></div>"
      ]
     },
     "metadata": {
      "application/vnd.databricks.v1+output": {
       "addedWidgets": {},
       "aggData": [],
       "aggError": "",
       "aggOverflow": false,
       "aggSchema": [],
       "aggSeriesLimitReached": false,
       "aggType": "",
       "arguments": {},
       "columnCustomDisplayInfos": {},
       "data": [
        [
         "S04001",
         22,
         "Male",
         3.89,
         1300,
         402,
         3.64,
         "Engineering",
         2,
         1,
         5,
         8,
         8,
         2,
         36900,
         9,
         2,
         "Entry",
         7,
         "No"
        ],
        [
         "S04002",
         23,
         "Male",
         3.18,
         1361,
         604,
         3.85,
         "Arts",
         4,
         3,
         2,
         3,
         7,
         5,
         52200,
         1,
         1,
         "Entry",
         7,
         "No"
        ],
        [
         "S04003",
         24,
         "Male",
         2.69,
         1110,
         412,
         2.86,
         "Arts",
         0,
         8,
         3,
         9,
         8,
         2,
         38300,
         5,
         3,
         "Entry",
         6,
         "No"
        ],
        [
         "S04004",
         29,
         "Female",
         3.25,
         925,
         971,
         3.97,
         "Medicine",
         0,
         0,
         4,
         7,
         1,
         0,
         59200,
         9,
         4,
         "Entry",
         7,
         "No"
        ],
        [
         "S04005",
         26,
         "Male",
         3.82,
         1151,
         908,
         2.43,
         "Business",
         2,
         1,
         1,
         7,
         6,
         1,
         35800,
         6,
         5,
         "Mid",
         3,
         "No"
        ],
        [
         "S04006",
         20,
         "Female",
         2.55,
         902,
         448,
         3.43,
         "Law",
         3,
         1,
         1,
         5,
         3,
         1,
         42300,
         4,
         5,
         "Mid",
         7,
         "No"
        ],
        [
         "S04007",
         19,
         "Female",
         3.01,
         901,
         247,
         3.07,
         "Business",
         1,
         8,
         2,
         3,
         5,
         4,
         48700,
         1,
         2,
         "Mid",
         7,
         "No"
        ],
        [
         "S04008",
         20,
         "Male",
         3.92,
         1503,
         770,
         3.63,
         "Arts",
         4,
         9,
         5,
         10,
         2,
         4,
         73000,
         10,
         5,
         "Entry",
         9,
         "No"
        ],
        [
         "S04009",
         29,
         "Female",
         2.34,
         901,
         699,
         2.95,
         "Business",
         2,
         4,
         1,
         5,
         4,
         1,
         50500,
         6,
         1,
         "Senior",
         2,
         "No"
        ],
        [
         "S04010",
         26,
         "Male",
         3.44,
         1049,
         421,
         3.57,
         "Arts",
         1,
         3,
         5,
         3,
         6,
         2,
         80300,
         7,
         3,
         "Senior",
         3,
         "No"
        ]
       ],
       "datasetInfos": [
        {
         "name": "_sqldf",
         "schema": {
          "fields": [
           {
            "metadata": {},
            "name": "Student_ID",
            "nullable": true,
            "type": "string"
           },
           {
            "metadata": {},
            "name": "Age",
            "nullable": true,
            "type": "long"
           },
           {
            "metadata": {},
            "name": "Gender",
            "nullable": true,
            "type": "string"
           },
           {
            "metadata": {},
            "name": "High_School_GPA",
            "nullable": true,
            "type": "double"
           },
           {
            "metadata": {},
            "name": "SAT_Score",
            "nullable": true,
            "type": "long"
           },
           {
            "metadata": {},
            "name": "University_Ranking",
            "nullable": true,
            "type": "long"
           },
           {
            "metadata": {},
            "name": "University_GPA",
            "nullable": true,
            "type": "double"
           },
           {
            "metadata": {},
            "name": "Field_of_Study",
            "nullable": true,
            "type": "string"
           },
           {
            "metadata": {},
            "name": "Internships_Completed",
            "nullable": true,
            "type": "long"
           },
           {
            "metadata": {},
            "name": "Projects_Completed",
            "nullable": true,
            "type": "long"
           },
           {
            "metadata": {},
            "name": "Certifications",
            "nullable": true,
            "type": "long"
           },
           {
            "metadata": {},
            "name": "Soft_Skills_Score",
            "nullable": true,
            "type": "long"
           },
           {
            "metadata": {},
            "name": "Networking_Score",
            "nullable": true,
            "type": "long"
           },
           {
            "metadata": {},
            "name": "Job_Offers",
            "nullable": true,
            "type": "long"
           },
           {
            "metadata": {},
            "name": "Starting_Salary",
            "nullable": true,
            "type": "double"
           },
           {
            "metadata": {},
            "name": "Career_Satisfaction",
            "nullable": true,
            "type": "long"
           },
           {
            "metadata": {},
            "name": "Years_to_Promotion",
            "nullable": true,
            "type": "long"
           },
           {
            "metadata": {},
            "name": "Current_Job_Level",
            "nullable": true,
            "type": "string"
           },
           {
            "metadata": {},
            "name": "Work_Life_Balance",
            "nullable": true,
            "type": "long"
           },
           {
            "metadata": {},
            "name": "Entrepreneurship",
            "nullable": true,
            "type": "string"
           }
          ],
          "type": "struct"
         },
         "tableIdentifier": null,
         "typeStr": "pyspark.sql.connect.dataframe.DataFrame"
        }
       ],
       "dbfsResultPath": null,
       "isJsonSchema": true,
       "metadata": {
        "createTempViewForImplicitDf": true,
        "dataframeName": "_sqldf",
        "executionCount": 32
       },
       "overflow": false,
       "plotOptions": {
        "customPlotOptions": {},
        "displayType": "table",
        "pivotAggregation": null,
        "pivotColumns": null,
        "xColumns": null,
        "yColumns": null
       },
       "removedWidgets": [],
       "schema": [
        {
         "metadata": "{}",
         "name": "Student_ID",
         "type": "\"string\""
        },
        {
         "metadata": "{}",
         "name": "Age",
         "type": "\"long\""
        },
        {
         "metadata": "{}",
         "name": "Gender",
         "type": "\"string\""
        },
        {
         "metadata": "{}",
         "name": "High_School_GPA",
         "type": "\"double\""
        },
        {
         "metadata": "{}",
         "name": "SAT_Score",
         "type": "\"long\""
        },
        {
         "metadata": "{}",
         "name": "University_Ranking",
         "type": "\"long\""
        },
        {
         "metadata": "{}",
         "name": "University_GPA",
         "type": "\"double\""
        },
        {
         "metadata": "{}",
         "name": "Field_of_Study",
         "type": "\"string\""
        },
        {
         "metadata": "{}",
         "name": "Internships_Completed",
         "type": "\"long\""
        },
        {
         "metadata": "{}",
         "name": "Projects_Completed",
         "type": "\"long\""
        },
        {
         "metadata": "{}",
         "name": "Certifications",
         "type": "\"long\""
        },
        {
         "metadata": "{}",
         "name": "Soft_Skills_Score",
         "type": "\"long\""
        },
        {
         "metadata": "{}",
         "name": "Networking_Score",
         "type": "\"long\""
        },
        {
         "metadata": "{}",
         "name": "Job_Offers",
         "type": "\"long\""
        },
        {
         "metadata": "{}",
         "name": "Starting_Salary",
         "type": "\"double\""
        },
        {
         "metadata": "{}",
         "name": "Career_Satisfaction",
         "type": "\"long\""
        },
        {
         "metadata": "{}",
         "name": "Years_to_Promotion",
         "type": "\"long\""
        },
        {
         "metadata": "{}",
         "name": "Current_Job_Level",
         "type": "\"string\""
        },
        {
         "metadata": "{}",
         "name": "Work_Life_Balance",
         "type": "\"long\""
        },
        {
         "metadata": "{}",
         "name": "Entrepreneurship",
         "type": "\"string\""
        }
       ],
       "type": "table"
      }
     },
     "output_type": "display_data"
    }
   ],
   "source": [
    "SELECT * FROM education_career_success\n",
    "LIMIT 10;"
   ]
  },
  {
   "cell_type": "markdown",
   "metadata": {
    "application/vnd.databricks.v1+cell": {
     "cellMetadata": {
      "byteLimit": 2048000,
      "rowLimit": 10000
     },
     "inputWidgets": {},
     "nuid": "d57c0202-397b-4cc4-b2a5-7f4333e7bae6",
     "showTitle": false,
     "tableResultSettingsMap": {},
     "title": ""
    }
   },
   "source": [
    "#CAMADA PRATA (DADOS LIMPOS E ADAPTADOS)\n"
   ]
  },
  {
   "cell_type": "markdown",
   "metadata": {
    "application/vnd.databricks.v1+cell": {
     "cellMetadata": {
      "byteLimit": 2048000,
      "rowLimit": 10000
     },
     "inputWidgets": {},
     "nuid": "4bec6d30-a976-4959-9e85-5e4b1c182acf",
     "showTitle": false,
     "tableResultSettingsMap": {},
     "title": ""
    }
   },
   "source": [
    "##Fragmentando a tabela original em três tabelas distintas:\n",
    "- education_info;\n",
    "- experience_info;\n",
    "- carrer_info."
   ]
  },
  {
   "cell_type": "markdown",
   "metadata": {
    "application/vnd.databricks.v1+cell": {
     "cellMetadata": {
      "byteLimit": 2048000,
      "rowLimit": 10000
     },
     "inputWidgets": {},
     "nuid": "ec5ccf2d-09fe-47c3-8700-09adf82abeb7",
     "showTitle": false,
     "tableResultSettingsMap": {},
     "title": ""
    }
   },
   "source": [
    "##Catálogo das colunas utlizadas na tabela \"education_info\".\n",
    "\n",
    "- **Student_ID**: Identificação única do estudante;\n",
    "- **Age**: Idade do estudante (18-30);\n",
    "- **Gender**: Gênero do estudante (Masculino, Feminino ou Outro);\n",
    "- **High_School_GPA**: Média no ensino médio (escala de 2.0 - 4.0);\n",
    "- **SAT_Score**: Pontuação no SAT (900 - 1600);\n",
    "- **University_Ranking**: Ranking da universidade frequentada (1 - 1000);\n",
    "- **University_GPA**: Média na universidade (escala de 2.0 - 4.0);\n",
    "- **Field_of_Study**: Área de estudo (Ciência da Computação, Medicina, Administração/Negócios, Artes, Direito, Engenharia, Matemática).\n",
    "\n"
   ]
  },
  {
   "cell_type": "code",
   "execution_count": 0,
   "metadata": {
    "application/vnd.databricks.v1+cell": {
     "cellMetadata": {
      "byteLimit": 2048000,
      "rowLimit": 10000
     },
     "inputWidgets": {},
     "nuid": "168d58a8-43dc-4005-87ea-b587a9b9d4ba",
     "showTitle": false,
     "tableResultSettingsMap": {},
     "title": ""
    }
   },
   "outputs": [],
   "source": [
    "CREATE TABLE IF NOT EXISTS education_info (\n",
    "    Student_ID VARCHAR(50) PRIMARY KEY,\n",
    "    Age INT,\n",
    "    Gender VARCHAR(10),\n",
    "    High_School_GPA FLOAT,\n",
    "    SAT_Score INT,\n",
    "    University_Ranking INT,\n",
    "    University_GPA FLOAT,\n",
    "    Field_of_Study VARCHAR(100)\n",
    ");\n",
    "\n",
    "   "
   ]
  },
  {
   "cell_type": "code",
   "execution_count": 0,
   "metadata": {
    "application/vnd.databricks.v1+cell": {
     "cellMetadata": {
      "byteLimit": 2048000,
      "rowLimit": 10000
     },
     "inputWidgets": {},
     "nuid": "babd2351-b2e4-4d22-a536-07f7e8da206c",
     "showTitle": false,
     "tableResultSettingsMap": {},
     "title": ""
    }
   },
   "outputs": [
    {
     "data": {
      "text/html": [
       "<style scoped>\n",
       "  .table-result-container {\n",
       "    max-height: 300px;\n",
       "    overflow: auto;\n",
       "  }\n",
       "  table, th, td {\n",
       "    border: 1px solid black;\n",
       "    border-collapse: collapse;\n",
       "  }\n",
       "  th, td {\n",
       "    padding: 5px;\n",
       "  }\n",
       "  th {\n",
       "    text-align: left;\n",
       "  }\n",
       "</style><div class='table-result-container'><table class='table-result'><thead style='background-color: white'><tr><th>num_affected_rows</th><th>num_inserted_rows</th></tr></thead><tbody><tr><td>5000</td><td>5000</td></tr></tbody></table></div>"
      ]
     },
     "metadata": {
      "application/vnd.databricks.v1+output": {
       "addedWidgets": {},
       "aggData": [],
       "aggError": "",
       "aggOverflow": false,
       "aggSchema": [],
       "aggSeriesLimitReached": false,
       "aggType": "",
       "arguments": {},
       "columnCustomDisplayInfos": {},
       "data": [
        [
         5000,
         5000
        ]
       ],
       "datasetInfos": [
        {
         "name": "_sqldf",
         "schema": {
          "fields": [
           {
            "metadata": {},
            "name": "num_affected_rows",
            "nullable": true,
            "type": "long"
           },
           {
            "metadata": {},
            "name": "num_inserted_rows",
            "nullable": true,
            "type": "long"
           }
          ],
          "type": "struct"
         },
         "tableIdentifier": null,
         "typeStr": "pyspark.sql.connect.dataframe.DataFrame"
        }
       ],
       "dbfsResultPath": null,
       "isJsonSchema": true,
       "metadata": {
        "createTempViewForImplicitDf": true,
        "dataframeName": "_sqldf",
        "executionCount": 4
       },
       "overflow": false,
       "plotOptions": {
        "customPlotOptions": {},
        "displayType": "table",
        "pivotAggregation": null,
        "pivotColumns": null,
        "xColumns": null,
        "yColumns": null
       },
       "removedWidgets": [],
       "schema": [
        {
         "metadata": "{}",
         "name": "num_affected_rows",
         "type": "\"long\""
        },
        {
         "metadata": "{}",
         "name": "num_inserted_rows",
         "type": "\"long\""
        }
       ],
       "type": "table"
      }
     },
     "output_type": "display_data"
    }
   ],
   "source": [
    "INSERT INTO education_info (Student_ID, Age, Gender, High_School_GPA, SAT_Score, University_Ranking, University_GPA, Field_of_Study)\n",
    "SELECT \n",
    "    Student_ID,\n",
    "    Age,\n",
    "    Gender,\n",
    "    High_School_GPA,\n",
    "    SAT_Score,\n",
    "    University_Ranking,\n",
    "    University_GPA,\n",
    "    Field_of_Study\n",
    "FROM education_career_success;\n"
   ]
  },
  {
   "cell_type": "markdown",
   "metadata": {
    "application/vnd.databricks.v1+cell": {
     "cellMetadata": {
      "byteLimit": 2048000,
      "rowLimit": 10000
     },
     "inputWidgets": {},
     "nuid": "f22c8b3a-680a-41bf-bbc9-84499f2991ab",
     "showTitle": false,
     "tableResultSettingsMap": {},
     "title": ""
    }
   },
   "source": [
    "%md\n",
    "###Visualizando a tabela \"education_info\""
   ]
  },
  {
   "cell_type": "code",
   "execution_count": 0,
   "metadata": {
    "application/vnd.databricks.v1+cell": {
     "cellMetadata": {
      "byteLimit": 2048000,
      "rowLimit": 10000
     },
     "inputWidgets": {},
     "nuid": "a25f0b0d-4cc4-4011-b48f-702541907618",
     "showTitle": false,
     "tableResultSettingsMap": {},
     "title": ""
    }
   },
   "outputs": [
    {
     "data": {
      "text/html": [
       "<style scoped>\n",
       "  .table-result-container {\n",
       "    max-height: 300px;\n",
       "    overflow: auto;\n",
       "  }\n",
       "  table, th, td {\n",
       "    border: 1px solid black;\n",
       "    border-collapse: collapse;\n",
       "  }\n",
       "  th, td {\n",
       "    padding: 5px;\n",
       "  }\n",
       "  th {\n",
       "    text-align: left;\n",
       "  }\n",
       "</style><div class='table-result-container'><table class='table-result'><thead style='background-color: white'><tr><th>Student_ID</th><th>Age</th><th>Gender</th><th>High_School_GPA</th><th>SAT_Score</th><th>University_Ranking</th><th>University_GPA</th><th>Field_of_Study</th></tr></thead><tbody><tr><td>S00001</td><td>24</td><td>Male</td><td>3.58</td><td>1052</td><td>291</td><td>3.96</td><td>Arts</td></tr><tr><td>S00002</td><td>21</td><td>Other</td><td>2.52</td><td>1211</td><td>112</td><td>3.63</td><td>Law</td></tr><tr><td>S00003</td><td>28</td><td>Female</td><td>3.42</td><td>1193</td><td>715</td><td>2.63</td><td>Medicine</td></tr><tr><td>S00004</td><td>25</td><td>Male</td><td>2.43</td><td>1497</td><td>170</td><td>2.81</td><td>Computer Science</td></tr><tr><td>S00005</td><td>22</td><td>Male</td><td>2.08</td><td>1012</td><td>599</td><td>2.48</td><td>Engineering</td></tr><tr><td>S00006</td><td>24</td><td>Male</td><td>2.4</td><td>1600</td><td>631</td><td>3.78</td><td>Law</td></tr><tr><td>S00007</td><td>27</td><td>Male</td><td>2.36</td><td>1011</td><td>610</td><td>3.83</td><td>Computer Science</td></tr><tr><td>S00008</td><td>20</td><td>Male</td><td>2.68</td><td>1074</td><td>240</td><td>2.84</td><td>Computer Science</td></tr><tr><td>S00009</td><td>24</td><td>Male</td><td>2.84</td><td>1201</td><td>337</td><td>3.31</td><td>Business</td></tr><tr><td>S00010</td><td>28</td><td>Male</td><td>3.02</td><td>1415</td><td>138</td><td>2.33</td><td>Computer Science</td></tr></tbody></table></div>"
      ]
     },
     "metadata": {
      "application/vnd.databricks.v1+output": {
       "addedWidgets": {},
       "aggData": [],
       "aggError": "",
       "aggOverflow": false,
       "aggSchema": [],
       "aggSeriesLimitReached": false,
       "aggType": "",
       "arguments": {},
       "columnCustomDisplayInfos": {},
       "data": [
        [
         "S00001",
         24,
         "Male",
         3.58,
         1052,
         291,
         3.96,
         "Arts"
        ],
        [
         "S00002",
         21,
         "Other",
         2.52,
         1211,
         112,
         3.63,
         "Law"
        ],
        [
         "S00003",
         28,
         "Female",
         3.42,
         1193,
         715,
         2.63,
         "Medicine"
        ],
        [
         "S00004",
         25,
         "Male",
         2.43,
         1497,
         170,
         2.81,
         "Computer Science"
        ],
        [
         "S00005",
         22,
         "Male",
         2.08,
         1012,
         599,
         2.48,
         "Engineering"
        ],
        [
         "S00006",
         24,
         "Male",
         2.4,
         1600,
         631,
         3.78,
         "Law"
        ],
        [
         "S00007",
         27,
         "Male",
         2.36,
         1011,
         610,
         3.83,
         "Computer Science"
        ],
        [
         "S00008",
         20,
         "Male",
         2.68,
         1074,
         240,
         2.84,
         "Computer Science"
        ],
        [
         "S00009",
         24,
         "Male",
         2.84,
         1201,
         337,
         3.31,
         "Business"
        ],
        [
         "S00010",
         28,
         "Male",
         3.02,
         1415,
         138,
         2.33,
         "Computer Science"
        ]
       ],
       "datasetInfos": [
        {
         "name": "_sqldf",
         "schema": {
          "fields": [
           {
            "metadata": {
             "__CHAR_VARCHAR_TYPE_STRING": "varchar(50)"
            },
            "name": "Student_ID",
            "nullable": false,
            "type": "string"
           },
           {
            "metadata": {},
            "name": "Age",
            "nullable": true,
            "type": "integer"
           },
           {
            "metadata": {
             "__CHAR_VARCHAR_TYPE_STRING": "varchar(10)"
            },
            "name": "Gender",
            "nullable": true,
            "type": "string"
           },
           {
            "metadata": {},
            "name": "High_School_GPA",
            "nullable": true,
            "type": "float"
           },
           {
            "metadata": {},
            "name": "SAT_Score",
            "nullable": true,
            "type": "integer"
           },
           {
            "metadata": {},
            "name": "University_Ranking",
            "nullable": true,
            "type": "integer"
           },
           {
            "metadata": {},
            "name": "University_GPA",
            "nullable": true,
            "type": "float"
           },
           {
            "metadata": {
             "__CHAR_VARCHAR_TYPE_STRING": "varchar(100)"
            },
            "name": "Field_of_Study",
            "nullable": true,
            "type": "string"
           }
          ],
          "type": "struct"
         },
         "tableIdentifier": null,
         "typeStr": "pyspark.sql.connect.dataframe.DataFrame"
        }
       ],
       "dbfsResultPath": null,
       "isJsonSchema": true,
       "metadata": {
        "createTempViewForImplicitDf": true,
        "dataframeName": "_sqldf",
        "executionCount": 31
       },
       "overflow": false,
       "plotOptions": {
        "customPlotOptions": {},
        "displayType": "table",
        "pivotAggregation": null,
        "pivotColumns": null,
        "xColumns": null,
        "yColumns": null
       },
       "removedWidgets": [],
       "schema": [
        {
         "metadata": "{\"__CHAR_VARCHAR_TYPE_STRING\": \"varchar(50)\"}",
         "name": "Student_ID",
         "type": "\"string\""
        },
        {
         "metadata": "{}",
         "name": "Age",
         "type": "\"integer\""
        },
        {
         "metadata": "{\"__CHAR_VARCHAR_TYPE_STRING\": \"varchar(10)\"}",
         "name": "Gender",
         "type": "\"string\""
        },
        {
         "metadata": "{}",
         "name": "High_School_GPA",
         "type": "\"float\""
        },
        {
         "metadata": "{}",
         "name": "SAT_Score",
         "type": "\"integer\""
        },
        {
         "metadata": "{}",
         "name": "University_Ranking",
         "type": "\"integer\""
        },
        {
         "metadata": "{}",
         "name": "University_GPA",
         "type": "\"float\""
        },
        {
         "metadata": "{\"__CHAR_VARCHAR_TYPE_STRING\": \"varchar(100)\"}",
         "name": "Field_of_Study",
         "type": "\"string\""
        }
       ],
       "type": "table"
      }
     },
     "output_type": "display_data"
    }
   ],
   "source": [
    "SELECT*FROM education_info\n",
    "LIMIT 10;"
   ]
  },
  {
   "cell_type": "markdown",
   "metadata": {
    "application/vnd.databricks.v1+cell": {
     "cellMetadata": {
      "byteLimit": 2048000,
      "rowLimit": 10000
     },
     "inputWidgets": {},
     "nuid": "5d90ad5b-fe7b-4f96-ac58-8455d4068467",
     "showTitle": false,
     "tableResultSettingsMap": {},
     "title": ""
    }
   },
   "source": [
    "##Catálogo das colunas utlizadas na tabela \"experience_info\".\n",
    "\n",
    "- **Student_ID**: Identificação única do estudante;\n",
    "- **Internships_Completed**: Número de estágios concluídos (0-4);\n",
    "- **Projects_Completed**: Número de projetos concluídos (0-9);\n",
    "- **Certifications**: Número de certificações obtidas (0-5);\n",
    "- **Soft_Skills_Score**: Avaliação de habilidades interpessoais (1-10);\n",
    "- **Networking_Score**: Avaliação de networking (1-10).\n"
   ]
  },
  {
   "cell_type": "code",
   "execution_count": 0,
   "metadata": {
    "application/vnd.databricks.v1+cell": {
     "cellMetadata": {
      "byteLimit": 2048000,
      "rowLimit": 10000
     },
     "inputWidgets": {},
     "nuid": "6c2a9dd4-a8d2-4697-a4c3-074bc69104f9",
     "showTitle": false,
     "tableResultSettingsMap": {},
     "title": ""
    }
   },
   "outputs": [],
   "source": [
    "CREATE TABLE IF NOT EXISTS experience_info (\n",
    "    Student_ID VARCHAR(50),\n",
    "    Internships_Completed INT,\n",
    "    Projects_Completed INT,\n",
    "    Certifications INT,\n",
    "    Soft_Skills_Score INT,\n",
    "    Networking_Score INT,\n",
    "    CONSTRAINT fk_experience_student FOREIGN KEY (Student_ID) REFERENCES education_info(Student_ID)\n",
    ");\n"
   ]
  },
  {
   "cell_type": "code",
   "execution_count": 0,
   "metadata": {
    "application/vnd.databricks.v1+cell": {
     "cellMetadata": {
      "byteLimit": 2048000,
      "rowLimit": 10000
     },
     "inputWidgets": {},
     "nuid": "69c3bad6-90b5-409c-9738-f321c6818bbf",
     "showTitle": false,
     "tableResultSettingsMap": {},
     "title": ""
    }
   },
   "outputs": [
    {
     "data": {
      "text/html": [
       "<style scoped>\n",
       "  .table-result-container {\n",
       "    max-height: 300px;\n",
       "    overflow: auto;\n",
       "  }\n",
       "  table, th, td {\n",
       "    border: 1px solid black;\n",
       "    border-collapse: collapse;\n",
       "  }\n",
       "  th, td {\n",
       "    padding: 5px;\n",
       "  }\n",
       "  th {\n",
       "    text-align: left;\n",
       "  }\n",
       "</style><div class='table-result-container'><table class='table-result'><thead style='background-color: white'><tr><th>num_affected_rows</th><th>num_inserted_rows</th></tr></thead><tbody><tr><td>5000</td><td>5000</td></tr></tbody></table></div>"
      ]
     },
     "metadata": {
      "application/vnd.databricks.v1+output": {
       "addedWidgets": {},
       "aggData": [],
       "aggError": "",
       "aggOverflow": false,
       "aggSchema": [],
       "aggSeriesLimitReached": false,
       "aggType": "",
       "arguments": {},
       "columnCustomDisplayInfos": {},
       "data": [
        [
         5000,
         5000
        ]
       ],
       "datasetInfos": [
        {
         "name": "_sqldf",
         "schema": {
          "fields": [
           {
            "metadata": {},
            "name": "num_affected_rows",
            "nullable": true,
            "type": "long"
           },
           {
            "metadata": {},
            "name": "num_inserted_rows",
            "nullable": true,
            "type": "long"
           }
          ],
          "type": "struct"
         },
         "tableIdentifier": null,
         "typeStr": "pyspark.sql.connect.dataframe.DataFrame"
        }
       ],
       "dbfsResultPath": null,
       "isJsonSchema": true,
       "metadata": {
        "createTempViewForImplicitDf": true,
        "dataframeName": "_sqldf",
        "executionCount": 7
       },
       "overflow": false,
       "plotOptions": {
        "customPlotOptions": {},
        "displayType": "table",
        "pivotAggregation": null,
        "pivotColumns": null,
        "xColumns": null,
        "yColumns": null
       },
       "removedWidgets": [],
       "schema": [
        {
         "metadata": "{}",
         "name": "num_affected_rows",
         "type": "\"long\""
        },
        {
         "metadata": "{}",
         "name": "num_inserted_rows",
         "type": "\"long\""
        }
       ],
       "type": "table"
      }
     },
     "output_type": "display_data"
    }
   ],
   "source": [
    "INSERT INTO experience_info (Student_ID, Internships_Completed, Projects_Completed, Certifications, Soft_Skills_Score, Networking_Score)\n",
    "SELECT \n",
    "    Student_ID,\n",
    "    Internships_Completed,\n",
    "    Projects_Completed,\n",
    "    Certifications,\n",
    "    Soft_Skills_Score,\n",
    "    Networking_Score\n",
    "FROM education_career_success;\n"
   ]
  },
  {
   "cell_type": "markdown",
   "metadata": {
    "application/vnd.databricks.v1+cell": {
     "cellMetadata": {
      "byteLimit": 2048000,
      "rowLimit": 10000
     },
     "inputWidgets": {},
     "nuid": "7252d763-c42f-4249-83f9-dc79deb2e670",
     "showTitle": false,
     "tableResultSettingsMap": {},
     "title": ""
    }
   },
   "source": [
    "###Visualizando a tabela \"experience_info\"."
   ]
  },
  {
   "cell_type": "code",
   "execution_count": 0,
   "metadata": {
    "application/vnd.databricks.v1+cell": {
     "cellMetadata": {
      "byteLimit": 2048000,
      "rowLimit": 10000
     },
     "inputWidgets": {},
     "nuid": "19f9e1a7-32b3-4468-9ac0-7ed5c2f9bcfc",
     "showTitle": false,
     "tableResultSettingsMap": {},
     "title": ""
    }
   },
   "outputs": [
    {
     "data": {
      "text/html": [
       "<style scoped>\n",
       "  .table-result-container {\n",
       "    max-height: 300px;\n",
       "    overflow: auto;\n",
       "  }\n",
       "  table, th, td {\n",
       "    border: 1px solid black;\n",
       "    border-collapse: collapse;\n",
       "  }\n",
       "  th, td {\n",
       "    padding: 5px;\n",
       "  }\n",
       "  th {\n",
       "    text-align: left;\n",
       "  }\n",
       "</style><div class='table-result-container'><table class='table-result'><thead style='background-color: white'><tr><th>Student_ID</th><th>Internships_Completed</th><th>Projects_Completed</th><th>Certifications</th><th>Soft_Skills_Score</th><th>Networking_Score</th></tr></thead><tbody><tr><td>S00001</td><td>3</td><td>7</td><td>2</td><td>9</td><td>8</td></tr><tr><td>S00002</td><td>4</td><td>7</td><td>3</td><td>8</td><td>1</td></tr><tr><td>S00003</td><td>4</td><td>8</td><td>1</td><td>1</td><td>9</td></tr><tr><td>S00004</td><td>3</td><td>9</td><td>1</td><td>10</td><td>6</td></tr><tr><td>S00005</td><td>4</td><td>6</td><td>4</td><td>10</td><td>9</td></tr><tr><td>S00006</td><td>2</td><td>3</td><td>2</td><td>2</td><td>2</td></tr><tr><td>S00007</td><td>0</td><td>1</td><td>3</td><td>3</td><td>3</td></tr><tr><td>S00008</td><td>1</td><td>5</td><td>5</td><td>5</td><td>1</td></tr><tr><td>S00009</td><td>2</td><td>3</td><td>0</td><td>5</td><td>5</td></tr><tr><td>S00010</td><td>1</td><td>5</td><td>3</td><td>10</td><td>2</td></tr></tbody></table></div>"
      ]
     },
     "metadata": {
      "application/vnd.databricks.v1+output": {
       "addedWidgets": {},
       "aggData": [],
       "aggError": "",
       "aggOverflow": false,
       "aggSchema": [],
       "aggSeriesLimitReached": false,
       "aggType": "",
       "arguments": {},
       "columnCustomDisplayInfos": {},
       "data": [
        [
         "S00001",
         3,
         7,
         2,
         9,
         8
        ],
        [
         "S00002",
         4,
         7,
         3,
         8,
         1
        ],
        [
         "S00003",
         4,
         8,
         1,
         1,
         9
        ],
        [
         "S00004",
         3,
         9,
         1,
         10,
         6
        ],
        [
         "S00005",
         4,
         6,
         4,
         10,
         9
        ],
        [
         "S00006",
         2,
         3,
         2,
         2,
         2
        ],
        [
         "S00007",
         0,
         1,
         3,
         3,
         3
        ],
        [
         "S00008",
         1,
         5,
         5,
         5,
         1
        ],
        [
         "S00009",
         2,
         3,
         0,
         5,
         5
        ],
        [
         "S00010",
         1,
         5,
         3,
         10,
         2
        ]
       ],
       "datasetInfos": [
        {
         "name": "_sqldf",
         "schema": {
          "fields": [
           {
            "metadata": {
             "__CHAR_VARCHAR_TYPE_STRING": "varchar(50)"
            },
            "name": "Student_ID",
            "nullable": true,
            "type": "string"
           },
           {
            "metadata": {},
            "name": "Internships_Completed",
            "nullable": true,
            "type": "integer"
           },
           {
            "metadata": {},
            "name": "Projects_Completed",
            "nullable": true,
            "type": "integer"
           },
           {
            "metadata": {},
            "name": "Certifications",
            "nullable": true,
            "type": "integer"
           },
           {
            "metadata": {},
            "name": "Soft_Skills_Score",
            "nullable": true,
            "type": "integer"
           },
           {
            "metadata": {},
            "name": "Networking_Score",
            "nullable": true,
            "type": "integer"
           }
          ],
          "type": "struct"
         },
         "tableIdentifier": null,
         "typeStr": "pyspark.sql.connect.dataframe.DataFrame"
        }
       ],
       "dbfsResultPath": null,
       "isJsonSchema": true,
       "metadata": {
        "createTempViewForImplicitDf": true,
        "dataframeName": "_sqldf",
        "executionCount": 33
       },
       "overflow": false,
       "plotOptions": {
        "customPlotOptions": {},
        "displayType": "table",
        "pivotAggregation": null,
        "pivotColumns": null,
        "xColumns": null,
        "yColumns": null
       },
       "removedWidgets": [],
       "schema": [
        {
         "metadata": "{\"__CHAR_VARCHAR_TYPE_STRING\": \"varchar(50)\"}",
         "name": "Student_ID",
         "type": "\"string\""
        },
        {
         "metadata": "{}",
         "name": "Internships_Completed",
         "type": "\"integer\""
        },
        {
         "metadata": "{}",
         "name": "Projects_Completed",
         "type": "\"integer\""
        },
        {
         "metadata": "{}",
         "name": "Certifications",
         "type": "\"integer\""
        },
        {
         "metadata": "{}",
         "name": "Soft_Skills_Score",
         "type": "\"integer\""
        },
        {
         "metadata": "{}",
         "name": "Networking_Score",
         "type": "\"integer\""
        }
       ],
       "type": "table"
      }
     },
     "output_type": "display_data"
    }
   ],
   "source": [
    "SELECT*FROM experience_info\n",
    "LIMIT 10;"
   ]
  },
  {
   "cell_type": "markdown",
   "metadata": {
    "application/vnd.databricks.v1+cell": {
     "cellMetadata": {
      "byteLimit": 2048000,
      "rowLimit": 10000
     },
     "inputWidgets": {},
     "nuid": "e74fbff4-35bb-4b94-a0ec-409de45bb3af",
     "showTitle": false,
     "tableResultSettingsMap": {},
     "title": ""
    }
   },
   "source": [
    "###Catálogo das colunas utlizadas na tabela \"career_info\".\n",
    "\n",
    "- **Student_ID**: Identificação única do estudante;\n",
    "- **Job_Offers**: Número de ofertas de emprego recebidas após a graduação (0-5);\n",
    "- **Starting_Salary**: Salário inicial (anual) no primeiro emprego em dólares americanos (25000 -  101000);\n",
    "- **Career_Satisfaction**: Nível de satisfação com a carreira (escala de 1 a 10);\n",
    "- **Years_to_Promotion**: Tempo necessário para receber a primeira promoção (1-5 anos);\n",
    "- **Current_Job_Level**: Nível de carreira atual (Entry, Mid, Senior, Executive);\n",
    "- **Work_Life_Balance**: Equilíbrio entre trabalho e vida pessoal (escala de 1 a 10);\n",
    "- **Entrepreneurship**: Indica se a pessoa iniciou um negócio (Yes ou No)."
   ]
  },
  {
   "cell_type": "code",
   "execution_count": 0,
   "metadata": {
    "application/vnd.databricks.v1+cell": {
     "cellMetadata": {
      "byteLimit": 2048000,
      "rowLimit": 10000
     },
     "inputWidgets": {},
     "nuid": "9efda626-a1e4-4113-b923-4511cd177aac",
     "showTitle": false,
     "tableResultSettingsMap": {},
     "title": ""
    }
   },
   "outputs": [],
   "source": [
    "CREATE TABLE IF NOT EXISTS career_info (\n",
    "    Student_ID VARCHAR(50),\n",
    "    Job_Offers INT,\n",
    "    Starting_Salary FLOAT,\n",
    "    Career_Satisfaction INT,\n",
    "    Years_to_Promotion INT,\n",
    "    Current_Job_Level VARCHAR(50),\n",
    "    Work_Life_Balance INT,\n",
    "    Entrepreneurship VARCHAR(50),\n",
    "    CONSTRAINT fk_career_student FOREIGN KEY (Student_ID) REFERENCES education_info(Student_ID)\n",
    ");\n",
    "\n",
    "\n",
    "   "
   ]
  },
  {
   "cell_type": "code",
   "execution_count": 0,
   "metadata": {
    "application/vnd.databricks.v1+cell": {
     "cellMetadata": {
      "byteLimit": 2048000,
      "rowLimit": 10000
     },
     "inputWidgets": {},
     "nuid": "392297b6-162f-4d60-ad43-f0d7348840b9",
     "showTitle": false,
     "tableResultSettingsMap": {},
     "title": ""
    }
   },
   "outputs": [
    {
     "data": {
      "text/html": [
       "<style scoped>\n",
       "  .table-result-container {\n",
       "    max-height: 300px;\n",
       "    overflow: auto;\n",
       "  }\n",
       "  table, th, td {\n",
       "    border: 1px solid black;\n",
       "    border-collapse: collapse;\n",
       "  }\n",
       "  th, td {\n",
       "    padding: 5px;\n",
       "  }\n",
       "  th {\n",
       "    text-align: left;\n",
       "  }\n",
       "</style><div class='table-result-container'><table class='table-result'><thead style='background-color: white'><tr><th>num_affected_rows</th><th>num_inserted_rows</th></tr></thead><tbody><tr><td>5000</td><td>5000</td></tr></tbody></table></div>"
      ]
     },
     "metadata": {
      "application/vnd.databricks.v1+output": {
       "addedWidgets": {},
       "aggData": [],
       "aggError": "",
       "aggOverflow": false,
       "aggSchema": [],
       "aggSeriesLimitReached": false,
       "aggType": "",
       "arguments": {},
       "columnCustomDisplayInfos": {},
       "data": [
        [
         5000,
         5000
        ]
       ],
       "datasetInfos": [
        {
         "name": "_sqldf",
         "schema": {
          "fields": [
           {
            "metadata": {},
            "name": "num_affected_rows",
            "nullable": true,
            "type": "long"
           },
           {
            "metadata": {},
            "name": "num_inserted_rows",
            "nullable": true,
            "type": "long"
           }
          ],
          "type": "struct"
         },
         "tableIdentifier": null,
         "typeStr": "pyspark.sql.connect.dataframe.DataFrame"
        }
       ],
       "dbfsResultPath": null,
       "isJsonSchema": true,
       "metadata": {
        "createTempViewForImplicitDf": true,
        "dataframeName": "_sqldf",
        "executionCount": 10
       },
       "overflow": false,
       "plotOptions": {
        "customPlotOptions": {},
        "displayType": "table",
        "pivotAggregation": null,
        "pivotColumns": null,
        "xColumns": null,
        "yColumns": null
       },
       "removedWidgets": [],
       "schema": [
        {
         "metadata": "{}",
         "name": "num_affected_rows",
         "type": "\"long\""
        },
        {
         "metadata": "{}",
         "name": "num_inserted_rows",
         "type": "\"long\""
        }
       ],
       "type": "table"
      }
     },
     "output_type": "display_data"
    }
   ],
   "source": [
    "INSERT INTO career_info (Student_ID, Job_Offers, Starting_Salary, Career_Satisfaction, Years_to_Promotion, Current_Job_Level, Work_Life_Balance, Entrepreneurship)\n",
    "SELECT \n",
    "    Student_ID,\n",
    "    Job_Offers,\n",
    "    Starting_Salary,\n",
    "    Career_Satisfaction,\n",
    "    Years_to_Promotion,\n",
    "    Current_Job_Level,\n",
    "    Work_Life_Balance,\n",
    "    Entrepreneurship\n",
    "FROM education_career_success;\n"
   ]
  },
  {
   "cell_type": "markdown",
   "metadata": {
    "application/vnd.databricks.v1+cell": {
     "cellMetadata": {
      "byteLimit": 2048000,
      "rowLimit": 10000
     },
     "inputWidgets": {},
     "nuid": "e3a67a2e-af38-43cc-b59e-5b1b0c15945a",
     "showTitle": false,
     "tableResultSettingsMap": {},
     "title": ""
    }
   },
   "source": [
    "###Visualizando a tabela \"carrer_info\"."
   ]
  },
  {
   "cell_type": "code",
   "execution_count": 0,
   "metadata": {
    "application/vnd.databricks.v1+cell": {
     "cellMetadata": {
      "byteLimit": 2048000,
      "rowLimit": 10000
     },
     "inputWidgets": {},
     "nuid": "09467acb-cd95-4a3e-a810-7179a7692305",
     "showTitle": false,
     "tableResultSettingsMap": {},
     "title": ""
    }
   },
   "outputs": [
    {
     "data": {
      "text/html": [
       "<style scoped>\n",
       "  .table-result-container {\n",
       "    max-height: 300px;\n",
       "    overflow: auto;\n",
       "  }\n",
       "  table, th, td {\n",
       "    border: 1px solid black;\n",
       "    border-collapse: collapse;\n",
       "  }\n",
       "  th, td {\n",
       "    padding: 5px;\n",
       "  }\n",
       "  th {\n",
       "    text-align: left;\n",
       "  }\n",
       "</style><div class='table-result-container'><table class='table-result'><thead style='background-color: white'><tr><th>Student_ID</th><th>Job_Offers</th><th>Starting_Salary</th><th>Career_Satisfaction</th><th>Years_to_Promotion</th><th>Current_Job_Level</th><th>Work_Life_Balance</th><th>Entrepreneurship</th></tr></thead><tbody><tr><td>S00001</td><td>5</td><td>27200.0</td><td>4</td><td>5</td><td>Entry</td><td>7</td><td>No</td></tr><tr><td>S00002</td><td>4</td><td>25000.0</td><td>1</td><td>1</td><td>Mid</td><td>7</td><td>No</td></tr><tr><td>S00003</td><td>0</td><td>42400.0</td><td>9</td><td>3</td><td>Entry</td><td>7</td><td>No</td></tr><tr><td>S00004</td><td>1</td><td>57400.0</td><td>7</td><td>5</td><td>Mid</td><td>5</td><td>No</td></tr><tr><td>S00005</td><td>4</td><td>47600.0</td><td>9</td><td>5</td><td>Entry</td><td>2</td><td>No</td></tr><tr><td>S00006</td><td>1</td><td>68400.0</td><td>9</td><td>2</td><td>Entry</td><td>8</td><td>Yes</td></tr><tr><td>S00007</td><td>2</td><td>55500.0</td><td>7</td><td>4</td><td>Mid</td><td>3</td><td>No</td></tr><tr><td>S00008</td><td>2</td><td>38000.0</td><td>2</td><td>3</td><td>Entry</td><td>3</td><td>No</td></tr><tr><td>S00009</td><td>2</td><td>68900.0</td><td>2</td><td>2</td><td>Entry</td><td>2</td><td>No</td></tr><tr><td>S00010</td><td>0</td><td>58900.0</td><td>4</td><td>2</td><td>Senior</td><td>2</td><td>No</td></tr></tbody></table></div>"
      ]
     },
     "metadata": {
      "application/vnd.databricks.v1+output": {
       "addedWidgets": {},
       "aggData": [],
       "aggError": "",
       "aggOverflow": false,
       "aggSchema": [],
       "aggSeriesLimitReached": false,
       "aggType": "",
       "arguments": {},
       "columnCustomDisplayInfos": {},
       "data": [
        [
         "S00001",
         5,
         27200,
         4,
         5,
         "Entry",
         7,
         "No"
        ],
        [
         "S00002",
         4,
         25000,
         1,
         1,
         "Mid",
         7,
         "No"
        ],
        [
         "S00003",
         0,
         42400,
         9,
         3,
         "Entry",
         7,
         "No"
        ],
        [
         "S00004",
         1,
         57400,
         7,
         5,
         "Mid",
         5,
         "No"
        ],
        [
         "S00005",
         4,
         47600,
         9,
         5,
         "Entry",
         2,
         "No"
        ],
        [
         "S00006",
         1,
         68400,
         9,
         2,
         "Entry",
         8,
         "Yes"
        ],
        [
         "S00007",
         2,
         55500,
         7,
         4,
         "Mid",
         3,
         "No"
        ],
        [
         "S00008",
         2,
         38000,
         2,
         3,
         "Entry",
         3,
         "No"
        ],
        [
         "S00009",
         2,
         68900,
         2,
         2,
         "Entry",
         2,
         "No"
        ],
        [
         "S00010",
         0,
         58900,
         4,
         2,
         "Senior",
         2,
         "No"
        ]
       ],
       "datasetInfos": [
        {
         "name": "_sqldf",
         "schema": {
          "fields": [
           {
            "metadata": {
             "__CHAR_VARCHAR_TYPE_STRING": "varchar(50)"
            },
            "name": "Student_ID",
            "nullable": true,
            "type": "string"
           },
           {
            "metadata": {},
            "name": "Job_Offers",
            "nullable": true,
            "type": "integer"
           },
           {
            "metadata": {},
            "name": "Starting_Salary",
            "nullable": true,
            "type": "float"
           },
           {
            "metadata": {},
            "name": "Career_Satisfaction",
            "nullable": true,
            "type": "integer"
           },
           {
            "metadata": {},
            "name": "Years_to_Promotion",
            "nullable": true,
            "type": "integer"
           },
           {
            "metadata": {
             "__CHAR_VARCHAR_TYPE_STRING": "varchar(50)"
            },
            "name": "Current_Job_Level",
            "nullable": true,
            "type": "string"
           },
           {
            "metadata": {},
            "name": "Work_Life_Balance",
            "nullable": true,
            "type": "integer"
           },
           {
            "metadata": {
             "__CHAR_VARCHAR_TYPE_STRING": "varchar(50)"
            },
            "name": "Entrepreneurship",
            "nullable": true,
            "type": "string"
           }
          ],
          "type": "struct"
         },
         "tableIdentifier": null,
         "typeStr": "pyspark.sql.connect.dataframe.DataFrame"
        }
       ],
       "dbfsResultPath": null,
       "isJsonSchema": true,
       "metadata": {
        "createTempViewForImplicitDf": true,
        "dataframeName": "_sqldf",
        "executionCount": 34
       },
       "overflow": false,
       "plotOptions": {
        "customPlotOptions": {},
        "displayType": "table",
        "pivotAggregation": null,
        "pivotColumns": null,
        "xColumns": null,
        "yColumns": null
       },
       "removedWidgets": [],
       "schema": [
        {
         "metadata": "{\"__CHAR_VARCHAR_TYPE_STRING\": \"varchar(50)\"}",
         "name": "Student_ID",
         "type": "\"string\""
        },
        {
         "metadata": "{}",
         "name": "Job_Offers",
         "type": "\"integer\""
        },
        {
         "metadata": "{}",
         "name": "Starting_Salary",
         "type": "\"float\""
        },
        {
         "metadata": "{}",
         "name": "Career_Satisfaction",
         "type": "\"integer\""
        },
        {
         "metadata": "{}",
         "name": "Years_to_Promotion",
         "type": "\"integer\""
        },
        {
         "metadata": "{\"__CHAR_VARCHAR_TYPE_STRING\": \"varchar(50)\"}",
         "name": "Current_Job_Level",
         "type": "\"string\""
        },
        {
         "metadata": "{}",
         "name": "Work_Life_Balance",
         "type": "\"integer\""
        },
        {
         "metadata": "{\"__CHAR_VARCHAR_TYPE_STRING\": \"varchar(50)\"}",
         "name": "Entrepreneurship",
         "type": "\"string\""
        }
       ],
       "type": "table"
      }
     },
     "output_type": "display_data"
    }
   ],
   "source": [
    "SELECT*FROM career_info\n",
    "LIMIT 10;"
   ]
  },
  {
   "cell_type": "markdown",
   "metadata": {
    "application/vnd.databricks.v1+cell": {
     "cellMetadata": {
      "byteLimit": 2048000,
      "rowLimit": 10000
     },
     "inputWidgets": {},
     "nuid": "808f5d21-ada2-422e-a540-ca9697e95ef0",
     "showTitle": false,
     "tableResultSettingsMap": {},
     "title": ""
    }
   },
   "source": [
    "#Qualidade dos dados\n",
    "\n",
    "- Logo abaixo foi feita uma análise de valores por atributo, para constatar que não se encontrou problemas no conjunto de dados."
   ]
  },
  {
   "cell_type": "markdown",
   "metadata": {
    "application/vnd.databricks.v1+cell": {
     "cellMetadata": {
      "byteLimit": 2048000,
      "rowLimit": 10000
     },
     "inputWidgets": {},
     "nuid": "05c8b4eb-cfc4-4645-a02e-6bd85247b13f",
     "showTitle": false,
     "tableResultSettingsMap": {},
     "title": ""
    }
   },
   "source": [
    "##Análise de qualidade para a tabela  \"**education_info**\".\n",
    "\n",
    "- Verificação de valores ausentes;\n",
    "- Verificação dos valores mínimo e máximo da coluna \"University_GPA\", para garantir que os dados estejam completos e dentro dos limites esperados."
   ]
  },
  {
   "cell_type": "code",
   "execution_count": 0,
   "metadata": {
    "application/vnd.databricks.v1+cell": {
     "cellMetadata": {
      "byteLimit": 2048000,
      "rowLimit": 10000
     },
     "inputWidgets": {},
     "nuid": "557231cb-e903-42ed-aea8-39baf5e08602",
     "showTitle": false,
     "tableResultSettingsMap": {},
     "title": ""
    }
   },
   "outputs": [
    {
     "data": {
      "text/html": [
       "<style scoped>\n",
       "  .table-result-container {\n",
       "    max-height: 300px;\n",
       "    overflow: auto;\n",
       "  }\n",
       "  table, th, td {\n",
       "    border: 1px solid black;\n",
       "    border-collapse: collapse;\n",
       "  }\n",
       "  th, td {\n",
       "    padding: 5px;\n",
       "  }\n",
       "  th {\n",
       "    text-align: left;\n",
       "  }\n",
       "</style><div class='table-result-container'><table class='table-result'><thead style='background-color: white'><tr><th>total_rows</th><th>unique_ids</th><th>missing_university_gpa</th><th>min_gpa</th><th>max_gpa</th></tr></thead><tbody><tr><td>20000</td><td>5000</td><td>0</td><td>2.0</td><td>4.0</td></tr></tbody></table></div>"
      ]
     },
     "metadata": {
      "application/vnd.databricks.v1+output": {
       "addedWidgets": {},
       "aggData": [],
       "aggError": "",
       "aggOverflow": false,
       "aggSchema": [],
       "aggSeriesLimitReached": false,
       "aggType": "",
       "arguments": {},
       "columnCustomDisplayInfos": {},
       "data": [
        [
         20000,
         5000,
         0,
         2,
         4
        ]
       ],
       "datasetInfos": [
        {
         "name": "_sqldf",
         "schema": {
          "fields": [
           {
            "metadata": {},
            "name": "total_rows",
            "nullable": false,
            "type": "long"
           },
           {
            "metadata": {},
            "name": "unique_ids",
            "nullable": false,
            "type": "long"
           },
           {
            "metadata": {},
            "name": "missing_university_gpa",
            "nullable": false,
            "type": "long"
           },
           {
            "metadata": {},
            "name": "min_gpa",
            "nullable": true,
            "type": "float"
           },
           {
            "metadata": {},
            "name": "max_gpa",
            "nullable": true,
            "type": "float"
           }
          ],
          "type": "struct"
         },
         "tableIdentifier": null,
         "typeStr": "pyspark.sql.connect.dataframe.DataFrame"
        }
       ],
       "dbfsResultPath": null,
       "isJsonSchema": true,
       "metadata": {
        "createTempViewForImplicitDf": true,
        "dataframeName": "_sqldf",
        "executionCount": 12
       },
       "overflow": false,
       "plotOptions": {
        "customPlotOptions": {},
        "displayType": "table",
        "pivotAggregation": null,
        "pivotColumns": null,
        "xColumns": null,
        "yColumns": null
       },
       "removedWidgets": [],
       "schema": [
        {
         "metadata": "{}",
         "name": "total_rows",
         "type": "\"long\""
        },
        {
         "metadata": "{}",
         "name": "unique_ids",
         "type": "\"long\""
        },
        {
         "metadata": "{}",
         "name": "missing_university_gpa",
         "type": "\"long\""
        },
        {
         "metadata": "{}",
         "name": "min_gpa",
         "type": "\"float\""
        },
        {
         "metadata": "{}",
         "name": "max_gpa",
         "type": "\"float\""
        }
       ],
       "type": "table"
      }
     },
     "output_type": "display_data"
    }
   ],
   "source": [
    "SELECT\n",
    "    COUNT(*) AS total_rows,\n",
    "    COUNT(DISTINCT Student_ID) AS unique_ids,\n",
    "    COUNT(*) - COUNT(University_GPA) AS missing_university_gpa,\n",
    "    MIN(University_GPA) AS min_gpa,\n",
    "    MAX(University_GPA) AS max_gpa\n",
    "FROM education_info;"
   ]
  },
  {
   "cell_type": "markdown",
   "metadata": {
    "application/vnd.databricks.v1+cell": {
     "cellMetadata": {
      "byteLimit": 2048000,
      "rowLimit": 10000
     },
     "inputWidgets": {},
     "nuid": "33546733-d924-46ad-aeea-212f7225a5e3",
     "showTitle": false,
     "tableResultSettingsMap": {},
     "title": ""
    }
   },
   "source": [
    "- Verificação de distribuição por área de estudo."
   ]
  },
  {
   "cell_type": "code",
   "execution_count": 0,
   "metadata": {
    "application/vnd.databricks.v1+cell": {
     "cellMetadata": {
      "byteLimit": 2048000,
      "rowLimit": 10000
     },
     "inputWidgets": {},
     "nuid": "af34da61-02ec-42c1-9423-836b319cd3bd",
     "showTitle": false,
     "tableResultSettingsMap": {},
     "title": ""
    }
   },
   "outputs": [
    {
     "data": {
      "text/html": [
       "<style scoped>\n",
       "  .table-result-container {\n",
       "    max-height: 300px;\n",
       "    overflow: auto;\n",
       "  }\n",
       "  table, th, td {\n",
       "    border: 1px solid black;\n",
       "    border-collapse: collapse;\n",
       "  }\n",
       "  th, td {\n",
       "    padding: 5px;\n",
       "  }\n",
       "  th {\n",
       "    text-align: left;\n",
       "  }\n",
       "</style><div class='table-result-container'><table class='table-result'><thead style='background-color: white'><tr><th>Field_of_Study</th><th>qtd_estudantes</th></tr></thead><tbody><tr><td>Arts</td><td>2996</td></tr><tr><td>Mathematics</td><td>2980</td></tr><tr><td>Law</td><td>2908</td></tr><tr><td>Business</td><td>2876</td></tr><tr><td>Engineering</td><td>2804</td></tr><tr><td>Medicine</td><td>2756</td></tr><tr><td>Computer Science</td><td>2680</td></tr></tbody></table></div>"
      ]
     },
     "metadata": {
      "application/vnd.databricks.v1+output": {
       "addedWidgets": {},
       "aggData": [],
       "aggError": "",
       "aggOverflow": false,
       "aggSchema": [],
       "aggSeriesLimitReached": false,
       "aggType": "",
       "arguments": {},
       "columnCustomDisplayInfos": {},
       "data": [
        [
         "Arts",
         2996
        ],
        [
         "Mathematics",
         2980
        ],
        [
         "Law",
         2908
        ],
        [
         "Business",
         2876
        ],
        [
         "Engineering",
         2804
        ],
        [
         "Medicine",
         2756
        ],
        [
         "Computer Science",
         2680
        ]
       ],
       "datasetInfos": [
        {
         "name": "_sqldf",
         "schema": {
          "fields": [
           {
            "metadata": {
             "__CHAR_VARCHAR_TYPE_STRING": "varchar(100)"
            },
            "name": "Field_of_Study",
            "nullable": true,
            "type": "string"
           },
           {
            "metadata": {},
            "name": "qtd_estudantes",
            "nullable": false,
            "type": "long"
           }
          ],
          "type": "struct"
         },
         "tableIdentifier": null,
         "typeStr": "pyspark.sql.connect.dataframe.DataFrame"
        }
       ],
       "dbfsResultPath": null,
       "isJsonSchema": true,
       "metadata": {
        "createTempViewForImplicitDf": true,
        "dataframeName": "_sqldf",
        "executionCount": 13
       },
       "overflow": false,
       "plotOptions": {
        "customPlotOptions": {},
        "displayType": "table",
        "pivotAggregation": null,
        "pivotColumns": null,
        "xColumns": null,
        "yColumns": null
       },
       "removedWidgets": [],
       "schema": [
        {
         "metadata": "{\"__CHAR_VARCHAR_TYPE_STRING\": \"varchar(100)\"}",
         "name": "Field_of_Study",
         "type": "\"string\""
        },
        {
         "metadata": "{}",
         "name": "qtd_estudantes",
         "type": "\"long\""
        }
       ],
       "type": "table"
      }
     },
     "output_type": "display_data"
    }
   ],
   "source": [
    "SELECT\n",
    "    Field_of_Study,\n",
    "    COUNT(*) AS qtd_estudantes\n",
    "FROM education_info\n",
    "GROUP BY Field_of_Study\n",
    "ORDER BY qtd_estudantes DESC;\n"
   ]
  },
  {
   "cell_type": "markdown",
   "metadata": {
    "application/vnd.databricks.v1+cell": {
     "cellMetadata": {
      "byteLimit": 2048000,
      "rowLimit": 10000
     },
     "inputWidgets": {},
     "nuid": "ba10a587-ceed-4756-bd8e-3b5687ce6bdf",
     "showTitle": false,
     "tableResultSettingsMap": {},
     "title": ""
    }
   },
   "source": [
    "##Análise de qualidade para a tabela  \"**experience_info**\".\n",
    "\n",
    "- Verificação de valores fora dos limites esperados."
   ]
  },
  {
   "cell_type": "code",
   "execution_count": 0,
   "metadata": {
    "application/vnd.databricks.v1+cell": {
     "cellMetadata": {
      "byteLimit": 2048000,
      "rowLimit": 10000
     },
     "inputWidgets": {},
     "nuid": "e1bcd847-8388-4450-b85d-895530ba4cfa",
     "showTitle": false,
     "tableResultSettingsMap": {},
     "title": ""
    }
   },
   "outputs": [
    {
     "data": {
      "text/html": [
       "<style scoped>\n",
       "  .table-result-container {\n",
       "    max-height: 300px;\n",
       "    overflow: auto;\n",
       "  }\n",
       "  table, th, td {\n",
       "    border: 1px solid black;\n",
       "    border-collapse: collapse;\n",
       "  }\n",
       "  th, td {\n",
       "    padding: 5px;\n",
       "  }\n",
       "  th {\n",
       "    text-align: left;\n",
       "  }\n",
       "</style><div class='table-result-container'><table class='table-result'><thead style='background-color: white'><tr><th>min_internships</th><th>max_internships</th><th>min_soft_skills</th><th>max_soft_skills</th><th>min_networking</th><th>max_networking</th></tr></thead><tbody><tr><td>0</td><td>4</td><td>1</td><td>10</td><td>1</td><td>10</td></tr></tbody></table></div>"
      ]
     },
     "metadata": {
      "application/vnd.databricks.v1+output": {
       "addedWidgets": {},
       "aggData": [],
       "aggError": "",
       "aggOverflow": false,
       "aggSchema": [],
       "aggSeriesLimitReached": false,
       "aggType": "",
       "arguments": {},
       "columnCustomDisplayInfos": {},
       "data": [
        [
         0,
         4,
         1,
         10,
         1,
         10
        ]
       ],
       "datasetInfos": [
        {
         "name": "_sqldf",
         "schema": {
          "fields": [
           {
            "metadata": {},
            "name": "min_internships",
            "nullable": true,
            "type": "integer"
           },
           {
            "metadata": {},
            "name": "max_internships",
            "nullable": true,
            "type": "integer"
           },
           {
            "metadata": {},
            "name": "min_soft_skills",
            "nullable": true,
            "type": "integer"
           },
           {
            "metadata": {},
            "name": "max_soft_skills",
            "nullable": true,
            "type": "integer"
           },
           {
            "metadata": {},
            "name": "min_networking",
            "nullable": true,
            "type": "integer"
           },
           {
            "metadata": {},
            "name": "max_networking",
            "nullable": true,
            "type": "integer"
           }
          ],
          "type": "struct"
         },
         "tableIdentifier": null,
         "typeStr": "pyspark.sql.connect.dataframe.DataFrame"
        }
       ],
       "dbfsResultPath": null,
       "isJsonSchema": true,
       "metadata": {
        "createTempViewForImplicitDf": true,
        "dataframeName": "_sqldf",
        "executionCount": 14
       },
       "overflow": false,
       "plotOptions": {
        "customPlotOptions": {},
        "displayType": "table",
        "pivotAggregation": null,
        "pivotColumns": null,
        "xColumns": null,
        "yColumns": null
       },
       "removedWidgets": [],
       "schema": [
        {
         "metadata": "{}",
         "name": "min_internships",
         "type": "\"integer\""
        },
        {
         "metadata": "{}",
         "name": "max_internships",
         "type": "\"integer\""
        },
        {
         "metadata": "{}",
         "name": "min_soft_skills",
         "type": "\"integer\""
        },
        {
         "metadata": "{}",
         "name": "max_soft_skills",
         "type": "\"integer\""
        },
        {
         "metadata": "{}",
         "name": "min_networking",
         "type": "\"integer\""
        },
        {
         "metadata": "{}",
         "name": "max_networking",
         "type": "\"integer\""
        }
       ],
       "type": "table"
      }
     },
     "output_type": "display_data"
    }
   ],
   "source": [
    "SELECT\n",
    "    MIN(Internships_Completed) AS min_internships,\n",
    "    MAX(Internships_Completed) AS max_internships,\n",
    "    MIN(Soft_Skills_Score) AS min_soft_skills,\n",
    "    MAX(Soft_Skills_Score) AS max_soft_skills,\n",
    "    MIN(Networking_Score) AS min_networking,\n",
    "    MAX(Networking_Score) AS max_networking\n",
    "FROM experience_info;\n"
   ]
  },
  {
   "cell_type": "markdown",
   "metadata": {
    "application/vnd.databricks.v1+cell": {
     "cellMetadata": {
      "byteLimit": 2048000,
      "rowLimit": 10000
     },
     "inputWidgets": {},
     "nuid": "767af9fc-2a48-42c0-a8f9-e2dcd8a239a6",
     "showTitle": false,
     "tableResultSettingsMap": {},
     "title": ""
    }
   },
   "source": [
    "- Verificação de valores ausentes."
   ]
  },
  {
   "cell_type": "code",
   "execution_count": 0,
   "metadata": {
    "application/vnd.databricks.v1+cell": {
     "cellMetadata": {
      "byteLimit": 2048000,
      "rowLimit": 10000
     },
     "inputWidgets": {},
     "nuid": "ceedb3da-fd7d-44be-b294-915c423548ea",
     "showTitle": false,
     "tableResultSettingsMap": {},
     "title": ""
    }
   },
   "outputs": [
    {
     "data": {
      "text/html": [
       "<style scoped>\n",
       "  .table-result-container {\n",
       "    max-height: 300px;\n",
       "    overflow: auto;\n",
       "  }\n",
       "  table, th, td {\n",
       "    border: 1px solid black;\n",
       "    border-collapse: collapse;\n",
       "  }\n",
       "  th, td {\n",
       "    padding: 5px;\n",
       "  }\n",
       "  th {\n",
       "    text-align: left;\n",
       "  }\n",
       "</style><div class='table-result-container'><table class='table-result'><thead style='background-color: white'><tr><th>missing_internships</th><th>missing_projects</th><th>missing_certifications</th></tr></thead><tbody><tr><td>0</td><td>0</td><td>0</td></tr></tbody></table></div>"
      ]
     },
     "metadata": {
      "application/vnd.databricks.v1+output": {
       "addedWidgets": {},
       "aggData": [],
       "aggError": "",
       "aggOverflow": false,
       "aggSchema": [],
       "aggSeriesLimitReached": false,
       "aggType": "",
       "arguments": {},
       "columnCustomDisplayInfos": {},
       "data": [
        [
         0,
         0,
         0
        ]
       ],
       "datasetInfos": [
        {
         "name": "_sqldf",
         "schema": {
          "fields": [
           {
            "metadata": {},
            "name": "missing_internships",
            "nullable": false,
            "type": "long"
           },
           {
            "metadata": {},
            "name": "missing_projects",
            "nullable": false,
            "type": "long"
           },
           {
            "metadata": {},
            "name": "missing_certifications",
            "nullable": false,
            "type": "long"
           }
          ],
          "type": "struct"
         },
         "tableIdentifier": null,
         "typeStr": "pyspark.sql.connect.dataframe.DataFrame"
        }
       ],
       "dbfsResultPath": null,
       "isJsonSchema": true,
       "metadata": {
        "createTempViewForImplicitDf": true,
        "dataframeName": "_sqldf",
        "executionCount": 15
       },
       "overflow": false,
       "plotOptions": {
        "customPlotOptions": {},
        "displayType": "table",
        "pivotAggregation": null,
        "pivotColumns": null,
        "xColumns": null,
        "yColumns": null
       },
       "removedWidgets": [],
       "schema": [
        {
         "metadata": "{}",
         "name": "missing_internships",
         "type": "\"long\""
        },
        {
         "metadata": "{}",
         "name": "missing_projects",
         "type": "\"long\""
        },
        {
         "metadata": "{}",
         "name": "missing_certifications",
         "type": "\"long\""
        }
       ],
       "type": "table"
      }
     },
     "output_type": "display_data"
    }
   ],
   "source": [
    "SELECT\n",
    "    COUNT(*) - COUNT(Internships_Completed) AS missing_internships,\n",
    "    COUNT(*) - COUNT(Projects_Completed) AS missing_projects,\n",
    "    COUNT(*) - COUNT(Certifications) AS missing_certifications\n",
    "FROM experience_info;\n"
   ]
  },
  {
   "cell_type": "markdown",
   "metadata": {
    "application/vnd.databricks.v1+cell": {
     "cellMetadata": {
      "byteLimit": 2048000,
      "rowLimit": 10000
     },
     "inputWidgets": {},
     "nuid": "b7c557d0-ccf4-4450-8eec-9d511c6cb6fc",
     "showTitle": false,
     "tableResultSettingsMap": {},
     "title": ""
    }
   },
   "source": [
    "##Análise de qualidade para a tabela  \"**career_info**\".\n",
    "\n",
    "- Verificação dos intervalos de salário e promoções."
   ]
  },
  {
   "cell_type": "code",
   "execution_count": 0,
   "metadata": {
    "application/vnd.databricks.v1+cell": {
     "cellMetadata": {
      "byteLimit": 2048000,
      "rowLimit": 10000
     },
     "inputWidgets": {},
     "nuid": "658c9c02-bdb1-48a0-9fd0-1a3885ee4d48",
     "showTitle": false,
     "tableResultSettingsMap": {},
     "title": ""
    }
   },
   "outputs": [
    {
     "data": {
      "text/html": [
       "<style scoped>\n",
       "  .table-result-container {\n",
       "    max-height: 300px;\n",
       "    overflow: auto;\n",
       "  }\n",
       "  table, th, td {\n",
       "    border: 1px solid black;\n",
       "    border-collapse: collapse;\n",
       "  }\n",
       "  th, td {\n",
       "    padding: 5px;\n",
       "  }\n",
       "  th {\n",
       "    text-align: left;\n",
       "  }\n",
       "</style><div class='table-result-container'><table class='table-result'><thead style='background-color: white'><tr><th>min_salary</th><th>max_salary</th><th>min_years_promotion</th><th>max_years_promotion</th></tr></thead><tbody><tr><td>25000.0</td><td>101000.0</td><td>1</td><td>5</td></tr></tbody></table></div>"
      ]
     },
     "metadata": {
      "application/vnd.databricks.v1+output": {
       "addedWidgets": {},
       "aggData": [],
       "aggError": "",
       "aggOverflow": false,
       "aggSchema": [],
       "aggSeriesLimitReached": false,
       "aggType": "",
       "arguments": {},
       "columnCustomDisplayInfos": {},
       "data": [
        [
         25000,
         101000,
         1,
         5
        ]
       ],
       "datasetInfos": [
        {
         "name": "_sqldf",
         "schema": {
          "fields": [
           {
            "metadata": {},
            "name": "min_salary",
            "nullable": true,
            "type": "float"
           },
           {
            "metadata": {},
            "name": "max_salary",
            "nullable": true,
            "type": "float"
           },
           {
            "metadata": {},
            "name": "min_years_promotion",
            "nullable": true,
            "type": "integer"
           },
           {
            "metadata": {},
            "name": "max_years_promotion",
            "nullable": true,
            "type": "integer"
           }
          ],
          "type": "struct"
         },
         "tableIdentifier": null,
         "typeStr": "pyspark.sql.connect.dataframe.DataFrame"
        }
       ],
       "dbfsResultPath": null,
       "isJsonSchema": true,
       "metadata": {
        "createTempViewForImplicitDf": true,
        "dataframeName": "_sqldf",
        "executionCount": 16
       },
       "overflow": false,
       "plotOptions": {
        "customPlotOptions": {},
        "displayType": "table",
        "pivotAggregation": null,
        "pivotColumns": null,
        "xColumns": null,
        "yColumns": null
       },
       "removedWidgets": [],
       "schema": [
        {
         "metadata": "{}",
         "name": "min_salary",
         "type": "\"float\""
        },
        {
         "metadata": "{}",
         "name": "max_salary",
         "type": "\"float\""
        },
        {
         "metadata": "{}",
         "name": "min_years_promotion",
         "type": "\"integer\""
        },
        {
         "metadata": "{}",
         "name": "max_years_promotion",
         "type": "\"integer\""
        }
       ],
       "type": "table"
      }
     },
     "output_type": "display_data"
    }
   ],
   "source": [
    "SELECT\n",
    "    MIN(Starting_Salary) AS min_salary,\n",
    "    MAX(Starting_Salary) AS max_salary,\n",
    "    MIN(Years_to_Promotion) AS min_years_promotion,\n",
    "    MAX(Years_to_Promotion) AS max_years_promotion\n",
    "FROM career_info;"
   ]
  },
  {
   "cell_type": "markdown",
   "metadata": {
    "application/vnd.databricks.v1+cell": {
     "cellMetadata": {
      "byteLimit": 2048000,
      "rowLimit": 10000
     },
     "inputWidgets": {},
     "nuid": "8e445247-e474-433f-8357-497dd7efdb84",
     "showTitle": false,
     "tableResultSettingsMap": {},
     "title": ""
    }
   },
   "source": [
    "- Verificação de valores inconsistentes na coluna \"Job_Offers\"."
   ]
  },
  {
   "cell_type": "code",
   "execution_count": 0,
   "metadata": {
    "application/vnd.databricks.v1+cell": {
     "cellMetadata": {
      "byteLimit": 2048000,
      "rowLimit": 10000
     },
     "inputWidgets": {},
     "nuid": "acc8d358-01a8-48fc-ac9c-0d5a5fd33813",
     "showTitle": false,
     "tableResultSettingsMap": {},
     "title": ""
    }
   },
   "outputs": [
    {
     "data": {
      "text/html": [
       "<style scoped>\n",
       "  .table-result-container {\n",
       "    max-height: 300px;\n",
       "    overflow: auto;\n",
       "  }\n",
       "  table, th, td {\n",
       "    border: 1px solid black;\n",
       "    border-collapse: collapse;\n",
       "  }\n",
       "  th, td {\n",
       "    padding: 5px;\n",
       "  }\n",
       "  th {\n",
       "    text-align: left;\n",
       "  }\n",
       "</style><div class='table-result-container'><table class='table-result'><thead style='background-color: white'><tr><th>Job_Offers</th><th>qtd_estudantes</th></tr></thead><tbody><tr><td>0</td><td>3392</td></tr><tr><td>1</td><td>3292</td></tr><tr><td>2</td><td>3424</td></tr><tr><td>3</td><td>3304</td></tr><tr><td>4</td><td>3216</td></tr><tr><td>5</td><td>3372</td></tr></tbody></table></div>"
      ]
     },
     "metadata": {
      "application/vnd.databricks.v1+output": {
       "addedWidgets": {},
       "aggData": [],
       "aggError": "",
       "aggOverflow": false,
       "aggSchema": [],
       "aggSeriesLimitReached": false,
       "aggType": "",
       "arguments": {},
       "columnCustomDisplayInfos": {},
       "data": [
        [
         0,
         3392
        ],
        [
         1,
         3292
        ],
        [
         2,
         3424
        ],
        [
         3,
         3304
        ],
        [
         4,
         3216
        ],
        [
         5,
         3372
        ]
       ],
       "datasetInfos": [
        {
         "name": "_sqldf",
         "schema": {
          "fields": [
           {
            "metadata": {},
            "name": "Job_Offers",
            "nullable": true,
            "type": "integer"
           },
           {
            "metadata": {},
            "name": "qtd_estudantes",
            "nullable": false,
            "type": "long"
           }
          ],
          "type": "struct"
         },
         "tableIdentifier": null,
         "typeStr": "pyspark.sql.connect.dataframe.DataFrame"
        }
       ],
       "dbfsResultPath": null,
       "isJsonSchema": true,
       "metadata": {
        "createTempViewForImplicitDf": true,
        "dataframeName": "_sqldf",
        "executionCount": 17
       },
       "overflow": false,
       "plotOptions": {
        "customPlotOptions": {},
        "displayType": "table",
        "pivotAggregation": null,
        "pivotColumns": null,
        "xColumns": null,
        "yColumns": null
       },
       "removedWidgets": [],
       "schema": [
        {
         "metadata": "{}",
         "name": "Job_Offers",
         "type": "\"integer\""
        },
        {
         "metadata": "{}",
         "name": "qtd_estudantes",
         "type": "\"long\""
        }
       ],
       "type": "table"
      }
     },
     "output_type": "display_data"
    }
   ],
   "source": [
    "SELECT\n",
    "    Job_Offers,\n",
    "    COUNT(*) AS qtd_estudantes\n",
    "FROM career_info\n",
    "GROUP BY Job_Offers\n",
    "ORDER BY Job_Offers;\n"
   ]
  },
  {
   "cell_type": "markdown",
   "metadata": {
    "application/vnd.databricks.v1+cell": {
     "cellMetadata": {
      "byteLimit": 2048000,
      "rowLimit": 10000
     },
     "inputWidgets": {},
     "nuid": "f35c5d7e-a50e-4625-9ae0-6dc415d59bed",
     "showTitle": false,
     "tableResultSettingsMap": {},
     "title": ""
    }
   },
   "source": [
    "#CAMADA OURO (DADOS PRONTOS PARA ANÁLISE)"
   ]
  },
  {
   "cell_type": "markdown",
   "metadata": {
    "application/vnd.databricks.v1+cell": {
     "cellMetadata": {
      "byteLimit": 2048000,
      "rowLimit": 10000
     },
     "inputWidgets": {},
     "nuid": "447f8f1c-df21-4c7a-83b7-2ce29a51b268",
     "showTitle": false,
     "tableResultSettingsMap": {},
     "title": ""
    }
   },
   "source": [
    "#Solução dos problemas definidos nos objetivos."
   ]
  },
  {
   "cell_type": "markdown",
   "metadata": {
    "application/vnd.databricks.v1+cell": {
     "cellMetadata": {
      "byteLimit": 2048000,
      "rowLimit": 10000
     },
     "inputWidgets": {},
     "nuid": "072450df-3837-4516-b3be-17ed38f0fefa",
     "showTitle": false,
     "tableResultSettingsMap": {},
     "title": ""
    }
   },
   "source": [
    "### 1. Estudantes de universidades mais bem classificadas ganham salários iniciais mais altos? "
   ]
  },
  {
   "cell_type": "code",
   "execution_count": 0,
   "metadata": {
    "application/vnd.databricks.v1+cell": {
     "cellMetadata": {
      "byteLimit": 2048000,
      "rowLimit": 10000
     },
     "inputWidgets": {},
     "nuid": "ff393fb7-7f2b-4b0b-8a7b-2470f1e8b11d",
     "showTitle": false,
     "tableResultSettingsMap": {},
     "title": ""
    }
   },
   "outputs": [
    {
     "data": {
      "text/html": [
       "<style scoped>\n",
       "  .table-result-container {\n",
       "    max-height: 300px;\n",
       "    overflow: auto;\n",
       "  }\n",
       "  table, th, td {\n",
       "    border: 1px solid black;\n",
       "    border-collapse: collapse;\n",
       "  }\n",
       "  th, td {\n",
       "    padding: 5px;\n",
       "  }\n",
       "  th {\n",
       "    text-align: left;\n",
       "  }\n",
       "</style><div class='table-result-container'><table class='table-result'><thead style='background-color: white'><tr><th>University_Ranking</th><th>Avg_Starting_Salary</th></tr></thead><tbody><tr><td>1</td><td>52533.333333333336</td></tr><tr><td>2</td><td>50975.0</td></tr><tr><td>3</td><td>52580.0</td></tr><tr><td>4</td><td>49250.0</td></tr><tr><td>5</td><td>45640.0</td></tr><tr><td>6</td><td>39800.0</td></tr><tr><td>7</td><td>54533.333333333336</td></tr><tr><td>8</td><td>57650.0</td></tr><tr><td>9</td><td>47175.0</td></tr><tr><td>10</td><td>44950.0</td></tr></tbody></table></div>"
      ]
     },
     "metadata": {
      "application/vnd.databricks.v1+output": {
       "addedWidgets": {},
       "aggData": [],
       "aggError": "",
       "aggOverflow": false,
       "aggSchema": [],
       "aggSeriesLimitReached": false,
       "aggType": "",
       "arguments": {},
       "columnCustomDisplayInfos": {},
       "data": [
        [
         1,
         52533.333333333336
        ],
        [
         2,
         50975
        ],
        [
         3,
         52580
        ],
        [
         4,
         49250
        ],
        [
         5,
         45640
        ],
        [
         6,
         39800
        ],
        [
         7,
         54533.333333333336
        ],
        [
         8,
         57650
        ],
        [
         9,
         47175
        ],
        [
         10,
         44950
        ]
       ],
       "datasetInfos": [
        {
         "name": "_sqldf",
         "schema": {
          "fields": [
           {
            "metadata": {},
            "name": "University_Ranking",
            "nullable": true,
            "type": "integer"
           },
           {
            "metadata": {},
            "name": "Avg_Starting_Salary",
            "nullable": true,
            "type": "double"
           }
          ],
          "type": "struct"
         },
         "tableIdentifier": null,
         "typeStr": "pyspark.sql.connect.dataframe.DataFrame"
        }
       ],
       "dbfsResultPath": null,
       "isJsonSchema": true,
       "metadata": {
        "createTempViewForImplicitDf": true,
        "dataframeName": "_sqldf",
        "executionCount": 45
       },
       "overflow": false,
       "plotOptions": {
        "customPlotOptions": {},
        "displayType": "table",
        "pivotAggregation": null,
        "pivotColumns": null,
        "xColumns": null,
        "yColumns": null
       },
       "removedWidgets": [],
       "schema": [
        {
         "metadata": "{}",
         "name": "University_Ranking",
         "type": "\"integer\""
        },
        {
         "metadata": "{}",
         "name": "Avg_Starting_Salary",
         "type": "\"double\""
        }
       ],
       "type": "table"
      }
     },
     "output_type": "display_data"
    }
   ],
   "source": [
    "SELECT \n",
    "    e.University_Ranking,\n",
    "    AVG(c.Starting_Salary) AS Avg_Starting_Salary\n",
    "FROM \n",
    "    education_info e\n",
    "JOIN \n",
    "    career_info c ON e.Student_ID = c.Student_ID\n",
    "WHERE \n",
    "    c.Starting_Salary IS NOT NULL\n",
    "GROUP BY \n",
    "    e.University_Ranking\n",
    "ORDER BY \n",
    "    e.University_Ranking ASC\n",
    "LIMIT 10;"
   ]
  },
  {
   "cell_type": "markdown",
   "metadata": {
    "application/vnd.databricks.v1+cell": {
     "cellMetadata": {
      "byteLimit": 2048000,
      "rowLimit": 10000
     },
     "inputWidgets": {},
     "nuid": "e3d94e0c-8cd0-4289-bce5-806e4e40e5a1",
     "showTitle": false,
     "tableResultSettingsMap": {},
     "title": ""
    }
   },
   "source": [
    "### Resolução do problema 1:\n",
    "\n",
    "Conforme as médias de salários iniciais e o ranking das universidades encontrados nas tabelas, é possível perceber que nem sempre os estudantes de universidades mais bem classificadas ganham salários iniciais mais altos, já que os estudantes com a maior média de salário inicial frequentaram as universidades que se encontram na décima primeira e décima quarta posição no ranking de universidades."
   ]
  },
  {
   "cell_type": "markdown",
   "metadata": {
    "application/vnd.databricks.v1+cell": {
     "cellMetadata": {
      "byteLimit": 2048000,
      "rowLimit": 10000
     },
     "inputWidgets": {},
     "nuid": "414ac49c-f34c-4d59-ac48-b2525d477d3d",
     "showTitle": false,
     "tableResultSettingsMap": {},
     "title": ""
    }
   },
   "source": [
    "###2. Quais fatores mais contribuem para um crescimento rápido na carreira (Years_to_Promotion)?"
   ]
  },
  {
   "cell_type": "code",
   "execution_count": 0,
   "metadata": {
    "application/vnd.databricks.v1+cell": {
     "cellMetadata": {
      "byteLimit": 2048000,
      "rowLimit": 10000
     },
     "inputWidgets": {},
     "nuid": "0aae0e74-fcfa-4591-ba37-1c719df6fbbd",
     "showTitle": false,
     "tableResultSettingsMap": {},
     "title": ""
    }
   },
   "outputs": [
    {
     "data": {
      "text/html": [
       "<style scoped>\n",
       "  .table-result-container {\n",
       "    max-height: 300px;\n",
       "    overflow: auto;\n",
       "  }\n",
       "  table, th, td {\n",
       "    border: 1px solid black;\n",
       "    border-collapse: collapse;\n",
       "  }\n",
       "  th, td {\n",
       "    padding: 5px;\n",
       "  }\n",
       "  th {\n",
       "    text-align: left;\n",
       "  }\n",
       "</style><div class='table-result-container'><table class='table-result'><thead style='background-color: white'><tr><th>Years_to_Promotion</th><th>Avg_Uni_GPA</th><th>Avg_Internships</th><th>Avg_Certifications</th><th>Avg_SoftSkills</th><th>Avg_Networking</th></tr></thead><tbody><tr><td>1</td><td>3.0226109367406035</td><td>1.9638802889576883</td><td>2.519091847265222</td><td>5.602683178534572</td><td>5.556243550051599</td></tr><tr><td>2</td><td>2.999541552952618</td><td>2.0191021967526264</td><td>2.498567335243553</td><td>5.471824259789876</td><td>5.587392550143266</td></tr><tr><td>3</td><td>3.0033825076920215</td><td>1.9852476290832455</td><td>2.5194942044257114</td><td>5.60695468914647</td><td>5.578503688092729</td></tr><tr><td>4</td><td>3.060715707111548</td><td>1.9542743538767395</td><td>2.4642147117296225</td><td>5.485089463220676</td><td>5.462226640159046</td></tr><tr><td>5</td><td>3.01401360574802</td><td>1.9863945578231292</td><td>2.5597667638483963</td><td>5.571428571428571</td><td>5.50728862973761</td></tr></tbody></table></div>"
      ]
     },
     "metadata": {
      "application/vnd.databricks.v1+output": {
       "addedWidgets": {},
       "aggData": [],
       "aggError": "",
       "aggOverflow": false,
       "aggSchema": [],
       "aggSeriesLimitReached": false,
       "aggType": "",
       "arguments": {},
       "columnCustomDisplayInfos": {},
       "data": [
        [
         1,
         3.0226109367406035,
         1.9638802889576883,
         2.519091847265222,
         5.602683178534572,
         5.556243550051599
        ],
        [
         2,
         2.999541552952618,
         2.0191021967526264,
         2.498567335243553,
         5.471824259789876,
         5.587392550143266
        ],
        [
         3,
         3.0033825076920215,
         1.9852476290832455,
         2.5194942044257114,
         5.60695468914647,
         5.578503688092729
        ],
        [
         4,
         3.060715707111548,
         1.9542743538767395,
         2.4642147117296225,
         5.485089463220676,
         5.462226640159046
        ],
        [
         5,
         3.01401360574802,
         1.9863945578231292,
         2.5597667638483963,
         5.571428571428571,
         5.50728862973761
        ]
       ],
       "datasetInfos": [
        {
         "name": "_sqldf",
         "schema": {
          "fields": [
           {
            "metadata": {},
            "name": "Years_to_Promotion",
            "nullable": true,
            "type": "integer"
           },
           {
            "metadata": {},
            "name": "Avg_Uni_GPA",
            "nullable": true,
            "type": "double"
           },
           {
            "metadata": {},
            "name": "Avg_Internships",
            "nullable": true,
            "type": "double"
           },
           {
            "metadata": {},
            "name": "Avg_Certifications",
            "nullable": true,
            "type": "double"
           },
           {
            "metadata": {},
            "name": "Avg_SoftSkills",
            "nullable": true,
            "type": "double"
           },
           {
            "metadata": {},
            "name": "Avg_Networking",
            "nullable": true,
            "type": "double"
           }
          ],
          "type": "struct"
         },
         "tableIdentifier": null,
         "typeStr": "pyspark.sql.connect.dataframe.DataFrame"
        }
       ],
       "dbfsResultPath": null,
       "isJsonSchema": true,
       "metadata": {
        "createTempViewForImplicitDf": true,
        "dataframeName": "_sqldf",
        "executionCount": 19
       },
       "overflow": false,
       "plotOptions": {
        "customPlotOptions": {},
        "displayType": "table",
        "pivotAggregation": null,
        "pivotColumns": null,
        "xColumns": null,
        "yColumns": null
       },
       "removedWidgets": [],
       "schema": [
        {
         "metadata": "{}",
         "name": "Years_to_Promotion",
         "type": "\"integer\""
        },
        {
         "metadata": "{}",
         "name": "Avg_Uni_GPA",
         "type": "\"double\""
        },
        {
         "metadata": "{}",
         "name": "Avg_Internships",
         "type": "\"double\""
        },
        {
         "metadata": "{}",
         "name": "Avg_Certifications",
         "type": "\"double\""
        },
        {
         "metadata": "{}",
         "name": "Avg_SoftSkills",
         "type": "\"double\""
        },
        {
         "metadata": "{}",
         "name": "Avg_Networking",
         "type": "\"double\""
        }
       ],
       "type": "table"
      }
     },
     "output_type": "display_data"
    }
   ],
   "source": [
    "SELECT \n",
    "    c.Years_to_Promotion,\n",
    "    AVG(e.University_GPA) AS Avg_Uni_GPA,\n",
    "    AVG(x.Internships_Completed) AS Avg_Internships,\n",
    "    AVG(x.Certifications) AS Avg_Certifications,\n",
    "    AVG(x.Soft_Skills_Score) AS Avg_SoftSkills,\n",
    "    AVG(x.Networking_Score) AS Avg_Networking\n",
    "FROM \n",
    "    career_info c\n",
    "JOIN \n",
    "    education_info e ON c.Student_ID = e.Student_ID\n",
    "JOIN \n",
    "    experience_info x ON c.Student_ID = x.Student_ID\n",
    "GROUP BY \n",
    "    c.Years_to_Promotion\n",
    "ORDER BY \n",
    "    c.Years_to_Promotion;\n"
   ]
  },
  {
   "cell_type": "markdown",
   "metadata": {
    "application/vnd.databricks.v1+cell": {
     "cellMetadata": {
      "byteLimit": 2048000,
      "rowLimit": 10000
     },
     "inputWidgets": {},
     "nuid": "132346bf-9a84-40cf-8bae-3307e433569f",
     "showTitle": false,
     "tableResultSettingsMap": {},
     "title": ""
    }
   },
   "source": [
    "\n",
    "### Resolução do problema 2:\n",
    "\n",
    "Conforme o agrupamento realizado e as médias calculadas para entender quantos anos cada estudante levou até receber a primeira promoção, e quais fatores foram determinantes para um crescimento rápido, chegamos aos resultados mostrados na tabela acima. Após a análise dos resultados, é possível perceber que os dois fatores determinantes para uma promoção rápida são as soft skills e o networking."
   ]
  },
  {
   "cell_type": "markdown",
   "metadata": {
    "application/vnd.databricks.v1+cell": {
     "cellMetadata": {
      "byteLimit": 2048000,
      "rowLimit": 10000
     },
     "inputWidgets": {},
     "nuid": "d7c57b85-609f-4102-be0b-8bbbcacf8700",
     "showTitle": false,
     "tableResultSettingsMap": {},
     "title": ""
    }
   },
   "source": [
    "###3. Estudantes de certas áreas têm mais oportunidades de emprego do que outras?"
   ]
  },
  {
   "cell_type": "code",
   "execution_count": 0,
   "metadata": {
    "application/vnd.databricks.v1+cell": {
     "cellMetadata": {
      "byteLimit": 2048000,
      "rowLimit": 10000
     },
     "inputWidgets": {},
     "nuid": "afa39dfd-6ca9-483d-891d-96e1d7097526",
     "showTitle": false,
     "tableResultSettingsMap": {},
     "title": ""
    }
   },
   "outputs": [
    {
     "data": {
      "text/html": [
       "<style scoped>\n",
       "  .table-result-container {\n",
       "    max-height: 300px;\n",
       "    overflow: auto;\n",
       "  }\n",
       "  table, th, td {\n",
       "    border: 1px solid black;\n",
       "    border-collapse: collapse;\n",
       "  }\n",
       "  th, td {\n",
       "    padding: 5px;\n",
       "  }\n",
       "  th {\n",
       "    text-align: left;\n",
       "  }\n",
       "</style><div class='table-result-container'><table class='table-result'><thead style='background-color: white'><tr><th>Field_of_Study</th><th>Avg_Job_Offers</th></tr></thead><tbody><tr><td>Mathematics</td><td>2.5140939597315435</td></tr><tr><td>Medicine</td><td>2.5079825834542815</td></tr><tr><td>Arts</td><td>2.5033377837116153</td></tr><tr><td>Engineering</td><td>2.5021398002853066</td></tr><tr><td>Computer Science</td><td>2.4776119402985075</td></tr><tr><td>Law</td><td>2.4621733149931226</td></tr><tr><td>Business</td><td>2.4534075104311546</td></tr></tbody></table></div>"
      ]
     },
     "metadata": {
      "application/vnd.databricks.v1+output": {
       "addedWidgets": {},
       "aggData": [],
       "aggError": "",
       "aggOverflow": false,
       "aggSchema": [],
       "aggSeriesLimitReached": false,
       "aggType": "",
       "arguments": {},
       "columnCustomDisplayInfos": {},
       "data": [
        [
         "Mathematics",
         2.5140939597315435
        ],
        [
         "Medicine",
         2.5079825834542815
        ],
        [
         "Arts",
         2.5033377837116153
        ],
        [
         "Engineering",
         2.5021398002853066
        ],
        [
         "Computer Science",
         2.4776119402985075
        ],
        [
         "Law",
         2.4621733149931226
        ],
        [
         "Business",
         2.4534075104311546
        ]
       ],
       "datasetInfos": [
        {
         "name": "_sqldf",
         "schema": {
          "fields": [
           {
            "metadata": {
             "__CHAR_VARCHAR_TYPE_STRING": "varchar(100)"
            },
            "name": "Field_of_Study",
            "nullable": true,
            "type": "string"
           },
           {
            "metadata": {},
            "name": "Avg_Job_Offers",
            "nullable": true,
            "type": "double"
           }
          ],
          "type": "struct"
         },
         "tableIdentifier": null,
         "typeStr": "pyspark.sql.connect.dataframe.DataFrame"
        }
       ],
       "dbfsResultPath": null,
       "isJsonSchema": true,
       "metadata": {
        "createTempViewForImplicitDf": true,
        "dataframeName": "_sqldf",
        "executionCount": 20
       },
       "overflow": false,
       "plotOptions": {
        "customPlotOptions": {},
        "displayType": "table",
        "pivotAggregation": null,
        "pivotColumns": null,
        "xColumns": null,
        "yColumns": null
       },
       "removedWidgets": [],
       "schema": [
        {
         "metadata": "{\"__CHAR_VARCHAR_TYPE_STRING\": \"varchar(100)\"}",
         "name": "Field_of_Study",
         "type": "\"string\""
        },
        {
         "metadata": "{}",
         "name": "Avg_Job_Offers",
         "type": "\"double\""
        }
       ],
       "type": "table"
      }
     },
     "output_type": "display_data"
    }
   ],
   "source": [
    "SELECT \n",
    "    e.Field_of_Study,\n",
    "    AVG(c.Job_Offers) AS Avg_Job_Offers\n",
    "FROM \n",
    "    education_info e\n",
    "JOIN \n",
    "    career_info c ON e.Student_ID = c.Student_ID\n",
    "GROUP BY \n",
    "    e.Field_of_Study\n",
    "ORDER BY \n",
    "    Avg_Job_Offers DESC;\n"
   ]
  },
  {
   "cell_type": "markdown",
   "metadata": {
    "application/vnd.databricks.v1+cell": {
     "cellMetadata": {
      "byteLimit": 2048000,
      "rowLimit": 10000
     },
     "inputWidgets": {},
     "nuid": "8b2c28e9-7f9b-497d-a3b4-cdc23ceb4cbd",
     "showTitle": false,
     "tableResultSettingsMap": {},
     "title": ""
    }
   },
   "source": [
    "### Resolução do problema 3:\n",
    "\n",
    "Em consonância com os agrupamentos e as médias feitas na consulta, foi possível obter os resultados mostrados na tabela acima, com as áreas de estudo e a média de ofertas de emprego recebidas pelos estudantes de suas respectivas formações. É interessante observar que as quatro primeiras áreas apresentam uma média de ofertas de emprego bastante próxima. O destaque negativo vai para a área de Business (Administração/Negócios), que apresenta a menor média."
   ]
  },
  {
   "cell_type": "markdown",
   "metadata": {
    "application/vnd.databricks.v1+cell": {
     "cellMetadata": {
      "byteLimit": 2048000,
      "rowLimit": 10000
     },
     "inputWidgets": {},
     "nuid": "4d7b50bc-a182-4e72-a57e-949b77378e60",
     "showTitle": false,
     "tableResultSettingsMap": {},
     "title": ""
    }
   },
   "source": [
    "### 4. O número de estágios concluídos tem impacto no salário inicial?\n",
    "\n",
    "\n"
   ]
  },
  {
   "cell_type": "code",
   "execution_count": 0,
   "metadata": {
    "application/vnd.databricks.v1+cell": {
     "cellMetadata": {
      "byteLimit": 2048000,
      "rowLimit": 10000
     },
     "inputWidgets": {},
     "nuid": "a301b26f-8ab2-48a8-9ce4-932998e8aa5d",
     "showTitle": false,
     "tableResultSettingsMap": {},
     "title": ""
    }
   },
   "outputs": [
    {
     "data": {
      "text/html": [
       "<style scoped>\n",
       "  .table-result-container {\n",
       "    max-height: 300px;\n",
       "    overflow: auto;\n",
       "  }\n",
       "  table, th, td {\n",
       "    border: 1px solid black;\n",
       "    border-collapse: collapse;\n",
       "  }\n",
       "  th, td {\n",
       "    padding: 5px;\n",
       "  }\n",
       "  th {\n",
       "    text-align: left;\n",
       "  }\n",
       "</style><div class='table-result-container'><table class='table-result'><thead style='background-color: white'><tr><th>Internships_Completed</th><th>Num_Students</th><th>Avg_Starting_Salary</th></tr></thead><tbody><tr><td>0</td><td>16000</td><td>50417.9</td></tr><tr><td>1</td><td>16608</td><td>50442.87090558767</td></tr><tr><td>2</td><td>15632</td><td>50229.47799385875</td></tr><tr><td>3</td><td>16336</td><td>50334.57394711068</td></tr><tr><td>4</td><td>15424</td><td>51425.622406639006</td></tr></tbody></table></div>"
      ]
     },
     "metadata": {
      "application/vnd.databricks.v1+output": {
       "addedWidgets": {},
       "aggData": [],
       "aggError": "",
       "aggOverflow": false,
       "aggSchema": [],
       "aggSeriesLimitReached": false,
       "aggType": "",
       "arguments": {},
       "columnCustomDisplayInfos": {},
       "data": [
        [
         0,
         16000,
         50417.9
        ],
        [
         1,
         16608,
         50442.87090558767
        ],
        [
         2,
         15632,
         50229.47799385875
        ],
        [
         3,
         16336,
         50334.57394711068
        ],
        [
         4,
         15424,
         51425.622406639006
        ]
       ],
       "datasetInfos": [
        {
         "name": "_sqldf",
         "schema": {
          "fields": [
           {
            "metadata": {},
            "name": "Internships_Completed",
            "nullable": true,
            "type": "integer"
           },
           {
            "metadata": {},
            "name": "Num_Students",
            "nullable": false,
            "type": "long"
           },
           {
            "metadata": {},
            "name": "Avg_Starting_Salary",
            "nullable": true,
            "type": "double"
           }
          ],
          "type": "struct"
         },
         "tableIdentifier": null,
         "typeStr": "pyspark.sql.connect.dataframe.DataFrame"
        }
       ],
       "dbfsResultPath": null,
       "isJsonSchema": true,
       "metadata": {
        "createTempViewForImplicitDf": true,
        "dataframeName": "_sqldf",
        "executionCount": 21
       },
       "overflow": false,
       "plotOptions": {
        "customPlotOptions": {},
        "displayType": "table",
        "pivotAggregation": null,
        "pivotColumns": null,
        "xColumns": null,
        "yColumns": null
       },
       "removedWidgets": [],
       "schema": [
        {
         "metadata": "{}",
         "name": "Internships_Completed",
         "type": "\"integer\""
        },
        {
         "metadata": "{}",
         "name": "Num_Students",
         "type": "\"long\""
        },
        {
         "metadata": "{}",
         "name": "Avg_Starting_Salary",
         "type": "\"double\""
        }
       ],
       "type": "table"
      }
     },
     "output_type": "display_data"
    }
   ],
   "source": [
    "SELECT \n",
    "    x.Internships_Completed,\n",
    "    COUNT(*) AS Num_Students,\n",
    "    AVG(c.Starting_Salary) AS Avg_Starting_Salary\n",
    "FROM \n",
    "    experience_info x\n",
    "JOIN \n",
    "    career_info c ON x.Student_ID = c.Student_ID\n",
    "GROUP BY \n",
    "    x.Internships_Completed\n",
    "ORDER BY \n",
    "    x.Internships_Completed;\n"
   ]
  },
  {
   "cell_type": "markdown",
   "metadata": {
    "application/vnd.databricks.v1+cell": {
     "cellMetadata": {
      "byteLimit": 2048000,
      "rowLimit": 10000
     },
     "inputWidgets": {},
     "nuid": "057fcf03-6ca1-47d7-bea3-c0e6ca5fe2ea",
     "showTitle": false,
     "tableResultSettingsMap": {},
     "title": ""
    }
   },
   "source": [
    "### Resolução do problema 4:\n",
    "Em consonância com a contagem, o agrupamento e a média calculados, foi possível obter o resultado mostrado na tabela acima para a análise do impacto do número de estágios concluídos no salário inicial dos estudantes. Observa-se que o número de estágios tem um impacto muito pequeno. Levando em consideração os resultados obtidos para estudantes que não realizaram nenhum estágio e para aqueles que fizeram até quatro estágios, a diferença é de apenas mil dólares anuais.\n"
   ]
  },
  {
   "cell_type": "markdown",
   "metadata": {
    "application/vnd.databricks.v1+cell": {
     "cellMetadata": {
      "byteLimit": 2048000,
      "rowLimit": 10000
     },
     "inputWidgets": {},
     "nuid": "cf561ad6-bd3d-4dfa-9506-988d7caca1be",
     "showTitle": false,
     "tableResultSettingsMap": {},
     "title": ""
    }
   },
   "source": [
    "### 5. Estudantes com pontuação alta em networking recebem mais ofertas de emprego?"
   ]
  },
  {
   "cell_type": "code",
   "execution_count": 0,
   "metadata": {
    "application/vnd.databricks.v1+cell": {
     "cellMetadata": {
      "byteLimit": 2048000,
      "rowLimit": 10000
     },
     "inputWidgets": {},
     "nuid": "277de309-07c9-4f8a-8842-4362dae4c028",
     "showTitle": false,
     "tableResultSettingsMap": {},
     "title": ""
    }
   },
   "outputs": [
    {
     "data": {
      "text/html": [
       "<style scoped>\n",
       "  .table-result-container {\n",
       "    max-height: 300px;\n",
       "    overflow: auto;\n",
       "  }\n",
       "  table, th, td {\n",
       "    border: 1px solid black;\n",
       "    border-collapse: collapse;\n",
       "  }\n",
       "  th, td {\n",
       "    padding: 5px;\n",
       "  }\n",
       "  th {\n",
       "    text-align: left;\n",
       "  }\n",
       "</style><div class='table-result-container'><table class='table-result'><thead style='background-color: white'><tr><th>Networking_Score</th><th>Avg_Job_Offers</th></tr></thead><tbody><tr><td>10</td><td>2.441955193482688</td></tr><tr><td>9</td><td>2.4694280078895465</td></tr><tr><td>8</td><td>2.5282651072124755</td></tr><tr><td>7</td><td>2.410204081632653</td></tr><tr><td>6</td><td>2.4816176470588234</td></tr><tr><td>5</td><td>2.416829745596869</td></tr><tr><td>4</td><td>2.572895277207392</td></tr><tr><td>3</td><td>2.527083333333333</td></tr><tr><td>2</td><td>2.4428857715430863</td></tr><tr><td>1</td><td>2.6046025104602513</td></tr></tbody></table></div>"
      ]
     },
     "metadata": {
      "application/vnd.databricks.v1+output": {
       "addedWidgets": {},
       "aggData": [],
       "aggError": "",
       "aggOverflow": false,
       "aggSchema": [],
       "aggSeriesLimitReached": false,
       "aggType": "",
       "arguments": {},
       "columnCustomDisplayInfos": {},
       "data": [
        [
         10,
         2.441955193482688
        ],
        [
         9,
         2.4694280078895465
        ],
        [
         8,
         2.5282651072124755
        ],
        [
         7,
         2.410204081632653
        ],
        [
         6,
         2.4816176470588234
        ],
        [
         5,
         2.416829745596869
        ],
        [
         4,
         2.572895277207392
        ],
        [
         3,
         2.527083333333333
        ],
        [
         2,
         2.4428857715430863
        ],
        [
         1,
         2.6046025104602513
        ]
       ],
       "datasetInfos": [
        {
         "name": "_sqldf",
         "schema": {
          "fields": [
           {
            "metadata": {},
            "name": "Networking_Score",
            "nullable": true,
            "type": "integer"
           },
           {
            "metadata": {},
            "name": "Avg_Job_Offers",
            "nullable": true,
            "type": "double"
           }
          ],
          "type": "struct"
         },
         "tableIdentifier": null,
         "typeStr": "pyspark.sql.connect.dataframe.DataFrame"
        }
       ],
       "dbfsResultPath": null,
       "isJsonSchema": true,
       "metadata": {
        "createTempViewForImplicitDf": true,
        "dataframeName": "_sqldf",
        "executionCount": 22
       },
       "overflow": false,
       "plotOptions": {
        "customPlotOptions": {},
        "displayType": "table",
        "pivotAggregation": null,
        "pivotColumns": null,
        "xColumns": null,
        "yColumns": null
       },
       "removedWidgets": [],
       "schema": [
        {
         "metadata": "{}",
         "name": "Networking_Score",
         "type": "\"integer\""
        },
        {
         "metadata": "{}",
         "name": "Avg_Job_Offers",
         "type": "\"double\""
        }
       ],
       "type": "table"
      }
     },
     "output_type": "display_data"
    }
   ],
   "source": [
    "SELECT \n",
    "    x.Networking_Score,\n",
    "    AVG(c.Job_Offers) AS Avg_Job_Offers\n",
    "FROM \n",
    "    experience_info x\n",
    "JOIN \n",
    "    career_info c ON x.Student_ID = c.Student_ID\n",
    "GROUP BY \n",
    "    x.Networking_Score\n",
    "ORDER BY \n",
    "    x.Networking_Score DESC;\n"
   ]
  },
  {
   "cell_type": "markdown",
   "metadata": {
    "application/vnd.databricks.v1+cell": {
     "cellMetadata": {
      "byteLimit": 2048000,
      "rowLimit": 10000
     },
     "inputWidgets": {},
     "nuid": "777574a4-f98d-4490-9c6f-84920f622d8e",
     "showTitle": false,
     "tableResultSettingsMap": {},
     "title": ""
    }
   },
   "source": [
    "### Resolução do problema 5:\n",
    "\n",
    "Conforme o resultado obtido na consulta com base no Networking Score e na média de ofertas de emprego, é possível observar que ter uma alta pontuação em networking profissional não necessariamente resulta em um maior número de ofertas. Isso porque os estudantes com a maior média de ofertas de emprego possuem uma pontuação de networking igual a 1 (a mais baixa possível).\n",
    "\n"
   ]
  },
  {
   "cell_type": "markdown",
   "metadata": {
    "application/vnd.databricks.v1+cell": {
     "cellMetadata": {
      "byteLimit": 2048000,
      "rowLimit": 10000
     },
     "inputWidgets": {},
     "nuid": "cde7081f-f92d-4b4b-ba67-f1b8ff0d83ac",
     "showTitle": false,
     "tableResultSettingsMap": {},
     "title": ""
    }
   },
   "source": [
    "## Discussão geral sobre a resolução de cada problema: \n",
    "\n",
    "De modo geral, mesmo considerando a escassez de dados, os resultados obtidos indicam que o sucesso profissional não depende de um único fator isolado, mas sim de um conjunto complexo de variáveis que interagem de forma não linear. Por outro lado, habilidades interpessoais e fatores comportamentais (soft skills, networking) se destacaram como diferenciais importantes, reforçando a necessidade de uma formação mais ampla e integrada, tanto no aspecto técnico quanto humano. Isso reforça a importância de uma formação mais ampla e integrada, que combine excelência técnica com o desenvolvimento de competências humanas, um equilíbrio cada vez mais essencial no mercado atual."
   ]
  },
  {
   "cell_type": "markdown",
   "metadata": {
    "application/vnd.databricks.v1+cell": {
     "cellMetadata": {
      "byteLimit": 2048000,
      "rowLimit": 10000
     },
     "inputWidgets": {},
     "nuid": "36b572a7-797d-4ac3-abcf-c189b6cad49c",
     "showTitle": false,
     "tableResultSettingsMap": {},
     "title": ""
    }
   },
   "source": [
    "# Autoavaliação\n",
    "\n",
    "O principal objetivo desta análise foi alcançado e tinha como base explorar a relação entre o desempenho acadêmico e o sucesso profissional de estudantes residentes nos Estados Unidos (EUA). Os principais desafios encontrados foram a escassez de dados e a interpretação de variáveis subjetivas. Métricas como soft skills e networking score envolvem certo grau de subjetividade, o que exige atenção redobrada na análise e interpretação. Ainda assim, a partir da construção de um banco de dados estruturado em três tabelas relacionais (education_info, experience_info, career_info) e da realização de consultas SQL analíticas, foi possível atingir com sucesso o objetivo definido inicialmente. As consultas permitiram identificar padrões relevantes, como a relação entre o GPA universitário e o tempo até a primeira promoção, o impacto limitado dos estágios sobre o salário inicial e a inesperada ausência de correlação direta entre a pontuação de networking e o número de ofertas de emprego.\n",
    "\n",
    "Nesta etapa da análise, foi utilizada exclusivamente a linguagem SQL. Para enriquecer e tornar o trabalho mais robusto futuramente, propõem-se as seguintes extensões:\n",
    "\n",
    "- Trabalhar com dados do Brasil (ou incluir uma seção comparativa) mostrando senso de realidade e aplicabilidade.\n",
    "\n",
    "- Replicar a análise com dados brasileiros, como os disponibilizados pelo INEP, IBGE, CAGED ou plataformas de mercado de trabalho, contextualizando os resultados à realidade nacional;\n",
    "\n",
    "- Utilizar linguagens como Python para aplicar técnicas de machine learning, desenvolvendo modelos preditivos para estimar o salário inicial ou o tempo até a promoção com base em múltiplos atributos;\n",
    "\n",
    "- Criar dashboards interativos com ferramentas como Power BI, Tableau ou Streamlit, permitindo explorar os dados de forma visual e dinâmica;\n",
    "\n",
    "- Propor um sistema de recomendação educacional, baseado em modelos que sugiram ações práticas para estudantes maximizarem seu sucesso profissional, com base nos padrões identificados nos dados.\n",
    "\n",
    "\n",
    "\n",
    "\n",
    "\n",
    "\n",
    "\n",
    "\n",
    "\n"
   ]
  }
 ],
 "metadata": {
  "application/vnd.databricks.v1+notebook": {
   "computePreferences": null,
   "dashboards": [],
   "environmentMetadata": {
    "base_environment": "",
    "environment_version": "2"
   },
   "inputWidgetPreferences": null,
   "language": "sql",
   "notebookMetadata": {
    "pythonIndentUnit": 4
   },
   "notebookName": "Notebook_Pipeline_Dados_DAVIS_DENNER",
   "widgets": {}
  },
  "language_info": {
   "name": "sql"
  }
 },
 "nbformat": 4,
 "nbformat_minor": 0
}
