{
 "cells": [
  {
   "cell_type": "markdown",
   "metadata": {
    "application/vnd.databricks.v1+cell": {
     "cellMetadata": {},
     "inputWidgets": {},
     "nuid": "d68d6402-730e-44c7-9f1c-69732d71c272",
     "showTitle": false,
     "tableResultSettingsMap": {},
     "title": ""
    }
   },
   "source": [
    "# Educação e sucesso profissional.\n",
    "\n",
    "A pipeline de dados constuída para esse projeto foi inspirada no arquivo [Education & Career Success](https://www.kaggle.com/datasets/adilshamim8/education-and-career-success) extraído do Kaggle. O arquivo que inicialmente continha apenas uma tabela, foi fragmentado em três tabelas disntintas para uma melhor análise e compreensão dos dados. Quanto a transformações e formatações, esses permanecem iguais aos dados originais.\n",
    "\n",
    "\n",
    "<img src=\"\" width=\"500\">\n",
    "\n",
    "\n",
    "\n",
    "\n"
   ]
  },
  {
   "cell_type": "markdown",
   "metadata": {
    "application/vnd.databricks.v1+cell": {
     "cellMetadata": {},
     "inputWidgets": {},
     "nuid": "9f860c70-19ef-49c7-a093-7fbc7a6983d6",
     "showTitle": false,
     "tableResultSettingsMap": {},
     "title": ""
    }
   },
   "source": [
    "**Objetivo**: Explorar a relação entre o desempenho acadêmico e o sucesso profissional de estudantes que moram nos Estados Unidos (EUA). Ao final dessa análise é esperado que seja possível responder todas as perguntas localiazadas logo abaixo.\n",
    "\n",
    "- Estudantes de universidades mais bem classificadas (university_ranking) ganham salários iniciais mais altos?\n",
    "- Quais fatores mais contribuem para um crescimento rápido na carreira (years_to_promotion)?\n",
    "- Estudantes de certas áreas (field_of_study) tem mais oportunidades de emprego do que outras?\n",
    "- O número de estágio conclúidos(interships_completed) tem impacto no salário inicial?\n",
    "- Estudantes com pontuação alta em networking (networking_score) recebem mais ofertas de emprego?\n"
   ]
  },
  {
   "cell_type": "code",
   "execution_count": 0,
   "metadata": {
    "application/vnd.databricks.v1+cell": {
     "cellMetadata": {
      "byteLimit": 2048000,
      "rowLimit": 10000
     },
     "inputWidgets": {},
     "nuid": "168d58a8-43dc-4005-87ea-b587a9b9d4ba",
     "showTitle": false,
     "tableResultSettingsMap": {},
     "title": ""
    }
   },
   "outputs": [],
   "source": [
    "CREATE TABLE IF NOT EXISTS education_info (\n",
    "    Student_ID VARCHAR(50) PRIMARY KEY,\n",
    "    Age INT,\n",
    "    Gender VARCHAR(10),\n",
    "    High_School_GPA FLOAT,\n",
    "    SAT_Score INT,\n",
    "    University_Ranking INT,\n",
    "    University_GPA FLOAT,\n",
    "    Field_of_Study VARCHAR(100)\n",
    ");\n",
    "\n",
    "   "
   ]
  },
  {
   "cell_type": "code",
   "execution_count": 0,
   "metadata": {
    "application/vnd.databricks.v1+cell": {
     "cellMetadata": {
      "byteLimit": 2048000,
      "rowLimit": 10000
     },
     "inputWidgets": {},
     "nuid": "6c2a9dd4-a8d2-4697-a4c3-074bc69104f9",
     "showTitle": false,
     "tableResultSettingsMap": {},
     "title": ""
    }
   },
   "outputs": [],
   "source": [
    "CREATE TABLE IF NOT EXISTS experience_info (\n",
    "    Student_ID VARCHAR(50),\n",
    "    Internships_Completed INT,\n",
    "    Projects_Completed INT,\n",
    "    Certifications INT,\n",
    "    Soft_Skills_Score INT,\n",
    "    Networking_Score INT,\n",
    "    CONSTRAINT fk_experience_student FOREIGN KEY (Student_ID) REFERENCES education_info(Student_ID)\n",
    ");\n"
   ]
  },
  {
   "cell_type": "code",
   "execution_count": 0,
   "metadata": {
    "application/vnd.databricks.v1+cell": {
     "cellMetadata": {
      "byteLimit": 2048000,
      "rowLimit": 10000
     },
     "inputWidgets": {},
     "nuid": "9efda626-a1e4-4113-b923-4511cd177aac",
     "showTitle": false,
     "tableResultSettingsMap": {},
     "title": ""
    }
   },
   "outputs": [],
   "source": [
    "CREATE TABLE IF NOT EXISTS career_info (\n",
    "    Student_ID VARCHAR(50),\n",
    "    Job_Offers INT,\n",
    "    Starting_Salary FLOAT,\n",
    "    Career_Satisfaction INT,\n",
    "    Years_to_Promotion INT,\n",
    "    Current_Job_Level VARCHAR(50),\n",
    "    Work_Life_Balance INT,\n",
    "    Entrepreneurship VARCHAR(50),\n",
    "    CONSTRAINT fk_career_student FOREIGN KEY (Student_ID) REFERENCES education_info(Student_ID)\n",
    ");\n",
    "\n",
    "\n",
    "   "
   ]
  }
 ],
 "metadata": {
  "application/vnd.databricks.v1+notebook": {
   "computePreferences": null,
   "dashboards": [],
   "environmentMetadata": {
    "base_environment": "",
    "environment_version": "2"
   },
   "language": "sql",
   "notebookMetadata": {},
   "notebookName": "MVP_TESTE_2",
   "widgets": {}
  },
  "language_info": {
   "name": "sql"
  }
 },
 "nbformat": 4,
 "nbformat_minor": 0
}
